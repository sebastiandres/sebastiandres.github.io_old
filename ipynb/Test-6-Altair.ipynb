{
 "cells": [
  {
   "cell_type": "markdown",
   "metadata": {},
   "source": [
    "Este notebook de jupyter lab contiene diversos graficos en Altair que se convierten automaticamente "
   ]
  },
  {
   "cell_type": "markdown",
   "metadata": {},
   "source": [
    "## 1 - Grafico simple"
   ]
  },
  {
   "cell_type": "code",
   "execution_count": 1,
   "metadata": {},
   "outputs": [
    {
     "data": {
      "application/vnd.vegalite.v2+json": {
       "$schema": "https://vega.github.io/schema/vega-lite/v2.json",
       "config": {
        "view": {
         "height": 300,
         "width": 400
        }
       },
       "data": {
        "values": [
         {
          "a": "A",
          "b": 28
         },
         {
          "a": "B",
          "b": 55
         },
         {
          "a": "C",
          "b": 43
         }
        ]
       },
       "encoding": {
        "x": {
         "field": "b",
         "type": "quantitative"
        },
        "y": {
         "field": "a",
         "type": "nominal"
        }
       },
       "mark": "bar"
      },
      "text/plain": [
       "<VegaLite 2 object>"
      ]
     },
     "execution_count": 1,
     "metadata": {},
     "output_type": "execute_result"
    }
   ],
   "source": [
    "from altair import Chart\n",
    "import pandas as pd\n",
    "\n",
    "data = pd.DataFrame({\n",
    "    'a': ['A', 'B', 'C'],\n",
    "    'b': [28, 55, 43]\n",
    "})\n",
    "\n",
    "chart = Chart(data).mark_bar().encode(\n",
    "    x='b',\n",
    "    y='a',\n",
    ")\n",
    "chart"
   ]
  },
  {
   "cell_type": "code",
   "execution_count": 3,
   "metadata": {},
   "outputs": [
    {
     "data": {
      "application/vnd.vegalite.v2+json": {
       "$schema": "https://vega.github.io/schema/vega-lite/v2.json",
       "config": {
        "view": {
         "height": 300,
         "width": 400
        }
       },
       "data": {
        "values": [
         {
          "a": "A",
          "b": 28
         },
         {
          "a": "B",
          "b": 55
         },
         {
          "a": "C",
          "b": 43
         }
        ]
       },
       "encoding": {
        "x": {
         "field": "a",
         "type": "nominal"
        },
        "y": {
         "field": "b",
         "type": "quantitative"
        }
       },
       "mark": "bar"
      },
      "text/plain": [
       "<VegaLite 2 object>"
      ]
     },
     "execution_count": 3,
     "metadata": {},
     "output_type": "execute_result"
    }
   ],
   "source": [
    "from altair import Chart\n",
    "import pandas as pd\n",
    "\n",
    "data = pd.DataFrame({\n",
    "    'a': ['A', 'B', 'C'],\n",
    "    'b': [28, 55, 43]\n",
    "})\n",
    "\n",
    "chart = Chart(data).mark_bar().encode(\n",
    "    x='a',\n",
    "    y='b',\n",
    ")\n",
    "chart"
   ]
  },
  {
   "cell_type": "markdown",
   "metadata": {},
   "source": [
    "## 2 - Grafico de datos de conjunto de Anscombe"
   ]
  },
  {
   "cell_type": "code",
   "execution_count": 2,
   "metadata": {},
   "outputs": [
    {
     "data": {
      "application/vnd.vegalite.v2+json": {
       "$schema": "https://vega.github.io/schema/vega-lite/v2.json",
       "config": {
        "view": {
         "height": 300,
         "width": 400
        }
       },
       "data": {
        "values": [
         {
          "Series": "I",
          "X": 10,
          "Y": 8.04
         },
         {
          "Series": "I",
          "X": 8,
          "Y": 6.95
         },
         {
          "Series": "I",
          "X": 13,
          "Y": 7.58
         },
         {
          "Series": "I",
          "X": 9,
          "Y": 8.81
         },
         {
          "Series": "I",
          "X": 11,
          "Y": 8.33
         },
         {
          "Series": "I",
          "X": 14,
          "Y": 9.96
         },
         {
          "Series": "I",
          "X": 6,
          "Y": 7.24
         },
         {
          "Series": "I",
          "X": 4,
          "Y": 4.26
         },
         {
          "Series": "I",
          "X": 12,
          "Y": 10.84
         },
         {
          "Series": "I",
          "X": 7,
          "Y": 4.8100000000000005
         },
         {
          "Series": "I",
          "X": 5,
          "Y": 5.68
         },
         {
          "Series": "II",
          "X": 10,
          "Y": 9.14
         },
         {
          "Series": "II",
          "X": 8,
          "Y": 8.14
         },
         {
          "Series": "II",
          "X": 13,
          "Y": 8.74
         },
         {
          "Series": "II",
          "X": 9,
          "Y": 8.77
         },
         {
          "Series": "II",
          "X": 11,
          "Y": 9.26
         },
         {
          "Series": "II",
          "X": 14,
          "Y": 8.1
         },
         {
          "Series": "II",
          "X": 6,
          "Y": 6.13
         },
         {
          "Series": "II",
          "X": 4,
          "Y": 3.1
         },
         {
          "Series": "II",
          "X": 12,
          "Y": 9.13
         },
         {
          "Series": "II",
          "X": 7,
          "Y": 7.26
         },
         {
          "Series": "II",
          "X": 5,
          "Y": 4.74
         },
         {
          "Series": "III",
          "X": 10,
          "Y": 7.46
         },
         {
          "Series": "III",
          "X": 8,
          "Y": 6.77
         },
         {
          "Series": "III",
          "X": 13,
          "Y": 12.74
         },
         {
          "Series": "III",
          "X": 9,
          "Y": 7.11
         },
         {
          "Series": "III",
          "X": 11,
          "Y": 7.8100000000000005
         },
         {
          "Series": "III",
          "X": 14,
          "Y": 8.84
         },
         {
          "Series": "III",
          "X": 6,
          "Y": 6.08
         },
         {
          "Series": "III",
          "X": 4,
          "Y": 5.39
         },
         {
          "Series": "III",
          "X": 12,
          "Y": 8.15
         },
         {
          "Series": "III",
          "X": 7,
          "Y": 6.42
         },
         {
          "Series": "III",
          "X": 5,
          "Y": 5.73
         },
         {
          "Series": "IV",
          "X": 8,
          "Y": 6.58
         },
         {
          "Series": "IV",
          "X": 8,
          "Y": 5.76
         },
         {
          "Series": "IV",
          "X": 8,
          "Y": 7.71
         },
         {
          "Series": "IV",
          "X": 8,
          "Y": 8.84
         },
         {
          "Series": "IV",
          "X": 8,
          "Y": 8.47
         },
         {
          "Series": "IV",
          "X": 8,
          "Y": 7.04
         },
         {
          "Series": "IV",
          "X": 8,
          "Y": 5.25
         },
         {
          "Series": "IV",
          "X": 19,
          "Y": 12.5
         },
         {
          "Series": "IV",
          "X": 8,
          "Y": 5.5600000000000005
         },
         {
          "Series": "IV",
          "X": 8,
          "Y": 7.91
         },
         {
          "Series": "IV",
          "X": 8,
          "Y": 6.89
         }
        ]
       },
       "encoding": {
        "column": {
         "field": "Series",
         "type": "nominal"
        },
        "x": {
         "field": "X",
         "scale": {
          "zero": false
         },
         "type": "quantitative"
        },
        "y": {
         "field": "Y",
         "scale": {
          "zero": false
         },
         "type": "quantitative"
        }
       },
       "height": 150,
       "mark": "circle",
       "width": 150
      },
      "text/plain": [
       "<VegaLite 2 object>"
      ]
     },
     "execution_count": 2,
     "metadata": {},
     "output_type": "execute_result"
    }
   ],
   "source": [
    "import altair as alt\n",
    "from vega_datasets import data\n",
    "\n",
    "anscombe = data.anscombe()\n",
    "\n",
    "chart = alt.Chart(anscombe).mark_circle().encode(\n",
    "    alt.X('X', scale=alt.Scale(zero=False)),\n",
    "    alt.Y('Y', scale=alt.Scale(zero=False)),\n",
    "    column='Series'\n",
    ").properties(\n",
    "    width=150,\n",
    "    height=150\n",
    ")\n",
    "chart"
   ]
  },
  {
   "cell_type": "markdown",
   "metadata": {},
   "source": [
    "## 3 - Grafico con display de valores"
   ]
  },
  {
   "cell_type": "code",
   "execution_count": 8,
   "metadata": {},
   "outputs": [
    {
     "data": {
      "application/vnd.vegalite.v2+json": {
       "$schema": "https://vega.github.io/schema/vega-lite/v2.json",
       "config": {
        "view": {
         "height": 300,
         "width": 400
        }
       },
       "data": {
        "values": [
         {
          "category": "A",
          "x": 0,
          "y": 0.5
         },
         {
          "category": "A",
          "x": 1,
          "y": 2.02
         },
         {
          "category": "A",
          "x": 2,
          "y": 3.6
         },
         {
          "category": "A",
          "x": 3,
          "y": 4.14
         },
         {
          "category": "A",
          "x": 4,
          "y": 4.38
         },
         {
          "category": "A",
          "x": 5,
          "y": 3.82
         },
         {
          "category": "A",
          "x": 6,
          "y": 2.91
         },
         {
          "category": "A",
          "x": 7,
          "y": 2.69
         },
         {
          "category": "A",
          "x": 8,
          "y": 2.14
         },
         {
          "category": "A",
          "x": 9,
          "y": 2.52
         },
         {
          "category": "A",
          "x": 10,
          "y": 1.92
         },
         {
          "category": "A",
          "x": 11,
          "y": 0.86
         },
         {
          "category": "A",
          "x": 12,
          "y": 1.07
         },
         {
          "category": "A",
          "x": 13,
          "y": 1.27
         },
         {
          "category": "A",
          "x": 14,
          "y": 1.15
         },
         {
          "category": "A",
          "x": 15,
          "y": 0.43
         },
         {
          "category": "A",
          "x": 16,
          "y": 0.77
         },
         {
          "category": "A",
          "x": 17,
          "y": 0.39
         },
         {
          "category": "A",
          "x": 18,
          "y": 1.42
         },
         {
          "category": "A",
          "x": 19,
          "y": 1.11
         },
         {
          "category": "A",
          "x": 20,
          "y": 0.63
         },
         {
          "category": "A",
          "x": 21,
          "y": -0.57
         },
         {
          "category": "A",
          "x": 22,
          "y": -0.64
         },
         {
          "category": "A",
          "x": 23,
          "y": -1.28
         },
         {
          "category": "A",
          "x": 24,
          "y": -1.32
         },
         {
          "category": "A",
          "x": 25,
          "y": -0.5
         },
         {
          "category": "A",
          "x": 26,
          "y": -0.4
         },
         {
          "category": "A",
          "x": 27,
          "y": -0.05
         },
         {
          "category": "A",
          "x": 28,
          "y": -0.86
         },
         {
          "category": "A",
          "x": 29,
          "y": -0.53
         },
         {
          "category": "A",
          "x": 30,
          "y": -0.43
         },
         {
          "category": "A",
          "x": 31,
          "y": -0.76
         },
         {
          "category": "A",
          "x": 32,
          "y": -0.46
         },
         {
          "category": "A",
          "x": 33,
          "y": -0.7
         },
         {
          "category": "A",
          "x": 34,
          "y": -1.04
         },
         {
          "category": "A",
          "x": 35,
          "y": -0.64
         },
         {
          "category": "A",
          "x": 36,
          "y": -0.38
         },
         {
          "category": "A",
          "x": 37,
          "y": -0.4
         },
         {
          "category": "A",
          "x": 38,
          "y": -0.6
         },
         {
          "category": "A",
          "x": 39,
          "y": -1.77
         },
         {
          "category": "A",
          "x": 40,
          "y": -0.97
         },
         {
          "category": "A",
          "x": 41,
          "y": -2.38
         },
         {
          "category": "A",
          "x": 42,
          "y": -3.37
         },
         {
          "category": "A",
          "x": 43,
          "y": -3.87
         },
         {
          "category": "A",
          "x": 44,
          "y": -4.93
         },
         {
          "category": "A",
          "x": 45,
          "y": -3.38
         },
         {
          "category": "A",
          "x": 46,
          "y": -2.57
         },
         {
          "category": "A",
          "x": 47,
          "y": -1.26
         },
         {
          "category": "A",
          "x": 48,
          "y": -1
         },
         {
          "category": "A",
          "x": 49,
          "y": -2.32
         },
         {
          "category": "A",
          "x": 50,
          "y": -2.07
         },
         {
          "category": "A",
          "x": 51,
          "y": -1.84
         },
         {
          "category": "A",
          "x": 52,
          "y": 0.03
         },
         {
          "category": "A",
          "x": 53,
          "y": 0.68
         },
         {
          "category": "A",
          "x": 54,
          "y": 1.84
         },
         {
          "category": "A",
          "x": 55,
          "y": 2.25
         },
         {
          "category": "A",
          "x": 56,
          "y": 2.01
         },
         {
          "category": "A",
          "x": 57,
          "y": 1.19
         },
         {
          "category": "A",
          "x": 58,
          "y": 1.47
         },
         {
          "category": "A",
          "x": 59,
          "y": 2.92
         },
         {
          "category": "A",
          "x": 60,
          "y": 3.55
         },
         {
          "category": "A",
          "x": 61,
          "y": 4.03
         },
         {
          "category": "A",
          "x": 62,
          "y": 4.5
         },
         {
          "category": "A",
          "x": 63,
          "y": 2.99
         },
         {
          "category": "A",
          "x": 64,
          "y": 3.2
         },
         {
          "category": "A",
          "x": 65,
          "y": 3.59
         },
         {
          "category": "A",
          "x": 66,
          "y": 3.65
         },
         {
          "category": "A",
          "x": 67,
          "y": 4.21
         },
         {
          "category": "A",
          "x": 68,
          "y": 2.83
         },
         {
          "category": "A",
          "x": 69,
          "y": 3.34
         },
         {
          "category": "A",
          "x": 70,
          "y": 3.92
         },
         {
          "category": "A",
          "x": 71,
          "y": 4.57
         },
         {
          "category": "A",
          "x": 72,
          "y": 3.79
         },
         {
          "category": "A",
          "x": 73,
          "y": 3.88
         },
         {
          "category": "A",
          "x": 74,
          "y": 4.56
         },
         {
          "category": "A",
          "x": 75,
          "y": 5.65
         },
         {
          "category": "A",
          "x": 76,
          "y": 4.94
         },
         {
          "category": "A",
          "x": 77,
          "y": 5.15
         },
         {
          "category": "A",
          "x": 78,
          "y": 7.3
         },
         {
          "category": "A",
          "x": 79,
          "y": 7.48
         },
         {
          "category": "A",
          "x": 80,
          "y": 6.69
         },
         {
          "category": "A",
          "x": 81,
          "y": 7.56
         },
         {
          "category": "A",
          "x": 82,
          "y": 7.08
         },
         {
          "category": "A",
          "x": 83,
          "y": 7.49
         },
         {
          "category": "A",
          "x": 84,
          "y": 9.61
         },
         {
          "category": "A",
          "x": 85,
          "y": 9.12
         },
         {
          "category": "A",
          "x": 86,
          "y": 9.57
         },
         {
          "category": "A",
          "x": 87,
          "y": 9.51
         },
         {
          "category": "A",
          "x": 88,
          "y": 9.26
         },
         {
          "category": "A",
          "x": 89,
          "y": 7.83
         },
         {
          "category": "A",
          "x": 90,
          "y": 9.27
         },
         {
          "category": "A",
          "x": 91,
          "y": 9.28
         },
         {
          "category": "A",
          "x": 92,
          "y": 9.48
         },
         {
          "category": "A",
          "x": 93,
          "y": 9.09
         },
         {
          "category": "A",
          "x": 94,
          "y": 10.68
         },
         {
          "category": "A",
          "x": 95,
          "y": 8.72
         },
         {
          "category": "A",
          "x": 96,
          "y": 9.01
         },
         {
          "category": "A",
          "x": 97,
          "y": 8.51
         },
         {
          "category": "A",
          "x": 98,
          "y": 8.87
         },
         {
          "category": "A",
          "x": 99,
          "y": 9.18
         },
         {
          "category": "B",
          "x": 0,
          "y": -0.14
         },
         {
          "category": "B",
          "x": 1,
          "y": -0.37
         },
         {
          "category": "B",
          "x": 2,
          "y": 0.4
         },
         {
          "category": "B",
          "x": 3,
          "y": -0.07
         },
         {
          "category": "B",
          "x": 4,
          "y": -1.98
         },
         {
          "category": "B",
          "x": 5,
          "y": -2.99
         },
         {
          "category": "B",
          "x": 6,
          "y": -4.41
         },
         {
          "category": "B",
          "x": 7,
          "y": -4.34
         },
         {
          "category": "B",
          "x": 8,
          "y": -4.23
         },
         {
          "category": "B",
          "x": 9,
          "y": -4.83
         },
         {
          "category": "B",
          "x": 10,
          "y": -2.98
         },
         {
          "category": "B",
          "x": 11,
          "y": -2.15
         },
         {
          "category": "B",
          "x": 12,
          "y": -4.11
         },
         {
          "category": "B",
          "x": 13,
          "y": -3.38
         },
         {
          "category": "B",
          "x": 14,
          "y": -3.68
         },
         {
          "category": "B",
          "x": 15,
          "y": -4.14
         },
         {
          "category": "B",
          "x": 16,
          "y": -5.9
         },
         {
          "category": "B",
          "x": 17,
          "y": -6.58
         },
         {
          "category": "B",
          "x": 18,
          "y": -5.65
         },
         {
          "category": "B",
          "x": 19,
          "y": -5.31
         },
         {
          "category": "B",
          "x": 20,
          "y": -5.5
         },
         {
          "category": "B",
          "x": 21,
          "y": -4.69
         },
         {
          "category": "B",
          "x": 22,
          "y": -3.68
         },
         {
          "category": "B",
          "x": 23,
          "y": -3.32
         },
         {
          "category": "B",
          "x": 24,
          "y": -1.76
         },
         {
          "category": "B",
          "x": 25,
          "y": -1.67
         },
         {
          "category": "B",
          "x": 26,
          "y": -3.66
         },
         {
          "category": "B",
          "x": 27,
          "y": -2.18
         },
         {
          "category": "B",
          "x": 28,
          "y": -2.68
         },
         {
          "category": "B",
          "x": 29,
          "y": -3.21
         },
         {
          "category": "B",
          "x": 30,
          "y": -2.24
         },
         {
          "category": "B",
          "x": 31,
          "y": -2.64
         },
         {
          "category": "B",
          "x": 32,
          "y": -2.37
         },
         {
          "category": "B",
          "x": 33,
          "y": -3.79
         },
         {
          "category": "B",
          "x": 34,
          "y": -4.59
         },
         {
          "category": "B",
          "x": 35,
          "y": -2.71
         },
         {
          "category": "B",
          "x": 36,
          "y": -2.78
         },
         {
          "category": "B",
          "x": 37,
          "y": -2.72
         },
         {
          "category": "B",
          "x": 38,
          "y": -2.42
         },
         {
          "category": "B",
          "x": 39,
          "y": -1.28
         },
         {
          "category": "B",
          "x": 40,
          "y": -2.19
         },
         {
          "category": "B",
          "x": 41,
          "y": -1.6
         },
         {
          "category": "B",
          "x": 42,
          "y": -2.16
         },
         {
          "category": "B",
          "x": 43,
          "y": -3.72
         },
         {
          "category": "B",
          "x": 44,
          "y": -3.24
         },
         {
          "category": "B",
          "x": 45,
          "y": -4.03
         },
         {
          "category": "B",
          "x": 46,
          "y": -5.26
         },
         {
          "category": "B",
          "x": 47,
          "y": -6.86
         },
         {
          "category": "B",
          "x": 48,
          "y": -6.08
         },
         {
          "category": "B",
          "x": 49,
          "y": -5.56
         },
         {
          "category": "B",
          "x": 50,
          "y": -5.21
         },
         {
          "category": "B",
          "x": 51,
          "y": -4.92
         },
         {
          "category": "B",
          "x": 52,
          "y": -4.45
         },
         {
          "category": "B",
          "x": 53,
          "y": -5.42
         },
         {
          "category": "B",
          "x": 54,
          "y": -6.24
         },
         {
          "category": "B",
          "x": 55,
          "y": -5.42
         },
         {
          "category": "B",
          "x": 56,
          "y": -6.17
         },
         {
          "category": "B",
          "x": 57,
          "y": -6.25
         },
         {
          "category": "B",
          "x": 58,
          "y": -5.42
         },
         {
          "category": "B",
          "x": 59,
          "y": -5.69
         },
         {
          "category": "B",
          "x": 60,
          "y": -6.55
         },
         {
          "category": "B",
          "x": 61,
          "y": -6.77
         },
         {
          "category": "B",
          "x": 62,
          "y": -6.84
         },
         {
          "category": "B",
          "x": 63,
          "y": -7.29
         },
         {
          "category": "B",
          "x": 64,
          "y": -8.53
         },
         {
          "category": "B",
          "x": 65,
          "y": -9.42
         },
         {
          "category": "B",
          "x": 66,
          "y": -10.56
         },
         {
          "category": "B",
          "x": 67,
          "y": -9.48
         },
         {
          "category": "B",
          "x": 68,
          "y": -10.42
         },
         {
          "category": "B",
          "x": 69,
          "y": -9.9
         },
         {
          "category": "B",
          "x": 70,
          "y": -8.76
         },
         {
          "category": "B",
          "x": 71,
          "y": -9.08
         },
         {
          "category": "B",
          "x": 72,
          "y": -9.32
         },
         {
          "category": "B",
          "x": 73,
          "y": -7
         },
         {
          "category": "B",
          "x": 74,
          "y": -8.61
         },
         {
          "category": "B",
          "x": 75,
          "y": -8.55
         },
         {
          "category": "B",
          "x": 76,
          "y": -7.87
         },
         {
          "category": "B",
          "x": 77,
          "y": -7.83
         },
         {
          "category": "B",
          "x": 78,
          "y": -7.19
         },
         {
          "category": "B",
          "x": 79,
          "y": -7.85
         },
         {
          "category": "B",
          "x": 80,
          "y": -7.97
         },
         {
          "category": "B",
          "x": 81,
          "y": -9.17
         },
         {
          "category": "B",
          "x": 82,
          "y": -9.82
         },
         {
          "category": "B",
          "x": 83,
          "y": -11.08
         },
         {
          "category": "B",
          "x": 84,
          "y": -10.05
         },
         {
          "category": "B",
          "x": 85,
          "y": -8.78
         },
         {
          "category": "B",
          "x": 86,
          "y": -8.01
         },
         {
          "category": "B",
          "x": 87,
          "y": -11.25
         },
         {
          "category": "B",
          "x": 88,
          "y": -12.5
         },
         {
          "category": "B",
          "x": 89,
          "y": -12.94
         },
         {
          "category": "B",
          "x": 90,
          "y": -14.37
         },
         {
          "category": "B",
          "x": 91,
          "y": -15.35
         },
         {
          "category": "B",
          "x": 92,
          "y": -15.96
         },
         {
          "category": "B",
          "x": 93,
          "y": -15.84
         },
         {
          "category": "B",
          "x": 94,
          "y": -17.08
         },
         {
          "category": "B",
          "x": 95,
          "y": -17.23
         },
         {
          "category": "B",
          "x": 96,
          "y": -17.85
         },
         {
          "category": "B",
          "x": 97,
          "y": -18.44
         },
         {
          "category": "B",
          "x": 98,
          "y": -19.14
         },
         {
          "category": "B",
          "x": 99,
          "y": -18.32
         },
         {
          "category": "C",
          "x": 0,
          "y": 0.65
         },
         {
          "category": "C",
          "x": 1,
          "y": 0.41
         },
         {
          "category": "C",
          "x": 2,
          "y": -0.06
         },
         {
          "category": "C",
          "x": 3,
          "y": -0.52
         },
         {
          "category": "C",
          "x": 4,
          "y": -2.25
         },
         {
          "category": "C",
          "x": 5,
          "y": -1.93
         },
         {
          "category": "C",
          "x": 6,
          "y": -0.47
         },
         {
          "category": "C",
          "x": 7,
          "y": -1.89
         },
         {
          "category": "C",
          "x": 8,
          "y": -3.04
         },
         {
          "category": "C",
          "x": 9,
          "y": -3.33
         },
         {
          "category": "C",
          "x": 10,
          "y": -3.35
         },
         {
          "category": "C",
          "x": 11,
          "y": -4.57
         },
         {
          "category": "C",
          "x": 12,
          "y": -5.9
         },
         {
          "category": "C",
          "x": 13,
          "y": -5.73
         },
         {
          "category": "C",
          "x": 14,
          "y": -7.2
         },
         {
          "category": "C",
          "x": 15,
          "y": -6.15
         },
         {
          "category": "C",
          "x": 16,
          "y": -5.82
         },
         {
          "category": "C",
          "x": 17,
          "y": -5.21
         },
         {
          "category": "C",
          "x": 18,
          "y": -6.05
         },
         {
          "category": "C",
          "x": 19,
          "y": -5.07
         },
         {
          "category": "C",
          "x": 20,
          "y": -6.18
         },
         {
          "category": "C",
          "x": 21,
          "y": -4.82
         },
         {
          "category": "C",
          "x": 22,
          "y": -4.46
         },
         {
          "category": "C",
          "x": 23,
          "y": -2.93
         },
         {
          "category": "C",
          "x": 24,
          "y": -5.54
         },
         {
          "category": "C",
          "x": 25,
          "y": -5.84
         },
         {
          "category": "C",
          "x": 26,
          "y": -6.06
         },
         {
          "category": "C",
          "x": 27,
          "y": -6.58
         },
         {
          "category": "C",
          "x": 28,
          "y": -5.67
         },
         {
          "category": "C",
          "x": 29,
          "y": -5.15
         },
         {
          "category": "C",
          "x": 30,
          "y": -5.86
         },
         {
          "category": "C",
          "x": 31,
          "y": -7.32
         },
         {
          "category": "C",
          "x": 32,
          "y": -7.31
         },
         {
          "category": "C",
          "x": 33,
          "y": -7.73
         },
         {
          "category": "C",
          "x": 34,
          "y": -7.9
         },
         {
          "category": "C",
          "x": 35,
          "y": -7.72
         },
         {
          "category": "C",
          "x": 36,
          "y": -9.64
         },
         {
          "category": "C",
          "x": 37,
          "y": -7.18
         },
         {
          "category": "C",
          "x": 38,
          "y": -7.21
         },
         {
          "category": "C",
          "x": 39,
          "y": -6.46
         },
         {
          "category": "C",
          "x": 40,
          "y": -5.06
         },
         {
          "category": "C",
          "x": 41,
          "y": -2.87
         },
         {
          "category": "C",
          "x": 42,
          "y": -2.77
         },
         {
          "category": "C",
          "x": 43,
          "y": -2.7
         },
         {
          "category": "C",
          "x": 44,
          "y": -3.62
         },
         {
          "category": "C",
          "x": 45,
          "y": -3.94
         },
         {
          "category": "C",
          "x": 46,
          "y": -3.71
         },
         {
          "category": "C",
          "x": 47,
          "y": -3.53
         },
         {
          "category": "C",
          "x": 48,
          "y": -4.76
         },
         {
          "category": "C",
          "x": 49,
          "y": -4.47
         },
         {
          "category": "C",
          "x": 50,
          "y": -5.15
         },
         {
          "category": "C",
          "x": 51,
          "y": -5.86
         },
         {
          "category": "C",
          "x": 52,
          "y": -7.05
         },
         {
          "category": "C",
          "x": 53,
          "y": -6.27
         },
         {
          "category": "C",
          "x": 54,
          "y": -5.3
         },
         {
          "category": "C",
          "x": 55,
          "y": -3.41
         },
         {
          "category": "C",
          "x": 56,
          "y": -4.29
         },
         {
          "category": "C",
          "x": 57,
          "y": -3.95
         },
         {
          "category": "C",
          "x": 58,
          "y": -3.94
         },
         {
          "category": "C",
          "x": 59,
          "y": -1.22
         },
         {
          "category": "C",
          "x": 60,
          "y": -2.29
         },
         {
          "category": "C",
          "x": 61,
          "y": -1.58
         },
         {
          "category": "C",
          "x": 62,
          "y": -2.42
         },
         {
          "category": "C",
          "x": 63,
          "y": -1.57
         },
         {
          "category": "C",
          "x": 64,
          "y": -1.39
         },
         {
          "category": "C",
          "x": 65,
          "y": -1.24
         },
         {
          "category": "C",
          "x": 66,
          "y": -0.88
         },
         {
          "category": "C",
          "x": 67,
          "y": 0.17
         },
         {
          "category": "C",
          "x": 68,
          "y": 0.69
         },
         {
          "category": "C",
          "x": 69,
          "y": 4.54
         },
         {
          "category": "C",
          "x": 70,
          "y": 5.49
         },
         {
          "category": "C",
          "x": 71,
          "y": 6.25
         },
         {
          "category": "C",
          "x": 72,
          "y": 5.77
         },
         {
          "category": "C",
          "x": 73,
          "y": 3.9
         },
         {
          "category": "C",
          "x": 74,
          "y": 3.43
         },
         {
          "category": "C",
          "x": 75,
          "y": 2.35
         },
         {
          "category": "C",
          "x": 76,
          "y": 1.62
         },
         {
          "category": "C",
          "x": 77,
          "y": 0.97
         },
         {
          "category": "C",
          "x": 78,
          "y": -1.06
         },
         {
          "category": "C",
          "x": 79,
          "y": -0.21
         },
         {
          "category": "C",
          "x": 80,
          "y": 0.3
         },
         {
          "category": "C",
          "x": 81,
          "y": -0.04
         },
         {
          "category": "C",
          "x": 82,
          "y": 1.73
         },
         {
          "category": "C",
          "x": 83,
          "y": 2.65
         },
         {
          "category": "C",
          "x": 84,
          "y": 1.13
         },
         {
          "category": "C",
          "x": 85,
          "y": 0.42
         },
         {
          "category": "C",
          "x": 86,
          "y": -0.51
         },
         {
          "category": "C",
          "x": 87,
          "y": -1.53
         },
         {
          "category": "C",
          "x": 88,
          "y": 0.1
         },
         {
          "category": "C",
          "x": 89,
          "y": 0.23
         },
         {
          "category": "C",
          "x": 90,
          "y": 1.4
         },
         {
          "category": "C",
          "x": 91,
          "y": 1.86
         },
         {
          "category": "C",
          "x": 92,
          "y": 1.93
         },
         {
          "category": "C",
          "x": 93,
          "y": 2.59
         },
         {
          "category": "C",
          "x": 94,
          "y": 4.72
         },
         {
          "category": "C",
          "x": 95,
          "y": 5.31
         },
         {
          "category": "C",
          "x": 96,
          "y": 5.1
         },
         {
          "category": "C",
          "x": 97,
          "y": 5.95
         },
         {
          "category": "C",
          "x": 98,
          "y": 6.85
         },
         {
          "category": "C",
          "x": 99,
          "y": 7.48
         }
        ]
       },
       "height": 300,
       "layer": [
        {
         "encoding": {
          "color": {
           "field": "category",
           "type": "nominal"
          },
          "x": {
           "field": "x",
           "type": "quantitative"
          },
          "y": {
           "field": "y",
           "type": "quantitative"
          }
         },
         "mark": {
          "interpolate": "basis",
          "type": "line"
         }
        },
        {
         "encoding": {
          "opacity": {
           "value": 0
          },
          "x": {
           "field": "x",
           "type": "quantitative"
          }
         },
         "mark": "point",
         "selection": {
          "selector003": {
           "empty": "none",
           "fields": [
            "x"
           ],
           "nearest": true,
           "on": "mouseover",
           "resolve": "global",
           "type": "single"
          }
         }
        },
        {
         "encoding": {
          "color": {
           "field": "category",
           "type": "nominal"
          },
          "opacity": {
           "condition": {
            "selection": "selector003",
            "value": 1
           },
           "value": 0
          },
          "x": {
           "field": "x",
           "type": "quantitative"
          },
          "y": {
           "field": "y",
           "type": "quantitative"
          }
         },
         "mark": "point"
        },
        {
         "encoding": {
          "x": {
           "field": "x",
           "type": "quantitative"
          }
         },
         "mark": {
          "color": "gray",
          "type": "rule"
         },
         "transform": [
          {
           "filter": {
            "selection": "selector003"
           }
          }
         ]
        },
        {
         "encoding": {
          "color": {
           "field": "category",
           "type": "nominal"
          },
          "text": {
           "condition": {
            "field": "y",
            "selection": "selector003",
            "type": "quantitative"
           },
           "value": " "
          },
          "x": {
           "field": "x",
           "type": "quantitative"
          },
          "y": {
           "field": "y",
           "type": "quantitative"
          }
         },
         "mark": {
          "align": "left",
          "dx": 5,
          "dy": -5,
          "type": "text"
         }
        }
       ],
       "width": 600
      },
      "text/plain": [
       "<VegaLite 2 object>"
      ]
     },
     "execution_count": 8,
     "metadata": {},
     "output_type": "execute_result"
    }
   ],
   "source": [
    "import altair as alt\n",
    "import pandas as pd\n",
    "import numpy as np\n",
    "\n",
    "np.random.seed(42)\n",
    "data = pd.DataFrame(np.cumsum(np.random.randn(100, 3), 0).round(2),\n",
    "                    columns=['A', 'B', 'C'], index=pd.RangeIndex(100, name='x'))\n",
    "data = data.reset_index().melt('x', var_name='category', value_name='y')\n",
    "\n",
    "# Create a selection that chooses the nearest point & selects based on x-value\n",
    "nearest = alt.selection(type='single', nearest=True, on='mouseover',\n",
    "                        fields=['x'], empty='none')\n",
    "\n",
    "# The basic line\n",
    "line = alt.Chart().mark_line(interpolate='basis').encode(\n",
    "    x='x:Q',\n",
    "    y='y:Q',\n",
    "    color='category:N'\n",
    ")\n",
    "\n",
    "# Transparent selectors across the chart. This is what tells us\n",
    "# the x-value of the cursor\n",
    "selectors = alt.Chart().mark_point().encode(\n",
    "    x='x:Q',\n",
    "    opacity=alt.value(0),\n",
    ").properties(\n",
    "    selection=nearest\n",
    ")\n",
    "\n",
    "# Draw points on the line, and highlight based on selection\n",
    "points = line.mark_point().encode(\n",
    "    opacity=alt.condition(nearest, alt.value(1), alt.value(0))\n",
    ")\n",
    "\n",
    "# Draw text labels near the points, and highlight based on selection\n",
    "text = line.mark_text(align='left', dx=5, dy=-5).encode(\n",
    "    text=alt.condition(nearest, 'y:Q', alt.value(' '))\n",
    ")\n",
    "\n",
    "# Draw a rule at the location of the selection\n",
    "rules = alt.Chart().mark_rule(color='gray').encode(\n",
    "    x='x:Q',\n",
    ").transform_filter(\n",
    "    nearest.ref()\n",
    ")\n",
    "\n",
    "# Put the five layers into a chart and bind the data\n",
    "chart = alt.layer(line, selectors, points, rules, text,\n",
    "                  data=data, width=600, height=300)\n",
    "chart"
   ]
  },
  {
   "cell_type": "markdown",
   "metadata": {},
   "source": [
    "## 4 - Graficos Vinculados"
   ]
  },
  {
   "cell_type": "code",
   "execution_count": 9,
   "metadata": {},
   "outputs": [
    {
     "data": {
      "application/vnd.vegalite.v2+json": {
       "$schema": "https://vega.github.io/schema/vega-lite/v2.json",
       "config": {
        "view": {
         "height": 300,
         "width": 400
        }
       },
       "hconcat": [
        {
         "data": {
          "values": [
           {
            "Acceleration": 12,
            "Cylinders": 8,
            "Displacement": 307,
            "Horsepower": 130,
            "Miles_per_Gallon": 18,
            "Name": "chevrolet chevelle malibu",
            "Origin": "USA",
            "Weight_in_lbs": 3504,
            "Year": "1970-01-01"
           },
           {
            "Acceleration": 11.5,
            "Cylinders": 8,
            "Displacement": 350,
            "Horsepower": 165,
            "Miles_per_Gallon": 15,
            "Name": "buick skylark 320",
            "Origin": "USA",
            "Weight_in_lbs": 3693,
            "Year": "1970-01-01"
           },
           {
            "Acceleration": 11,
            "Cylinders": 8,
            "Displacement": 318,
            "Horsepower": 150,
            "Miles_per_Gallon": 18,
            "Name": "plymouth satellite",
            "Origin": "USA",
            "Weight_in_lbs": 3436,
            "Year": "1970-01-01"
           },
           {
            "Acceleration": 12,
            "Cylinders": 8,
            "Displacement": 304,
            "Horsepower": 150,
            "Miles_per_Gallon": 16,
            "Name": "amc rebel sst",
            "Origin": "USA",
            "Weight_in_lbs": 3433,
            "Year": "1970-01-01"
           },
           {
            "Acceleration": 10.5,
            "Cylinders": 8,
            "Displacement": 302,
            "Horsepower": 140,
            "Miles_per_Gallon": 17,
            "Name": "ford torino",
            "Origin": "USA",
            "Weight_in_lbs": 3449,
            "Year": "1970-01-01"
           },
           {
            "Acceleration": 10,
            "Cylinders": 8,
            "Displacement": 429,
            "Horsepower": 198,
            "Miles_per_Gallon": 15,
            "Name": "ford galaxie 500",
            "Origin": "USA",
            "Weight_in_lbs": 4341,
            "Year": "1970-01-01"
           },
           {
            "Acceleration": 9,
            "Cylinders": 8,
            "Displacement": 454,
            "Horsepower": 220,
            "Miles_per_Gallon": 14,
            "Name": "chevrolet impala",
            "Origin": "USA",
            "Weight_in_lbs": 4354,
            "Year": "1970-01-01"
           },
           {
            "Acceleration": 8.5,
            "Cylinders": 8,
            "Displacement": 440,
            "Horsepower": 215,
            "Miles_per_Gallon": 14,
            "Name": "plymouth fury iii",
            "Origin": "USA",
            "Weight_in_lbs": 4312,
            "Year": "1970-01-01"
           },
           {
            "Acceleration": 10,
            "Cylinders": 8,
            "Displacement": 455,
            "Horsepower": 225,
            "Miles_per_Gallon": 14,
            "Name": "pontiac catalina",
            "Origin": "USA",
            "Weight_in_lbs": 4425,
            "Year": "1970-01-01"
           },
           {
            "Acceleration": 8.5,
            "Cylinders": 8,
            "Displacement": 390,
            "Horsepower": 190,
            "Miles_per_Gallon": 15,
            "Name": "amc ambassador dpl",
            "Origin": "USA",
            "Weight_in_lbs": 3850,
            "Year": "1970-01-01"
           },
           {
            "Acceleration": 17.5,
            "Cylinders": 4,
            "Displacement": 133,
            "Horsepower": 115,
            "Miles_per_Gallon": null,
            "Name": "citroen ds-21 pallas",
            "Origin": "Europe",
            "Weight_in_lbs": 3090,
            "Year": "1970-01-01"
           },
           {
            "Acceleration": 11.5,
            "Cylinders": 8,
            "Displacement": 350,
            "Horsepower": 165,
            "Miles_per_Gallon": null,
            "Name": "chevrolet chevelle concours (sw)",
            "Origin": "USA",
            "Weight_in_lbs": 4142,
            "Year": "1970-01-01"
           },
           {
            "Acceleration": 11,
            "Cylinders": 8,
            "Displacement": 351,
            "Horsepower": 153,
            "Miles_per_Gallon": null,
            "Name": "ford torino (sw)",
            "Origin": "USA",
            "Weight_in_lbs": 4034,
            "Year": "1970-01-01"
           },
           {
            "Acceleration": 10.5,
            "Cylinders": 8,
            "Displacement": 383,
            "Horsepower": 175,
            "Miles_per_Gallon": null,
            "Name": "plymouth satellite (sw)",
            "Origin": "USA",
            "Weight_in_lbs": 4166,
            "Year": "1970-01-01"
           },
           {
            "Acceleration": 11,
            "Cylinders": 8,
            "Displacement": 360,
            "Horsepower": 175,
            "Miles_per_Gallon": null,
            "Name": "amc rebel sst (sw)",
            "Origin": "USA",
            "Weight_in_lbs": 3850,
            "Year": "1970-01-01"
           },
           {
            "Acceleration": 10,
            "Cylinders": 8,
            "Displacement": 383,
            "Horsepower": 170,
            "Miles_per_Gallon": 15,
            "Name": "dodge challenger se",
            "Origin": "USA",
            "Weight_in_lbs": 3563,
            "Year": "1970-01-01"
           },
           {
            "Acceleration": 8,
            "Cylinders": 8,
            "Displacement": 340,
            "Horsepower": 160,
            "Miles_per_Gallon": 14,
            "Name": "plymouth 'cuda 340",
            "Origin": "USA",
            "Weight_in_lbs": 3609,
            "Year": "1970-01-01"
           },
           {
            "Acceleration": 8,
            "Cylinders": 8,
            "Displacement": 302,
            "Horsepower": 140,
            "Miles_per_Gallon": null,
            "Name": "ford mustang boss 302",
            "Origin": "USA",
            "Weight_in_lbs": 3353,
            "Year": "1970-01-01"
           },
           {
            "Acceleration": 9.5,
            "Cylinders": 8,
            "Displacement": 400,
            "Horsepower": 150,
            "Miles_per_Gallon": 15,
            "Name": "chevrolet monte carlo",
            "Origin": "USA",
            "Weight_in_lbs": 3761,
            "Year": "1970-01-01"
           },
           {
            "Acceleration": 10,
            "Cylinders": 8,
            "Displacement": 455,
            "Horsepower": 225,
            "Miles_per_Gallon": 14,
            "Name": "buick estate wagon (sw)",
            "Origin": "USA",
            "Weight_in_lbs": 3086,
            "Year": "1970-01-01"
           },
           {
            "Acceleration": 15,
            "Cylinders": 4,
            "Displacement": 113,
            "Horsepower": 95,
            "Miles_per_Gallon": 24,
            "Name": "toyota corona mark ii",
            "Origin": "Japan",
            "Weight_in_lbs": 2372,
            "Year": "1970-01-01"
           },
           {
            "Acceleration": 15.5,
            "Cylinders": 6,
            "Displacement": 198,
            "Horsepower": 95,
            "Miles_per_Gallon": 22,
            "Name": "plymouth duster",
            "Origin": "USA",
            "Weight_in_lbs": 2833,
            "Year": "1970-01-01"
           },
           {
            "Acceleration": 15.5,
            "Cylinders": 6,
            "Displacement": 199,
            "Horsepower": 97,
            "Miles_per_Gallon": 18,
            "Name": "amc hornet",
            "Origin": "USA",
            "Weight_in_lbs": 2774,
            "Year": "1970-01-01"
           },
           {
            "Acceleration": 16,
            "Cylinders": 6,
            "Displacement": 200,
            "Horsepower": 85,
            "Miles_per_Gallon": 21,
            "Name": "ford maverick",
            "Origin": "USA",
            "Weight_in_lbs": 2587,
            "Year": "1970-01-01"
           },
           {
            "Acceleration": 14.5,
            "Cylinders": 4,
            "Displacement": 97,
            "Horsepower": 88,
            "Miles_per_Gallon": 27,
            "Name": "datsun pl510",
            "Origin": "Japan",
            "Weight_in_lbs": 2130,
            "Year": "1970-01-01"
           },
           {
            "Acceleration": 20.5,
            "Cylinders": 4,
            "Displacement": 97,
            "Horsepower": 46,
            "Miles_per_Gallon": 26,
            "Name": "volkswagen 1131 deluxe sedan",
            "Origin": "Europe",
            "Weight_in_lbs": 1835,
            "Year": "1970-01-01"
           },
           {
            "Acceleration": 17.5,
            "Cylinders": 4,
            "Displacement": 110,
            "Horsepower": 87,
            "Miles_per_Gallon": 25,
            "Name": "peugeot 504",
            "Origin": "Europe",
            "Weight_in_lbs": 2672,
            "Year": "1970-01-01"
           },
           {
            "Acceleration": 14.5,
            "Cylinders": 4,
            "Displacement": 107,
            "Horsepower": 90,
            "Miles_per_Gallon": 24,
            "Name": "audi 100 ls",
            "Origin": "Europe",
            "Weight_in_lbs": 2430,
            "Year": "1970-01-01"
           },
           {
            "Acceleration": 17.5,
            "Cylinders": 4,
            "Displacement": 104,
            "Horsepower": 95,
            "Miles_per_Gallon": 25,
            "Name": "saab 99e",
            "Origin": "Europe",
            "Weight_in_lbs": 2375,
            "Year": "1970-01-01"
           },
           {
            "Acceleration": 12.5,
            "Cylinders": 4,
            "Displacement": 121,
            "Horsepower": 113,
            "Miles_per_Gallon": 26,
            "Name": "bmw 2002",
            "Origin": "Europe",
            "Weight_in_lbs": 2234,
            "Year": "1970-01-01"
           },
           {
            "Acceleration": 15,
            "Cylinders": 6,
            "Displacement": 199,
            "Horsepower": 90,
            "Miles_per_Gallon": 21,
            "Name": "amc gremlin",
            "Origin": "USA",
            "Weight_in_lbs": 2648,
            "Year": "1970-01-01"
           },
           {
            "Acceleration": 14,
            "Cylinders": 8,
            "Displacement": 360,
            "Horsepower": 215,
            "Miles_per_Gallon": 10,
            "Name": "ford f250",
            "Origin": "USA",
            "Weight_in_lbs": 4615,
            "Year": "1970-01-01"
           },
           {
            "Acceleration": 15,
            "Cylinders": 8,
            "Displacement": 307,
            "Horsepower": 200,
            "Miles_per_Gallon": 10,
            "Name": "chevy c20",
            "Origin": "USA",
            "Weight_in_lbs": 4376,
            "Year": "1970-01-01"
           },
           {
            "Acceleration": 13.5,
            "Cylinders": 8,
            "Displacement": 318,
            "Horsepower": 210,
            "Miles_per_Gallon": 11,
            "Name": "dodge d200",
            "Origin": "USA",
            "Weight_in_lbs": 4382,
            "Year": "1970-01-01"
           },
           {
            "Acceleration": 18.5,
            "Cylinders": 8,
            "Displacement": 304,
            "Horsepower": 193,
            "Miles_per_Gallon": 9,
            "Name": "hi 1200d",
            "Origin": "USA",
            "Weight_in_lbs": 4732,
            "Year": "1970-01-01"
           },
           {
            "Acceleration": 14.5,
            "Cylinders": 4,
            "Displacement": 97,
            "Horsepower": 88,
            "Miles_per_Gallon": 27,
            "Name": "datsun pl510",
            "Origin": "Japan",
            "Weight_in_lbs": 2130,
            "Year": "1971-01-01"
           },
           {
            "Acceleration": 15.5,
            "Cylinders": 4,
            "Displacement": 140,
            "Horsepower": 90,
            "Miles_per_Gallon": 28,
            "Name": "chevrolet vega 2300",
            "Origin": "USA",
            "Weight_in_lbs": 2264,
            "Year": "1971-01-01"
           },
           {
            "Acceleration": 14,
            "Cylinders": 4,
            "Displacement": 113,
            "Horsepower": 95,
            "Miles_per_Gallon": 25,
            "Name": "toyota corona",
            "Origin": "Japan",
            "Weight_in_lbs": 2228,
            "Year": "1971-01-01"
           },
           {
            "Acceleration": 19,
            "Cylinders": 4,
            "Displacement": 98,
            "Horsepower": null,
            "Miles_per_Gallon": 25,
            "Name": "ford pinto",
            "Origin": "USA",
            "Weight_in_lbs": 2046,
            "Year": "1971-01-01"
           },
           {
            "Acceleration": 20,
            "Cylinders": 4,
            "Displacement": 97,
            "Horsepower": 48,
            "Miles_per_Gallon": null,
            "Name": "volkswagen super beetle 117",
            "Origin": "Europe",
            "Weight_in_lbs": 1978,
            "Year": "1971-01-01"
           },
           {
            "Acceleration": 13,
            "Cylinders": 6,
            "Displacement": 232,
            "Horsepower": 100,
            "Miles_per_Gallon": 19,
            "Name": "amc gremlin",
            "Origin": "USA",
            "Weight_in_lbs": 2634,
            "Year": "1971-01-01"
           },
           {
            "Acceleration": 15.5,
            "Cylinders": 6,
            "Displacement": 225,
            "Horsepower": 105,
            "Miles_per_Gallon": 16,
            "Name": "plymouth satellite custom",
            "Origin": "USA",
            "Weight_in_lbs": 3439,
            "Year": "1971-01-01"
           },
           {
            "Acceleration": 15.5,
            "Cylinders": 6,
            "Displacement": 250,
            "Horsepower": 100,
            "Miles_per_Gallon": 17,
            "Name": "chevrolet chevelle malibu",
            "Origin": "USA",
            "Weight_in_lbs": 3329,
            "Year": "1971-01-01"
           },
           {
            "Acceleration": 15.5,
            "Cylinders": 6,
            "Displacement": 250,
            "Horsepower": 88,
            "Miles_per_Gallon": 19,
            "Name": "ford torino 500",
            "Origin": "USA",
            "Weight_in_lbs": 3302,
            "Year": "1971-01-01"
           },
           {
            "Acceleration": 15.5,
            "Cylinders": 6,
            "Displacement": 232,
            "Horsepower": 100,
            "Miles_per_Gallon": 18,
            "Name": "amc matador",
            "Origin": "USA",
            "Weight_in_lbs": 3288,
            "Year": "1971-01-01"
           },
           {
            "Acceleration": 12,
            "Cylinders": 8,
            "Displacement": 350,
            "Horsepower": 165,
            "Miles_per_Gallon": 14,
            "Name": "chevrolet impala",
            "Origin": "USA",
            "Weight_in_lbs": 4209,
            "Year": "1971-01-01"
           },
           {
            "Acceleration": 11.5,
            "Cylinders": 8,
            "Displacement": 400,
            "Horsepower": 175,
            "Miles_per_Gallon": 14,
            "Name": "pontiac catalina brougham",
            "Origin": "USA",
            "Weight_in_lbs": 4464,
            "Year": "1971-01-01"
           },
           {
            "Acceleration": 13.5,
            "Cylinders": 8,
            "Displacement": 351,
            "Horsepower": 153,
            "Miles_per_Gallon": 14,
            "Name": "ford galaxie 500",
            "Origin": "USA",
            "Weight_in_lbs": 4154,
            "Year": "1971-01-01"
           },
           {
            "Acceleration": 13,
            "Cylinders": 8,
            "Displacement": 318,
            "Horsepower": 150,
            "Miles_per_Gallon": 14,
            "Name": "plymouth fury iii",
            "Origin": "USA",
            "Weight_in_lbs": 4096,
            "Year": "1971-01-01"
           },
           {
            "Acceleration": 11.5,
            "Cylinders": 8,
            "Displacement": 383,
            "Horsepower": 180,
            "Miles_per_Gallon": 12,
            "Name": "dodge monaco (sw)",
            "Origin": "USA",
            "Weight_in_lbs": 4955,
            "Year": "1971-01-01"
           },
           {
            "Acceleration": 12,
            "Cylinders": 8,
            "Displacement": 400,
            "Horsepower": 170,
            "Miles_per_Gallon": 13,
            "Name": "ford country squire (sw)",
            "Origin": "USA",
            "Weight_in_lbs": 4746,
            "Year": "1971-01-01"
           },
           {
            "Acceleration": 12,
            "Cylinders": 8,
            "Displacement": 400,
            "Horsepower": 175,
            "Miles_per_Gallon": 13,
            "Name": "pontiac safari (sw)",
            "Origin": "USA",
            "Weight_in_lbs": 5140,
            "Year": "1971-01-01"
           },
           {
            "Acceleration": 13.5,
            "Cylinders": 6,
            "Displacement": 258,
            "Horsepower": 110,
            "Miles_per_Gallon": 18,
            "Name": "amc hornet sportabout (sw)",
            "Origin": "USA",
            "Weight_in_lbs": 2962,
            "Year": "1971-01-01"
           },
           {
            "Acceleration": 19,
            "Cylinders": 4,
            "Displacement": 140,
            "Horsepower": 72,
            "Miles_per_Gallon": 22,
            "Name": "chevrolet vega (sw)",
            "Origin": "USA",
            "Weight_in_lbs": 2408,
            "Year": "1971-01-01"
           },
           {
            "Acceleration": 15,
            "Cylinders": 6,
            "Displacement": 250,
            "Horsepower": 100,
            "Miles_per_Gallon": 19,
            "Name": "pontiac firebird",
            "Origin": "USA",
            "Weight_in_lbs": 3282,
            "Year": "1971-01-01"
           },
           {
            "Acceleration": 14.5,
            "Cylinders": 6,
            "Displacement": 250,
            "Horsepower": 88,
            "Miles_per_Gallon": 18,
            "Name": "ford mustang",
            "Origin": "USA",
            "Weight_in_lbs": 3139,
            "Year": "1971-01-01"
           },
           {
            "Acceleration": 14,
            "Cylinders": 4,
            "Displacement": 122,
            "Horsepower": 86,
            "Miles_per_Gallon": 23,
            "Name": "mercury capri 2000",
            "Origin": "USA",
            "Weight_in_lbs": 2220,
            "Year": "1971-01-01"
           },
           {
            "Acceleration": 14,
            "Cylinders": 4,
            "Displacement": 116,
            "Horsepower": 90,
            "Miles_per_Gallon": 28,
            "Name": "opel 1900",
            "Origin": "Europe",
            "Weight_in_lbs": 2123,
            "Year": "1971-01-01"
           },
           {
            "Acceleration": 19.5,
            "Cylinders": 4,
            "Displacement": 79,
            "Horsepower": 70,
            "Miles_per_Gallon": 30,
            "Name": "peugeot 304",
            "Origin": "Europe",
            "Weight_in_lbs": 2074,
            "Year": "1971-01-01"
           },
           {
            "Acceleration": 14.5,
            "Cylinders": 4,
            "Displacement": 88,
            "Horsepower": 76,
            "Miles_per_Gallon": 30,
            "Name": "fiat 124b",
            "Origin": "Europe",
            "Weight_in_lbs": 2065,
            "Year": "1971-01-01"
           },
           {
            "Acceleration": 19,
            "Cylinders": 4,
            "Displacement": 71,
            "Horsepower": 65,
            "Miles_per_Gallon": 31,
            "Name": "toyota corolla 1200",
            "Origin": "Japan",
            "Weight_in_lbs": 1773,
            "Year": "1971-01-01"
           },
           {
            "Acceleration": 18,
            "Cylinders": 4,
            "Displacement": 72,
            "Horsepower": 69,
            "Miles_per_Gallon": 35,
            "Name": "datsun 1200",
            "Origin": "Japan",
            "Weight_in_lbs": 1613,
            "Year": "1971-01-01"
           },
           {
            "Acceleration": 19,
            "Cylinders": 4,
            "Displacement": 97,
            "Horsepower": 60,
            "Miles_per_Gallon": 27,
            "Name": "volkswagen model 111",
            "Origin": "Europe",
            "Weight_in_lbs": 1834,
            "Year": "1971-01-01"
           },
           {
            "Acceleration": 20.5,
            "Cylinders": 4,
            "Displacement": 91,
            "Horsepower": 70,
            "Miles_per_Gallon": 26,
            "Name": "plymouth cricket",
            "Origin": "USA",
            "Weight_in_lbs": 1955,
            "Year": "1971-01-01"
           },
           {
            "Acceleration": 15.5,
            "Cylinders": 4,
            "Displacement": 113,
            "Horsepower": 95,
            "Miles_per_Gallon": 24,
            "Name": "toyota corona hardtop",
            "Origin": "Japan",
            "Weight_in_lbs": 2278,
            "Year": "1972-01-01"
           },
           {
            "Acceleration": 17,
            "Cylinders": 4,
            "Displacement": 97.5,
            "Horsepower": 80,
            "Miles_per_Gallon": 25,
            "Name": "dodge colt hardtop",
            "Origin": "USA",
            "Weight_in_lbs": 2126,
            "Year": "1972-01-01"
           },
           {
            "Acceleration": 23.5,
            "Cylinders": 4,
            "Displacement": 97,
            "Horsepower": 54,
            "Miles_per_Gallon": 23,
            "Name": "volkswagen type 3",
            "Origin": "Europe",
            "Weight_in_lbs": 2254,
            "Year": "1972-01-01"
           },
           {
            "Acceleration": 19.5,
            "Cylinders": 4,
            "Displacement": 140,
            "Horsepower": 90,
            "Miles_per_Gallon": 20,
            "Name": "chevrolet vega",
            "Origin": "USA",
            "Weight_in_lbs": 2408,
            "Year": "1972-01-01"
           },
           {
            "Acceleration": 16.5,
            "Cylinders": 4,
            "Displacement": 122,
            "Horsepower": 86,
            "Miles_per_Gallon": 21,
            "Name": "ford pinto runabout",
            "Origin": "USA",
            "Weight_in_lbs": 2226,
            "Year": "1972-01-01"
           },
           {
            "Acceleration": 12,
            "Cylinders": 8,
            "Displacement": 350,
            "Horsepower": 165,
            "Miles_per_Gallon": 13,
            "Name": "chevrolet impala",
            "Origin": "USA",
            "Weight_in_lbs": 4274,
            "Year": "1972-01-01"
           },
           {
            "Acceleration": 12,
            "Cylinders": 8,
            "Displacement": 400,
            "Horsepower": 175,
            "Miles_per_Gallon": 14,
            "Name": "pontiac catalina",
            "Origin": "USA",
            "Weight_in_lbs": 4385,
            "Year": "1972-01-01"
           },
           {
            "Acceleration": 13.5,
            "Cylinders": 8,
            "Displacement": 318,
            "Horsepower": 150,
            "Miles_per_Gallon": 15,
            "Name": "plymouth fury iii",
            "Origin": "USA",
            "Weight_in_lbs": 4135,
            "Year": "1972-01-01"
           },
           {
            "Acceleration": 13,
            "Cylinders": 8,
            "Displacement": 351,
            "Horsepower": 153,
            "Miles_per_Gallon": 14,
            "Name": "ford galaxie 500",
            "Origin": "USA",
            "Weight_in_lbs": 4129,
            "Year": "1972-01-01"
           },
           {
            "Acceleration": 11.5,
            "Cylinders": 8,
            "Displacement": 304,
            "Horsepower": 150,
            "Miles_per_Gallon": 17,
            "Name": "amc ambassador sst",
            "Origin": "USA",
            "Weight_in_lbs": 3672,
            "Year": "1972-01-01"
           },
           {
            "Acceleration": 11,
            "Cylinders": 8,
            "Displacement": 429,
            "Horsepower": 208,
            "Miles_per_Gallon": 11,
            "Name": "mercury marquis",
            "Origin": "USA",
            "Weight_in_lbs": 4633,
            "Year": "1972-01-01"
           },
           {
            "Acceleration": 13.5,
            "Cylinders": 8,
            "Displacement": 350,
            "Horsepower": 155,
            "Miles_per_Gallon": 13,
            "Name": "buick lesabre custom",
            "Origin": "USA",
            "Weight_in_lbs": 4502,
            "Year": "1972-01-01"
           },
           {
            "Acceleration": 13.5,
            "Cylinders": 8,
            "Displacement": 350,
            "Horsepower": 160,
            "Miles_per_Gallon": 12,
            "Name": "oldsmobile delta 88 royale",
            "Origin": "USA",
            "Weight_in_lbs": 4456,
            "Year": "1972-01-01"
           },
           {
            "Acceleration": 12.5,
            "Cylinders": 8,
            "Displacement": 400,
            "Horsepower": 190,
            "Miles_per_Gallon": 13,
            "Name": "chrysler newport royal",
            "Origin": "USA",
            "Weight_in_lbs": 4422,
            "Year": "1972-01-01"
           },
           {
            "Acceleration": 13.5,
            "Cylinders": 3,
            "Displacement": 70,
            "Horsepower": 97,
            "Miles_per_Gallon": 19,
            "Name": "mazda rx2 coupe",
            "Origin": "Japan",
            "Weight_in_lbs": 2330,
            "Year": "1972-01-01"
           },
           {
            "Acceleration": 12.5,
            "Cylinders": 8,
            "Displacement": 304,
            "Horsepower": 150,
            "Miles_per_Gallon": 15,
            "Name": "amc matador (sw)",
            "Origin": "USA",
            "Weight_in_lbs": 3892,
            "Year": "1972-01-01"
           },
           {
            "Acceleration": 14,
            "Cylinders": 8,
            "Displacement": 307,
            "Horsepower": 130,
            "Miles_per_Gallon": 13,
            "Name": "chevrolet chevelle concours (sw)",
            "Origin": "USA",
            "Weight_in_lbs": 4098,
            "Year": "1972-01-01"
           },
           {
            "Acceleration": 16,
            "Cylinders": 8,
            "Displacement": 302,
            "Horsepower": 140,
            "Miles_per_Gallon": 13,
            "Name": "ford gran torino (sw)",
            "Origin": "USA",
            "Weight_in_lbs": 4294,
            "Year": "1972-01-01"
           },
           {
            "Acceleration": 14,
            "Cylinders": 8,
            "Displacement": 318,
            "Horsepower": 150,
            "Miles_per_Gallon": 14,
            "Name": "plymouth satellite custom (sw)",
            "Origin": "USA",
            "Weight_in_lbs": 4077,
            "Year": "1972-01-01"
           },
           {
            "Acceleration": 14.5,
            "Cylinders": 4,
            "Displacement": 121,
            "Horsepower": 112,
            "Miles_per_Gallon": 18,
            "Name": "volvo 145e (sw)",
            "Origin": "Europe",
            "Weight_in_lbs": 2933,
            "Year": "1972-01-01"
           },
           {
            "Acceleration": 18,
            "Cylinders": 4,
            "Displacement": 121,
            "Horsepower": 76,
            "Miles_per_Gallon": 22,
            "Name": "volkswagen 411 (sw)",
            "Origin": "Europe",
            "Weight_in_lbs": 2511,
            "Year": "1972-01-01"
           },
           {
            "Acceleration": 19.5,
            "Cylinders": 4,
            "Displacement": 120,
            "Horsepower": 87,
            "Miles_per_Gallon": 21,
            "Name": "peugeot 504 (sw)",
            "Origin": "Europe",
            "Weight_in_lbs": 2979,
            "Year": "1972-01-01"
           },
           {
            "Acceleration": 18,
            "Cylinders": 4,
            "Displacement": 96,
            "Horsepower": 69,
            "Miles_per_Gallon": 26,
            "Name": "renault 12 (sw)",
            "Origin": "Europe",
            "Weight_in_lbs": 2189,
            "Year": "1972-01-01"
           },
           {
            "Acceleration": 16,
            "Cylinders": 4,
            "Displacement": 122,
            "Horsepower": 86,
            "Miles_per_Gallon": 22,
            "Name": "ford pinto (sw)",
            "Origin": "USA",
            "Weight_in_lbs": 2395,
            "Year": "1972-01-01"
           },
           {
            "Acceleration": 17,
            "Cylinders": 4,
            "Displacement": 97,
            "Horsepower": 92,
            "Miles_per_Gallon": 28,
            "Name": "datsun 510 (sw)",
            "Origin": "Japan",
            "Weight_in_lbs": 2288,
            "Year": "1972-01-01"
           },
           {
            "Acceleration": 14.5,
            "Cylinders": 4,
            "Displacement": 120,
            "Horsepower": 97,
            "Miles_per_Gallon": 23,
            "Name": "toyouta corona mark ii (sw)",
            "Origin": "Japan",
            "Weight_in_lbs": 2506,
            "Year": "1972-01-01"
           },
           {
            "Acceleration": 15,
            "Cylinders": 4,
            "Displacement": 98,
            "Horsepower": 80,
            "Miles_per_Gallon": 28,
            "Name": "dodge colt (sw)",
            "Origin": "USA",
            "Weight_in_lbs": 2164,
            "Year": "1972-01-01"
           },
           {
            "Acceleration": 16.5,
            "Cylinders": 4,
            "Displacement": 97,
            "Horsepower": 88,
            "Miles_per_Gallon": 27,
            "Name": "toyota corolla 1600 (sw)",
            "Origin": "Japan",
            "Weight_in_lbs": 2100,
            "Year": "1972-01-01"
           },
           {
            "Acceleration": 13,
            "Cylinders": 8,
            "Displacement": 350,
            "Horsepower": 175,
            "Miles_per_Gallon": 13,
            "Name": "buick century 350",
            "Origin": "USA",
            "Weight_in_lbs": 4100,
            "Year": "1973-01-01"
           },
           {
            "Acceleration": 11.5,
            "Cylinders": 8,
            "Displacement": 304,
            "Horsepower": 150,
            "Miles_per_Gallon": 14,
            "Name": "amc matador",
            "Origin": "USA",
            "Weight_in_lbs": 3672,
            "Year": "1973-01-01"
           },
           {
            "Acceleration": 13,
            "Cylinders": 8,
            "Displacement": 350,
            "Horsepower": 145,
            "Miles_per_Gallon": 13,
            "Name": "chevrolet malibu",
            "Origin": "USA",
            "Weight_in_lbs": 3988,
            "Year": "1973-01-01"
           },
           {
            "Acceleration": 14.5,
            "Cylinders": 8,
            "Displacement": 302,
            "Horsepower": 137,
            "Miles_per_Gallon": 14,
            "Name": "ford gran torino",
            "Origin": "USA",
            "Weight_in_lbs": 4042,
            "Year": "1973-01-01"
           },
           {
            "Acceleration": 12.5,
            "Cylinders": 8,
            "Displacement": 318,
            "Horsepower": 150,
            "Miles_per_Gallon": 15,
            "Name": "dodge coronet custom",
            "Origin": "USA",
            "Weight_in_lbs": 3777,
            "Year": "1973-01-01"
           },
           {
            "Acceleration": 11.5,
            "Cylinders": 8,
            "Displacement": 429,
            "Horsepower": 198,
            "Miles_per_Gallon": 12,
            "Name": "mercury marquis brougham",
            "Origin": "USA",
            "Weight_in_lbs": 4952,
            "Year": "1973-01-01"
           },
           {
            "Acceleration": 12,
            "Cylinders": 8,
            "Displacement": 400,
            "Horsepower": 150,
            "Miles_per_Gallon": 13,
            "Name": "chevrolet caprice classic",
            "Origin": "USA",
            "Weight_in_lbs": 4464,
            "Year": "1973-01-01"
           },
           {
            "Acceleration": 13,
            "Cylinders": 8,
            "Displacement": 351,
            "Horsepower": 158,
            "Miles_per_Gallon": 13,
            "Name": "ford ltd",
            "Origin": "USA",
            "Weight_in_lbs": 4363,
            "Year": "1973-01-01"
           },
           {
            "Acceleration": 14.5,
            "Cylinders": 8,
            "Displacement": 318,
            "Horsepower": 150,
            "Miles_per_Gallon": 14,
            "Name": "plymouth fury gran sedan",
            "Origin": "USA",
            "Weight_in_lbs": 4237,
            "Year": "1973-01-01"
           },
           {
            "Acceleration": 11,
            "Cylinders": 8,
            "Displacement": 440,
            "Horsepower": 215,
            "Miles_per_Gallon": 13,
            "Name": "chrysler new yorker brougham",
            "Origin": "USA",
            "Weight_in_lbs": 4735,
            "Year": "1973-01-01"
           },
           {
            "Acceleration": 11,
            "Cylinders": 8,
            "Displacement": 455,
            "Horsepower": 225,
            "Miles_per_Gallon": 12,
            "Name": "buick electra 225 custom",
            "Origin": "USA",
            "Weight_in_lbs": 4951,
            "Year": "1973-01-01"
           },
           {
            "Acceleration": 11,
            "Cylinders": 8,
            "Displacement": 360,
            "Horsepower": 175,
            "Miles_per_Gallon": 13,
            "Name": "amc ambassador brougham",
            "Origin": "USA",
            "Weight_in_lbs": 3821,
            "Year": "1973-01-01"
           },
           {
            "Acceleration": 16.5,
            "Cylinders": 6,
            "Displacement": 225,
            "Horsepower": 105,
            "Miles_per_Gallon": 18,
            "Name": "plymouth valiant",
            "Origin": "USA",
            "Weight_in_lbs": 3121,
            "Year": "1973-01-01"
           },
           {
            "Acceleration": 18,
            "Cylinders": 6,
            "Displacement": 250,
            "Horsepower": 100,
            "Miles_per_Gallon": 16,
            "Name": "chevrolet nova custom",
            "Origin": "USA",
            "Weight_in_lbs": 3278,
            "Year": "1973-01-01"
           },
           {
            "Acceleration": 16,
            "Cylinders": 6,
            "Displacement": 232,
            "Horsepower": 100,
            "Miles_per_Gallon": 18,
            "Name": "amc hornet",
            "Origin": "USA",
            "Weight_in_lbs": 2945,
            "Year": "1973-01-01"
           },
           {
            "Acceleration": 16.5,
            "Cylinders": 6,
            "Displacement": 250,
            "Horsepower": 88,
            "Miles_per_Gallon": 18,
            "Name": "ford maverick",
            "Origin": "USA",
            "Weight_in_lbs": 3021,
            "Year": "1973-01-01"
           },
           {
            "Acceleration": 16,
            "Cylinders": 6,
            "Displacement": 198,
            "Horsepower": 95,
            "Miles_per_Gallon": 23,
            "Name": "plymouth duster",
            "Origin": "USA",
            "Weight_in_lbs": 2904,
            "Year": "1973-01-01"
           },
           {
            "Acceleration": 21,
            "Cylinders": 4,
            "Displacement": 97,
            "Horsepower": 46,
            "Miles_per_Gallon": 26,
            "Name": "volkswagen super beetle",
            "Origin": "Europe",
            "Weight_in_lbs": 1950,
            "Year": "1973-01-01"
           },
           {
            "Acceleration": 14,
            "Cylinders": 8,
            "Displacement": 400,
            "Horsepower": 150,
            "Miles_per_Gallon": 11,
            "Name": "chevrolet impala",
            "Origin": "USA",
            "Weight_in_lbs": 4997,
            "Year": "1973-01-01"
           },
           {
            "Acceleration": 12.5,
            "Cylinders": 8,
            "Displacement": 400,
            "Horsepower": 167,
            "Miles_per_Gallon": 12,
            "Name": "ford country",
            "Origin": "USA",
            "Weight_in_lbs": 4906,
            "Year": "1973-01-01"
           },
           {
            "Acceleration": 13,
            "Cylinders": 8,
            "Displacement": 360,
            "Horsepower": 170,
            "Miles_per_Gallon": 13,
            "Name": "plymouth custom suburb",
            "Origin": "USA",
            "Weight_in_lbs": 4654,
            "Year": "1973-01-01"
           },
           {
            "Acceleration": 12.5,
            "Cylinders": 8,
            "Displacement": 350,
            "Horsepower": 180,
            "Miles_per_Gallon": 12,
            "Name": "oldsmobile vista cruiser",
            "Origin": "USA",
            "Weight_in_lbs": 4499,
            "Year": "1973-01-01"
           },
           {
            "Acceleration": 15,
            "Cylinders": 6,
            "Displacement": 232,
            "Horsepower": 100,
            "Miles_per_Gallon": 18,
            "Name": "amc gremlin",
            "Origin": "USA",
            "Weight_in_lbs": 2789,
            "Year": "1973-01-01"
           },
           {
            "Acceleration": 19,
            "Cylinders": 4,
            "Displacement": 97,
            "Horsepower": 88,
            "Miles_per_Gallon": 20,
            "Name": "toyota carina",
            "Origin": "Japan",
            "Weight_in_lbs": 2279,
            "Year": "1973-01-01"
           },
           {
            "Acceleration": 19.5,
            "Cylinders": 4,
            "Displacement": 140,
            "Horsepower": 72,
            "Miles_per_Gallon": 21,
            "Name": "chevrolet vega",
            "Origin": "USA",
            "Weight_in_lbs": 2401,
            "Year": "1973-01-01"
           },
           {
            "Acceleration": 16.5,
            "Cylinders": 4,
            "Displacement": 108,
            "Horsepower": 94,
            "Miles_per_Gallon": 22,
            "Name": "datsun 610",
            "Origin": "Japan",
            "Weight_in_lbs": 2379,
            "Year": "1973-01-01"
           },
           {
            "Acceleration": 13.5,
            "Cylinders": 3,
            "Displacement": 70,
            "Horsepower": 90,
            "Miles_per_Gallon": 18,
            "Name": "maxda rx3",
            "Origin": "Japan",
            "Weight_in_lbs": 2124,
            "Year": "1973-01-01"
           },
           {
            "Acceleration": 18.5,
            "Cylinders": 4,
            "Displacement": 122,
            "Horsepower": 85,
            "Miles_per_Gallon": 19,
            "Name": "ford pinto",
            "Origin": "USA",
            "Weight_in_lbs": 2310,
            "Year": "1973-01-01"
           },
           {
            "Acceleration": 14,
            "Cylinders": 6,
            "Displacement": 155,
            "Horsepower": 107,
            "Miles_per_Gallon": 21,
            "Name": "mercury capri v6",
            "Origin": "USA",
            "Weight_in_lbs": 2472,
            "Year": "1973-01-01"
           },
           {
            "Acceleration": 15.5,
            "Cylinders": 4,
            "Displacement": 98,
            "Horsepower": 90,
            "Miles_per_Gallon": 26,
            "Name": "fiat 124 sport coupe",
            "Origin": "Europe",
            "Weight_in_lbs": 2265,
            "Year": "1973-01-01"
           },
           {
            "Acceleration": 13,
            "Cylinders": 8,
            "Displacement": 350,
            "Horsepower": 145,
            "Miles_per_Gallon": 15,
            "Name": "chevrolet monte carlo s",
            "Origin": "USA",
            "Weight_in_lbs": 4082,
            "Year": "1973-01-01"
           },
           {
            "Acceleration": 9.5,
            "Cylinders": 8,
            "Displacement": 400,
            "Horsepower": 230,
            "Miles_per_Gallon": 16,
            "Name": "pontiac grand prix",
            "Origin": "USA",
            "Weight_in_lbs": 4278,
            "Year": "1973-01-01"
           },
           {
            "Acceleration": 19.5,
            "Cylinders": 4,
            "Displacement": 68,
            "Horsepower": 49,
            "Miles_per_Gallon": 29,
            "Name": "fiat 128",
            "Origin": "Europe",
            "Weight_in_lbs": 1867,
            "Year": "1973-01-01"
           },
           {
            "Acceleration": 15.5,
            "Cylinders": 4,
            "Displacement": 116,
            "Horsepower": 75,
            "Miles_per_Gallon": 24,
            "Name": "opel manta",
            "Origin": "Europe",
            "Weight_in_lbs": 2158,
            "Year": "1973-01-01"
           },
           {
            "Acceleration": 14,
            "Cylinders": 4,
            "Displacement": 114,
            "Horsepower": 91,
            "Miles_per_Gallon": 20,
            "Name": "audi 100ls",
            "Origin": "Europe",
            "Weight_in_lbs": 2582,
            "Year": "1973-01-01"
           },
           {
            "Acceleration": 15.5,
            "Cylinders": 4,
            "Displacement": 121,
            "Horsepower": 112,
            "Miles_per_Gallon": 19,
            "Name": "volvo 144ea",
            "Origin": "Europe",
            "Weight_in_lbs": 2868,
            "Year": "1973-01-01"
           },
           {
            "Acceleration": 11,
            "Cylinders": 8,
            "Displacement": 318,
            "Horsepower": 150,
            "Miles_per_Gallon": 15,
            "Name": "dodge dart custom",
            "Origin": "USA",
            "Weight_in_lbs": 3399,
            "Year": "1973-01-01"
           },
           {
            "Acceleration": 14,
            "Cylinders": 4,
            "Displacement": 121,
            "Horsepower": 110,
            "Miles_per_Gallon": 24,
            "Name": "saab 99le",
            "Origin": "Europe",
            "Weight_in_lbs": 2660,
            "Year": "1973-01-01"
           },
           {
            "Acceleration": 13.5,
            "Cylinders": 6,
            "Displacement": 156,
            "Horsepower": 122,
            "Miles_per_Gallon": 20,
            "Name": "toyota mark ii",
            "Origin": "Japan",
            "Weight_in_lbs": 2807,
            "Year": "1973-01-01"
           },
           {
            "Acceleration": 11,
            "Cylinders": 8,
            "Displacement": 350,
            "Horsepower": 180,
            "Miles_per_Gallon": 11,
            "Name": "oldsmobile omega",
            "Origin": "USA",
            "Weight_in_lbs": 3664,
            "Year": "1973-01-01"
           },
           {
            "Acceleration": 16.5,
            "Cylinders": 6,
            "Displacement": 198,
            "Horsepower": 95,
            "Miles_per_Gallon": 20,
            "Name": "plymouth duster",
            "Origin": "USA",
            "Weight_in_lbs": 3102,
            "Year": "1974-01-01"
           },
           {
            "Acceleration": 17,
            "Cylinders": 6,
            "Displacement": 200,
            "Horsepower": null,
            "Miles_per_Gallon": 21,
            "Name": "ford maverick",
            "Origin": "USA",
            "Weight_in_lbs": 2875,
            "Year": "1974-01-01"
           },
           {
            "Acceleration": 16,
            "Cylinders": 6,
            "Displacement": 232,
            "Horsepower": 100,
            "Miles_per_Gallon": 19,
            "Name": "amc hornet",
            "Origin": "USA",
            "Weight_in_lbs": 2901,
            "Year": "1974-01-01"
           },
           {
            "Acceleration": 17,
            "Cylinders": 6,
            "Displacement": 250,
            "Horsepower": 100,
            "Miles_per_Gallon": 15,
            "Name": "chevrolet nova",
            "Origin": "USA",
            "Weight_in_lbs": 3336,
            "Year": "1974-01-01"
           },
           {
            "Acceleration": 19,
            "Cylinders": 4,
            "Displacement": 79,
            "Horsepower": 67,
            "Miles_per_Gallon": 31,
            "Name": "datsun b210",
            "Origin": "Japan",
            "Weight_in_lbs": 1950,
            "Year": "1974-01-01"
           },
           {
            "Acceleration": 16.5,
            "Cylinders": 4,
            "Displacement": 122,
            "Horsepower": 80,
            "Miles_per_Gallon": 26,
            "Name": "ford pinto",
            "Origin": "USA",
            "Weight_in_lbs": 2451,
            "Year": "1974-01-01"
           },
           {
            "Acceleration": 21,
            "Cylinders": 4,
            "Displacement": 71,
            "Horsepower": 65,
            "Miles_per_Gallon": 32,
            "Name": "toyota corolla 1200",
            "Origin": "Japan",
            "Weight_in_lbs": 1836,
            "Year": "1974-01-01"
           },
           {
            "Acceleration": 17,
            "Cylinders": 4,
            "Displacement": 140,
            "Horsepower": 75,
            "Miles_per_Gallon": 25,
            "Name": "chevrolet vega",
            "Origin": "USA",
            "Weight_in_lbs": 2542,
            "Year": "1974-01-01"
           },
           {
            "Acceleration": 17,
            "Cylinders": 6,
            "Displacement": 250,
            "Horsepower": 100,
            "Miles_per_Gallon": 16,
            "Name": "chevrolet chevelle malibu classic",
            "Origin": "USA",
            "Weight_in_lbs": 3781,
            "Year": "1974-01-01"
           },
           {
            "Acceleration": 18,
            "Cylinders": 6,
            "Displacement": 258,
            "Horsepower": 110,
            "Miles_per_Gallon": 16,
            "Name": "amc matador",
            "Origin": "USA",
            "Weight_in_lbs": 3632,
            "Year": "1974-01-01"
           },
           {
            "Acceleration": 16.5,
            "Cylinders": 6,
            "Displacement": 225,
            "Horsepower": 105,
            "Miles_per_Gallon": 18,
            "Name": "plymouth satellite sebring",
            "Origin": "USA",
            "Weight_in_lbs": 3613,
            "Year": "1974-01-01"
           },
           {
            "Acceleration": 14,
            "Cylinders": 8,
            "Displacement": 302,
            "Horsepower": 140,
            "Miles_per_Gallon": 16,
            "Name": "ford gran torino",
            "Origin": "USA",
            "Weight_in_lbs": 4141,
            "Year": "1974-01-01"
           },
           {
            "Acceleration": 14.5,
            "Cylinders": 8,
            "Displacement": 350,
            "Horsepower": 150,
            "Miles_per_Gallon": 13,
            "Name": "buick century luxus (sw)",
            "Origin": "USA",
            "Weight_in_lbs": 4699,
            "Year": "1974-01-01"
           },
           {
            "Acceleration": 13.5,
            "Cylinders": 8,
            "Displacement": 318,
            "Horsepower": 150,
            "Miles_per_Gallon": 14,
            "Name": "dodge coronet custom (sw)",
            "Origin": "USA",
            "Weight_in_lbs": 4457,
            "Year": "1974-01-01"
           },
           {
            "Acceleration": 16,
            "Cylinders": 8,
            "Displacement": 302,
            "Horsepower": 140,
            "Miles_per_Gallon": 14,
            "Name": "ford gran torino (sw)",
            "Origin": "USA",
            "Weight_in_lbs": 4638,
            "Year": "1974-01-01"
           },
           {
            "Acceleration": 15.5,
            "Cylinders": 8,
            "Displacement": 304,
            "Horsepower": 150,
            "Miles_per_Gallon": 14,
            "Name": "amc matador (sw)",
            "Origin": "USA",
            "Weight_in_lbs": 4257,
            "Year": "1974-01-01"
           },
           {
            "Acceleration": 16.5,
            "Cylinders": 4,
            "Displacement": 98,
            "Horsepower": 83,
            "Miles_per_Gallon": 29,
            "Name": "audi fox",
            "Origin": "Europe",
            "Weight_in_lbs": 2219,
            "Year": "1974-01-01"
           },
           {
            "Acceleration": 15.5,
            "Cylinders": 4,
            "Displacement": 79,
            "Horsepower": 67,
            "Miles_per_Gallon": 26,
            "Name": "volkswagen dasher",
            "Origin": "Europe",
            "Weight_in_lbs": 1963,
            "Year": "1974-01-01"
           },
           {
            "Acceleration": 14.5,
            "Cylinders": 4,
            "Displacement": 97,
            "Horsepower": 78,
            "Miles_per_Gallon": 26,
            "Name": "opel manta",
            "Origin": "Europe",
            "Weight_in_lbs": 2300,
            "Year": "1974-01-01"
           },
           {
            "Acceleration": 16.5,
            "Cylinders": 4,
            "Displacement": 76,
            "Horsepower": 52,
            "Miles_per_Gallon": 31,
            "Name": "toyota corona",
            "Origin": "Japan",
            "Weight_in_lbs": 1649,
            "Year": "1974-01-01"
           },
           {
            "Acceleration": 19,
            "Cylinders": 4,
            "Displacement": 83,
            "Horsepower": 61,
            "Miles_per_Gallon": 32,
            "Name": "datsun 710",
            "Origin": "Japan",
            "Weight_in_lbs": 2003,
            "Year": "1974-01-01"
           },
           {
            "Acceleration": 14.5,
            "Cylinders": 4,
            "Displacement": 90,
            "Horsepower": 75,
            "Miles_per_Gallon": 28,
            "Name": "dodge colt",
            "Origin": "USA",
            "Weight_in_lbs": 2125,
            "Year": "1974-01-01"
           },
           {
            "Acceleration": 15.5,
            "Cylinders": 4,
            "Displacement": 90,
            "Horsepower": 75,
            "Miles_per_Gallon": 24,
            "Name": "fiat 128",
            "Origin": "Europe",
            "Weight_in_lbs": 2108,
            "Year": "1974-01-01"
           },
           {
            "Acceleration": 14,
            "Cylinders": 4,
            "Displacement": 116,
            "Horsepower": 75,
            "Miles_per_Gallon": 26,
            "Name": "fiat 124 tc",
            "Origin": "Europe",
            "Weight_in_lbs": 2246,
            "Year": "1974-01-01"
           },
           {
            "Acceleration": 15,
            "Cylinders": 4,
            "Displacement": 120,
            "Horsepower": 97,
            "Miles_per_Gallon": 24,
            "Name": "honda civic",
            "Origin": "Japan",
            "Weight_in_lbs": 2489,
            "Year": "1974-01-01"
           },
           {
            "Acceleration": 15.5,
            "Cylinders": 4,
            "Displacement": 108,
            "Horsepower": 93,
            "Miles_per_Gallon": 26,
            "Name": "subaru",
            "Origin": "Japan",
            "Weight_in_lbs": 2391,
            "Year": "1974-01-01"
           },
           {
            "Acceleration": 16,
            "Cylinders": 4,
            "Displacement": 79,
            "Horsepower": 67,
            "Miles_per_Gallon": 31,
            "Name": "fiat x1.9",
            "Origin": "Europe",
            "Weight_in_lbs": 2000,
            "Year": "1974-01-01"
           },
           {
            "Acceleration": 16,
            "Cylinders": 6,
            "Displacement": 225,
            "Horsepower": 95,
            "Miles_per_Gallon": 19,
            "Name": "plymouth valiant custom",
            "Origin": "USA",
            "Weight_in_lbs": 3264,
            "Year": "1975-01-01"
           },
           {
            "Acceleration": 16,
            "Cylinders": 6,
            "Displacement": 250,
            "Horsepower": 105,
            "Miles_per_Gallon": 18,
            "Name": "chevrolet nova",
            "Origin": "USA",
            "Weight_in_lbs": 3459,
            "Year": "1975-01-01"
           },
           {
            "Acceleration": 21,
            "Cylinders": 6,
            "Displacement": 250,
            "Horsepower": 72,
            "Miles_per_Gallon": 15,
            "Name": "mercury monarch",
            "Origin": "USA",
            "Weight_in_lbs": 3432,
            "Year": "1975-01-01"
           },
           {
            "Acceleration": 19.5,
            "Cylinders": 6,
            "Displacement": 250,
            "Horsepower": 72,
            "Miles_per_Gallon": 15,
            "Name": "ford maverick",
            "Origin": "USA",
            "Weight_in_lbs": 3158,
            "Year": "1975-01-01"
           },
           {
            "Acceleration": 11.5,
            "Cylinders": 8,
            "Displacement": 400,
            "Horsepower": 170,
            "Miles_per_Gallon": 16,
            "Name": "pontiac catalina",
            "Origin": "USA",
            "Weight_in_lbs": 4668,
            "Year": "1975-01-01"
           },
           {
            "Acceleration": 14,
            "Cylinders": 8,
            "Displacement": 350,
            "Horsepower": 145,
            "Miles_per_Gallon": 15,
            "Name": "chevrolet bel air",
            "Origin": "USA",
            "Weight_in_lbs": 4440,
            "Year": "1975-01-01"
           },
           {
            "Acceleration": 14.5,
            "Cylinders": 8,
            "Displacement": 318,
            "Horsepower": 150,
            "Miles_per_Gallon": 16,
            "Name": "plymouth grand fury",
            "Origin": "USA",
            "Weight_in_lbs": 4498,
            "Year": "1975-01-01"
           },
           {
            "Acceleration": 13.5,
            "Cylinders": 8,
            "Displacement": 351,
            "Horsepower": 148,
            "Miles_per_Gallon": 14,
            "Name": "ford ltd",
            "Origin": "USA",
            "Weight_in_lbs": 4657,
            "Year": "1975-01-01"
           },
           {
            "Acceleration": 21,
            "Cylinders": 6,
            "Displacement": 231,
            "Horsepower": 110,
            "Miles_per_Gallon": 17,
            "Name": "buick century",
            "Origin": "USA",
            "Weight_in_lbs": 3907,
            "Year": "1975-01-01"
           },
           {
            "Acceleration": 18.5,
            "Cylinders": 6,
            "Displacement": 250,
            "Horsepower": 105,
            "Miles_per_Gallon": 16,
            "Name": "chevroelt chevelle malibu",
            "Origin": "USA",
            "Weight_in_lbs": 3897,
            "Year": "1975-01-01"
           },
           {
            "Acceleration": 19,
            "Cylinders": 6,
            "Displacement": 258,
            "Horsepower": 110,
            "Miles_per_Gallon": 15,
            "Name": "amc matador",
            "Origin": "USA",
            "Weight_in_lbs": 3730,
            "Year": "1975-01-01"
           },
           {
            "Acceleration": 19,
            "Cylinders": 6,
            "Displacement": 225,
            "Horsepower": 95,
            "Miles_per_Gallon": 18,
            "Name": "plymouth fury",
            "Origin": "USA",
            "Weight_in_lbs": 3785,
            "Year": "1975-01-01"
           },
           {
            "Acceleration": 15,
            "Cylinders": 6,
            "Displacement": 231,
            "Horsepower": 110,
            "Miles_per_Gallon": 21,
            "Name": "buick skyhawk",
            "Origin": "USA",
            "Weight_in_lbs": 3039,
            "Year": "1975-01-01"
           },
           {
            "Acceleration": 13.5,
            "Cylinders": 8,
            "Displacement": 262,
            "Horsepower": 110,
            "Miles_per_Gallon": 20,
            "Name": "chevrolet monza 2+2",
            "Origin": "USA",
            "Weight_in_lbs": 3221,
            "Year": "1975-01-01"
           },
           {
            "Acceleration": 12,
            "Cylinders": 8,
            "Displacement": 302,
            "Horsepower": 129,
            "Miles_per_Gallon": 13,
            "Name": "ford mustang ii",
            "Origin": "USA",
            "Weight_in_lbs": 3169,
            "Year": "1975-01-01"
           },
           {
            "Acceleration": 16,
            "Cylinders": 4,
            "Displacement": 97,
            "Horsepower": 75,
            "Miles_per_Gallon": 29,
            "Name": "toyota corolla",
            "Origin": "Japan",
            "Weight_in_lbs": 2171,
            "Year": "1975-01-01"
           },
           {
            "Acceleration": 17,
            "Cylinders": 4,
            "Displacement": 140,
            "Horsepower": 83,
            "Miles_per_Gallon": 23,
            "Name": "ford pinto",
            "Origin": "USA",
            "Weight_in_lbs": 2639,
            "Year": "1975-01-01"
           },
           {
            "Acceleration": 16,
            "Cylinders": 6,
            "Displacement": 232,
            "Horsepower": 100,
            "Miles_per_Gallon": 20,
            "Name": "amc gremlin",
            "Origin": "USA",
            "Weight_in_lbs": 2914,
            "Year": "1975-01-01"
           },
           {
            "Acceleration": 18.5,
            "Cylinders": 4,
            "Displacement": 140,
            "Horsepower": 78,
            "Miles_per_Gallon": 23,
            "Name": "pontiac astro",
            "Origin": "USA",
            "Weight_in_lbs": 2592,
            "Year": "1975-01-01"
           },
           {
            "Acceleration": 13.5,
            "Cylinders": 4,
            "Displacement": 134,
            "Horsepower": 96,
            "Miles_per_Gallon": 24,
            "Name": "toyota corona",
            "Origin": "Japan",
            "Weight_in_lbs": 2702,
            "Year": "1975-01-01"
           },
           {
            "Acceleration": 16.5,
            "Cylinders": 4,
            "Displacement": 90,
            "Horsepower": 71,
            "Miles_per_Gallon": 25,
            "Name": "volkswagen dasher",
            "Origin": "Europe",
            "Weight_in_lbs": 2223,
            "Year": "1975-01-01"
           },
           {
            "Acceleration": 17,
            "Cylinders": 4,
            "Displacement": 119,
            "Horsepower": 97,
            "Miles_per_Gallon": 24,
            "Name": "datsun 710",
            "Origin": "Japan",
            "Weight_in_lbs": 2545,
            "Year": "1975-01-01"
           },
           {
            "Acceleration": 14.5,
            "Cylinders": 6,
            "Displacement": 171,
            "Horsepower": 97,
            "Miles_per_Gallon": 18,
            "Name": "ford pinto",
            "Origin": "USA",
            "Weight_in_lbs": 2984,
            "Year": "1975-01-01"
           },
           {
            "Acceleration": 14,
            "Cylinders": 4,
            "Displacement": 90,
            "Horsepower": 70,
            "Miles_per_Gallon": 29,
            "Name": "volkswagen rabbit",
            "Origin": "Europe",
            "Weight_in_lbs": 1937,
            "Year": "1975-01-01"
           },
           {
            "Acceleration": 17,
            "Cylinders": 6,
            "Displacement": 232,
            "Horsepower": 90,
            "Miles_per_Gallon": 19,
            "Name": "amc pacer",
            "Origin": "USA",
            "Weight_in_lbs": 3211,
            "Year": "1975-01-01"
           },
           {
            "Acceleration": 15,
            "Cylinders": 4,
            "Displacement": 115,
            "Horsepower": 95,
            "Miles_per_Gallon": 23,
            "Name": "audi 100ls",
            "Origin": "Europe",
            "Weight_in_lbs": 2694,
            "Year": "1975-01-01"
           },
           {
            "Acceleration": 17,
            "Cylinders": 4,
            "Displacement": 120,
            "Horsepower": 88,
            "Miles_per_Gallon": 23,
            "Name": "peugeot 504",
            "Origin": "Europe",
            "Weight_in_lbs": 2957,
            "Year": "1975-01-01"
           },
           {
            "Acceleration": 14.5,
            "Cylinders": 4,
            "Displacement": 121,
            "Horsepower": 98,
            "Miles_per_Gallon": 22,
            "Name": "volvo 244dl",
            "Origin": "Europe",
            "Weight_in_lbs": 2945,
            "Year": "1975-01-01"
           },
           {
            "Acceleration": 13.5,
            "Cylinders": 4,
            "Displacement": 121,
            "Horsepower": 115,
            "Miles_per_Gallon": 25,
            "Name": "saab 99le",
            "Origin": "Europe",
            "Weight_in_lbs": 2671,
            "Year": "1975-01-01"
           },
           {
            "Acceleration": 17.5,
            "Cylinders": 4,
            "Displacement": 91,
            "Horsepower": 53,
            "Miles_per_Gallon": 33,
            "Name": "honda civic cvcc",
            "Origin": "Japan",
            "Weight_in_lbs": 1795,
            "Year": "1975-01-01"
           },
           {
            "Acceleration": 15.5,
            "Cylinders": 4,
            "Displacement": 107,
            "Horsepower": 86,
            "Miles_per_Gallon": 28,
            "Name": "fiat 131",
            "Origin": "Europe",
            "Weight_in_lbs": 2464,
            "Year": "1976-01-01"
           },
           {
            "Acceleration": 16.9,
            "Cylinders": 4,
            "Displacement": 116,
            "Horsepower": 81,
            "Miles_per_Gallon": 25,
            "Name": "opel 1900",
            "Origin": "Europe",
            "Weight_in_lbs": 2220,
            "Year": "1976-01-01"
           },
           {
            "Acceleration": 14.9,
            "Cylinders": 4,
            "Displacement": 140,
            "Horsepower": 92,
            "Miles_per_Gallon": 25,
            "Name": "capri ii",
            "Origin": "USA",
            "Weight_in_lbs": 2572,
            "Year": "1976-01-01"
           },
           {
            "Acceleration": 17.7,
            "Cylinders": 4,
            "Displacement": 98,
            "Horsepower": 79,
            "Miles_per_Gallon": 26,
            "Name": "dodge colt",
            "Origin": "USA",
            "Weight_in_lbs": 2255,
            "Year": "1976-01-01"
           },
           {
            "Acceleration": 15.3,
            "Cylinders": 4,
            "Displacement": 101,
            "Horsepower": 83,
            "Miles_per_Gallon": 27,
            "Name": "renault 12tl",
            "Origin": "Europe",
            "Weight_in_lbs": 2202,
            "Year": "1976-01-01"
           },
           {
            "Acceleration": 13,
            "Cylinders": 8,
            "Displacement": 305,
            "Horsepower": 140,
            "Miles_per_Gallon": 17.5,
            "Name": "chevrolet chevelle malibu classic",
            "Origin": "USA",
            "Weight_in_lbs": 4215,
            "Year": "1976-01-01"
           },
           {
            "Acceleration": 13,
            "Cylinders": 8,
            "Displacement": 318,
            "Horsepower": 150,
            "Miles_per_Gallon": 16,
            "Name": "dodge coronet brougham",
            "Origin": "USA",
            "Weight_in_lbs": 4190,
            "Year": "1976-01-01"
           },
           {
            "Acceleration": 13.9,
            "Cylinders": 8,
            "Displacement": 304,
            "Horsepower": 120,
            "Miles_per_Gallon": 15.5,
            "Name": "amc matador",
            "Origin": "USA",
            "Weight_in_lbs": 3962,
            "Year": "1976-01-01"
           },
           {
            "Acceleration": 12.8,
            "Cylinders": 8,
            "Displacement": 351,
            "Horsepower": 152,
            "Miles_per_Gallon": 14.5,
            "Name": "ford gran torino",
            "Origin": "USA",
            "Weight_in_lbs": 4215,
            "Year": "1976-01-01"
           },
           {
            "Acceleration": 15.4,
            "Cylinders": 6,
            "Displacement": 225,
            "Horsepower": 100,
            "Miles_per_Gallon": 22,
            "Name": "plymouth valiant",
            "Origin": "USA",
            "Weight_in_lbs": 3233,
            "Year": "1976-01-01"
           },
           {
            "Acceleration": 14.5,
            "Cylinders": 6,
            "Displacement": 250,
            "Horsepower": 105,
            "Miles_per_Gallon": 22,
            "Name": "chevrolet nova",
            "Origin": "USA",
            "Weight_in_lbs": 3353,
            "Year": "1976-01-01"
           },
           {
            "Acceleration": 17.6,
            "Cylinders": 6,
            "Displacement": 200,
            "Horsepower": 81,
            "Miles_per_Gallon": 24,
            "Name": "ford maverick",
            "Origin": "USA",
            "Weight_in_lbs": 3012,
            "Year": "1976-01-01"
           },
           {
            "Acceleration": 17.6,
            "Cylinders": 6,
            "Displacement": 232,
            "Horsepower": 90,
            "Miles_per_Gallon": 22.5,
            "Name": "amc hornet",
            "Origin": "USA",
            "Weight_in_lbs": 3085,
            "Year": "1976-01-01"
           },
           {
            "Acceleration": 22.2,
            "Cylinders": 4,
            "Displacement": 85,
            "Horsepower": 52,
            "Miles_per_Gallon": 29,
            "Name": "chevrolet chevette",
            "Origin": "USA",
            "Weight_in_lbs": 2035,
            "Year": "1976-01-01"
           },
           {
            "Acceleration": 22.1,
            "Cylinders": 4,
            "Displacement": 98,
            "Horsepower": 60,
            "Miles_per_Gallon": 24.5,
            "Name": "chevrolet woody",
            "Origin": "USA",
            "Weight_in_lbs": 2164,
            "Year": "1976-01-01"
           },
           {
            "Acceleration": 14.2,
            "Cylinders": 4,
            "Displacement": 90,
            "Horsepower": 70,
            "Miles_per_Gallon": 29,
            "Name": "vw rabbit",
            "Origin": "Europe",
            "Weight_in_lbs": 1937,
            "Year": "1976-01-01"
           },
           {
            "Acceleration": 17.4,
            "Cylinders": 4,
            "Displacement": 91,
            "Horsepower": 53,
            "Miles_per_Gallon": 33,
            "Name": "honda civic",
            "Origin": "Japan",
            "Weight_in_lbs": 1795,
            "Year": "1976-01-01"
           },
           {
            "Acceleration": 17.7,
            "Cylinders": 6,
            "Displacement": 225,
            "Horsepower": 100,
            "Miles_per_Gallon": 20,
            "Name": "dodge aspen se",
            "Origin": "USA",
            "Weight_in_lbs": 3651,
            "Year": "1976-01-01"
           },
           {
            "Acceleration": 21,
            "Cylinders": 6,
            "Displacement": 250,
            "Horsepower": 78,
            "Miles_per_Gallon": 18,
            "Name": "ford granada ghia",
            "Origin": "USA",
            "Weight_in_lbs": 3574,
            "Year": "1976-01-01"
           },
           {
            "Acceleration": 16.2,
            "Cylinders": 6,
            "Displacement": 250,
            "Horsepower": 110,
            "Miles_per_Gallon": 18.5,
            "Name": "pontiac ventura sj",
            "Origin": "USA",
            "Weight_in_lbs": 3645,
            "Year": "1976-01-01"
           },
           {
            "Acceleration": 17.8,
            "Cylinders": 6,
            "Displacement": 258,
            "Horsepower": 95,
            "Miles_per_Gallon": 17.5,
            "Name": "amc pacer d/l",
            "Origin": "USA",
            "Weight_in_lbs": 3193,
            "Year": "1976-01-01"
           },
           {
            "Acceleration": 12.2,
            "Cylinders": 4,
            "Displacement": 97,
            "Horsepower": 71,
            "Miles_per_Gallon": 29.5,
            "Name": "volkswagen rabbit",
            "Origin": "Europe",
            "Weight_in_lbs": 1825,
            "Year": "1976-01-01"
           },
           {
            "Acceleration": 17,
            "Cylinders": 4,
            "Displacement": 85,
            "Horsepower": 70,
            "Miles_per_Gallon": 32,
            "Name": "datsun b-210",
            "Origin": "Japan",
            "Weight_in_lbs": 1990,
            "Year": "1976-01-01"
           },
           {
            "Acceleration": 16.4,
            "Cylinders": 4,
            "Displacement": 97,
            "Horsepower": 75,
            "Miles_per_Gallon": 28,
            "Name": "toyota corolla",
            "Origin": "Japan",
            "Weight_in_lbs": 2155,
            "Year": "1976-01-01"
           },
           {
            "Acceleration": 13.6,
            "Cylinders": 4,
            "Displacement": 140,
            "Horsepower": 72,
            "Miles_per_Gallon": 26.5,
            "Name": "ford pinto",
            "Origin": "USA",
            "Weight_in_lbs": 2565,
            "Year": "1976-01-01"
           },
           {
            "Acceleration": 15.7,
            "Cylinders": 4,
            "Displacement": 130,
            "Horsepower": 102,
            "Miles_per_Gallon": 20,
            "Name": "volvo 245",
            "Origin": "Europe",
            "Weight_in_lbs": 3150,
            "Year": "1976-01-01"
           },
           {
            "Acceleration": 13.2,
            "Cylinders": 8,
            "Displacement": 318,
            "Horsepower": 150,
            "Miles_per_Gallon": 13,
            "Name": "plymouth volare premier v8",
            "Origin": "USA",
            "Weight_in_lbs": 3940,
            "Year": "1976-01-01"
           },
           {
            "Acceleration": 21.9,
            "Cylinders": 4,
            "Displacement": 120,
            "Horsepower": 88,
            "Miles_per_Gallon": 19,
            "Name": "peugeot 504",
            "Origin": "Europe",
            "Weight_in_lbs": 3270,
            "Year": "1976-01-01"
           },
           {
            "Acceleration": 15.5,
            "Cylinders": 6,
            "Displacement": 156,
            "Horsepower": 108,
            "Miles_per_Gallon": 19,
            "Name": "toyota mark ii",
            "Origin": "Japan",
            "Weight_in_lbs": 2930,
            "Year": "1976-01-01"
           },
           {
            "Acceleration": 16.7,
            "Cylinders": 6,
            "Displacement": 168,
            "Horsepower": 120,
            "Miles_per_Gallon": 16.5,
            "Name": "mercedes-benz 280s",
            "Origin": "Europe",
            "Weight_in_lbs": 3820,
            "Year": "1976-01-01"
           },
           {
            "Acceleration": 12.1,
            "Cylinders": 8,
            "Displacement": 350,
            "Horsepower": 180,
            "Miles_per_Gallon": 16.5,
            "Name": "cadillac seville",
            "Origin": "USA",
            "Weight_in_lbs": 4380,
            "Year": "1976-01-01"
           },
           {
            "Acceleration": 12,
            "Cylinders": 8,
            "Displacement": 350,
            "Horsepower": 145,
            "Miles_per_Gallon": 13,
            "Name": "chevy c10",
            "Origin": "USA",
            "Weight_in_lbs": 4055,
            "Year": "1976-01-01"
           },
           {
            "Acceleration": 15,
            "Cylinders": 8,
            "Displacement": 302,
            "Horsepower": 130,
            "Miles_per_Gallon": 13,
            "Name": "ford f108",
            "Origin": "USA",
            "Weight_in_lbs": 3870,
            "Year": "1976-01-01"
           },
           {
            "Acceleration": 14,
            "Cylinders": 8,
            "Displacement": 318,
            "Horsepower": 150,
            "Miles_per_Gallon": 13,
            "Name": "dodge d100",
            "Origin": "USA",
            "Weight_in_lbs": 3755,
            "Year": "1976-01-01"
           },
           {
            "Acceleration": 18.5,
            "Cylinders": 4,
            "Displacement": 98,
            "Horsepower": 68,
            "Miles_per_Gallon": 31.5,
            "Name": "honda Accelerationord cvcc",
            "Origin": "Japan",
            "Weight_in_lbs": 2045,
            "Year": "1977-01-01"
           },
           {
            "Acceleration": 14.8,
            "Cylinders": 4,
            "Displacement": 111,
            "Horsepower": 80,
            "Miles_per_Gallon": 30,
            "Name": "buick opel isuzu deluxe",
            "Origin": "USA",
            "Weight_in_lbs": 2155,
            "Year": "1977-01-01"
           },
           {
            "Acceleration": 18.6,
            "Cylinders": 4,
            "Displacement": 79,
            "Horsepower": 58,
            "Miles_per_Gallon": 36,
            "Name": "renault 5 gtl",
            "Origin": "Europe",
            "Weight_in_lbs": 1825,
            "Year": "1977-01-01"
           },
           {
            "Acceleration": 15.5,
            "Cylinders": 4,
            "Displacement": 122,
            "Horsepower": 96,
            "Miles_per_Gallon": 25.5,
            "Name": "plymouth arrow gs",
            "Origin": "USA",
            "Weight_in_lbs": 2300,
            "Year": "1977-01-01"
           },
           {
            "Acceleration": 16.8,
            "Cylinders": 4,
            "Displacement": 85,
            "Horsepower": 70,
            "Miles_per_Gallon": 33.5,
            "Name": "datsun f-10 hatchback",
            "Origin": "Japan",
            "Weight_in_lbs": 1945,
            "Year": "1977-01-01"
           },
           {
            "Acceleration": 12.5,
            "Cylinders": 8,
            "Displacement": 305,
            "Horsepower": 145,
            "Miles_per_Gallon": 17.5,
            "Name": "chevrolet caprice classic",
            "Origin": "USA",
            "Weight_in_lbs": 3880,
            "Year": "1977-01-01"
           },
           {
            "Acceleration": 19,
            "Cylinders": 8,
            "Displacement": 260,
            "Horsepower": 110,
            "Miles_per_Gallon": 17,
            "Name": "oldsmobile cutlass supreme",
            "Origin": "USA",
            "Weight_in_lbs": 4060,
            "Year": "1977-01-01"
           },
           {
            "Acceleration": 13.7,
            "Cylinders": 8,
            "Displacement": 318,
            "Horsepower": 145,
            "Miles_per_Gallon": 15.5,
            "Name": "dodge monaco brougham",
            "Origin": "USA",
            "Weight_in_lbs": 4140,
            "Year": "1977-01-01"
           },
           {
            "Acceleration": 14.9,
            "Cylinders": 8,
            "Displacement": 302,
            "Horsepower": 130,
            "Miles_per_Gallon": 15,
            "Name": "mercury cougar brougham",
            "Origin": "USA",
            "Weight_in_lbs": 4295,
            "Year": "1977-01-01"
           },
           {
            "Acceleration": 16.4,
            "Cylinders": 6,
            "Displacement": 250,
            "Horsepower": 110,
            "Miles_per_Gallon": 17.5,
            "Name": "chevrolet concours",
            "Origin": "USA",
            "Weight_in_lbs": 3520,
            "Year": "1977-01-01"
           },
           {
            "Acceleration": 16.9,
            "Cylinders": 6,
            "Displacement": 231,
            "Horsepower": 105,
            "Miles_per_Gallon": 20.5,
            "Name": "buick skylark",
            "Origin": "USA",
            "Weight_in_lbs": 3425,
            "Year": "1977-01-01"
           },
           {
            "Acceleration": 17.7,
            "Cylinders": 6,
            "Displacement": 225,
            "Horsepower": 100,
            "Miles_per_Gallon": 19,
            "Name": "plymouth volare custom",
            "Origin": "USA",
            "Weight_in_lbs": 3630,
            "Year": "1977-01-01"
           },
           {
            "Acceleration": 19,
            "Cylinders": 6,
            "Displacement": 250,
            "Horsepower": 98,
            "Miles_per_Gallon": 18.5,
            "Name": "ford granada",
            "Origin": "USA",
            "Weight_in_lbs": 3525,
            "Year": "1977-01-01"
           },
           {
            "Acceleration": 11.1,
            "Cylinders": 8,
            "Displacement": 400,
            "Horsepower": 180,
            "Miles_per_Gallon": 16,
            "Name": "pontiac grand prix lj",
            "Origin": "USA",
            "Weight_in_lbs": 4220,
            "Year": "1977-01-01"
           },
           {
            "Acceleration": 11.4,
            "Cylinders": 8,
            "Displacement": 350,
            "Horsepower": 170,
            "Miles_per_Gallon": 15.5,
            "Name": "chevrolet monte carlo landau",
            "Origin": "USA",
            "Weight_in_lbs": 4165,
            "Year": "1977-01-01"
           },
           {
            "Acceleration": 12.2,
            "Cylinders": 8,
            "Displacement": 400,
            "Horsepower": 190,
            "Miles_per_Gallon": 15.5,
            "Name": "chrysler cordoba",
            "Origin": "USA",
            "Weight_in_lbs": 4325,
            "Year": "1977-01-01"
           },
           {
            "Acceleration": 14.5,
            "Cylinders": 8,
            "Displacement": 351,
            "Horsepower": 149,
            "Miles_per_Gallon": 16,
            "Name": "ford thunderbird",
            "Origin": "USA",
            "Weight_in_lbs": 4335,
            "Year": "1977-01-01"
           },
           {
            "Acceleration": 14.5,
            "Cylinders": 4,
            "Displacement": 97,
            "Horsepower": 78,
            "Miles_per_Gallon": 29,
            "Name": "volkswagen rabbit custom",
            "Origin": "Europe",
            "Weight_in_lbs": 1940,
            "Year": "1977-01-01"
           },
           {
            "Acceleration": 16,
            "Cylinders": 4,
            "Displacement": 151,
            "Horsepower": 88,
            "Miles_per_Gallon": 24.5,
            "Name": "pontiac sunbird coupe",
            "Origin": "USA",
            "Weight_in_lbs": 2740,
            "Year": "1977-01-01"
           },
           {
            "Acceleration": 18.2,
            "Cylinders": 4,
            "Displacement": 97,
            "Horsepower": 75,
            "Miles_per_Gallon": 26,
            "Name": "toyota corolla liftback",
            "Origin": "Japan",
            "Weight_in_lbs": 2265,
            "Year": "1977-01-01"
           },
           {
            "Acceleration": 15.8,
            "Cylinders": 4,
            "Displacement": 140,
            "Horsepower": 89,
            "Miles_per_Gallon": 25.5,
            "Name": "ford mustang ii 2+2",
            "Origin": "USA",
            "Weight_in_lbs": 2755,
            "Year": "1977-01-01"
           },
           {
            "Acceleration": 17,
            "Cylinders": 4,
            "Displacement": 98,
            "Horsepower": 63,
            "Miles_per_Gallon": 30.5,
            "Name": "chevrolet chevette",
            "Origin": "USA",
            "Weight_in_lbs": 2051,
            "Year": "1977-01-01"
           },
           {
            "Acceleration": 15.9,
            "Cylinders": 4,
            "Displacement": 98,
            "Horsepower": 83,
            "Miles_per_Gallon": 33.5,
            "Name": "dodge colt m/m",
            "Origin": "USA",
            "Weight_in_lbs": 2075,
            "Year": "1977-01-01"
           },
           {
            "Acceleration": 16.4,
            "Cylinders": 4,
            "Displacement": 97,
            "Horsepower": 67,
            "Miles_per_Gallon": 30,
            "Name": "subaru dl",
            "Origin": "Japan",
            "Weight_in_lbs": 1985,
            "Year": "1977-01-01"
           },
           {
            "Acceleration": 14.1,
            "Cylinders": 4,
            "Displacement": 97,
            "Horsepower": 78,
            "Miles_per_Gallon": 30.5,
            "Name": "volkswagen dasher",
            "Origin": "Europe",
            "Weight_in_lbs": 2190,
            "Year": "1977-01-01"
           },
           {
            "Acceleration": 14.5,
            "Cylinders": 6,
            "Displacement": 146,
            "Horsepower": 97,
            "Miles_per_Gallon": 22,
            "Name": "datsun 810",
            "Origin": "Japan",
            "Weight_in_lbs": 2815,
            "Year": "1977-01-01"
           },
           {
            "Acceleration": 12.8,
            "Cylinders": 4,
            "Displacement": 121,
            "Horsepower": 110,
            "Miles_per_Gallon": 21.5,
            "Name": "bmw 320i",
            "Origin": "Europe",
            "Weight_in_lbs": 2600,
            "Year": "1977-01-01"
           },
           {
            "Acceleration": 13.5,
            "Cylinders": 3,
            "Displacement": 80,
            "Horsepower": 110,
            "Miles_per_Gallon": 21.5,
            "Name": "mazda rx-4",
            "Origin": "Japan",
            "Weight_in_lbs": 2720,
            "Year": "1977-01-01"
           },
           {
            "Acceleration": 21.5,
            "Cylinders": 4,
            "Displacement": 90,
            "Horsepower": 48,
            "Miles_per_Gallon": 43.1,
            "Name": "volkswagen rabbit custom diesel",
            "Origin": "Europe",
            "Weight_in_lbs": 1985,
            "Year": "1978-01-01"
           },
           {
            "Acceleration": 14.4,
            "Cylinders": 4,
            "Displacement": 98,
            "Horsepower": 66,
            "Miles_per_Gallon": 36.1,
            "Name": "ford fiesta",
            "Origin": "USA",
            "Weight_in_lbs": 1800,
            "Year": "1978-01-01"
           },
           {
            "Acceleration": 19.4,
            "Cylinders": 4,
            "Displacement": 78,
            "Horsepower": 52,
            "Miles_per_Gallon": 32.8,
            "Name": "mazda glc deluxe",
            "Origin": "Japan",
            "Weight_in_lbs": 1985,
            "Year": "1978-01-01"
           },
           {
            "Acceleration": 18.6,
            "Cylinders": 4,
            "Displacement": 85,
            "Horsepower": 70,
            "Miles_per_Gallon": 39.4,
            "Name": "datsun b210 gx",
            "Origin": "Japan",
            "Weight_in_lbs": 2070,
            "Year": "1978-01-01"
           },
           {
            "Acceleration": 16.4,
            "Cylinders": 4,
            "Displacement": 91,
            "Horsepower": 60,
            "Miles_per_Gallon": 36.1,
            "Name": "honda civic cvcc",
            "Origin": "Japan",
            "Weight_in_lbs": 1800,
            "Year": "1978-01-01"
           },
           {
            "Acceleration": 15.5,
            "Cylinders": 8,
            "Displacement": 260,
            "Horsepower": 110,
            "Miles_per_Gallon": 19.9,
            "Name": "oldsmobile cutlass salon brougham",
            "Origin": "USA",
            "Weight_in_lbs": 3365,
            "Year": "1978-01-01"
           },
           {
            "Acceleration": 13.2,
            "Cylinders": 8,
            "Displacement": 318,
            "Horsepower": 140,
            "Miles_per_Gallon": 19.4,
            "Name": "dodge diplomat",
            "Origin": "USA",
            "Weight_in_lbs": 3735,
            "Year": "1978-01-01"
           },
           {
            "Acceleration": 12.8,
            "Cylinders": 8,
            "Displacement": 302,
            "Horsepower": 139,
            "Miles_per_Gallon": 20.2,
            "Name": "mercury monarch ghia",
            "Origin": "USA",
            "Weight_in_lbs": 3570,
            "Year": "1978-01-01"
           },
           {
            "Acceleration": 19.2,
            "Cylinders": 6,
            "Displacement": 231,
            "Horsepower": 105,
            "Miles_per_Gallon": 19.2,
            "Name": "pontiac phoenix lj",
            "Origin": "USA",
            "Weight_in_lbs": 3535,
            "Year": "1978-01-01"
           },
           {
            "Acceleration": 18.2,
            "Cylinders": 6,
            "Displacement": 200,
            "Horsepower": 95,
            "Miles_per_Gallon": 20.5,
            "Name": "chevrolet malibu",
            "Origin": "USA",
            "Weight_in_lbs": 3155,
            "Year": "1978-01-01"
           },
           {
            "Acceleration": 15.8,
            "Cylinders": 6,
            "Displacement": 200,
            "Horsepower": 85,
            "Miles_per_Gallon": 20.2,
            "Name": "ford fairmont (auto)",
            "Origin": "USA",
            "Weight_in_lbs": 2965,
            "Year": "1978-01-01"
           },
           {
            "Acceleration": 15.4,
            "Cylinders": 4,
            "Displacement": 140,
            "Horsepower": 88,
            "Miles_per_Gallon": 25.1,
            "Name": "ford fairmont (man)",
            "Origin": "USA",
            "Weight_in_lbs": 2720,
            "Year": "1978-01-01"
           },
           {
            "Acceleration": 17.2,
            "Cylinders": 6,
            "Displacement": 225,
            "Horsepower": 100,
            "Miles_per_Gallon": 20.5,
            "Name": "plymouth volare",
            "Origin": "USA",
            "Weight_in_lbs": 3430,
            "Year": "1978-01-01"
           },
           {
            "Acceleration": 17.2,
            "Cylinders": 6,
            "Displacement": 232,
            "Horsepower": 90,
            "Miles_per_Gallon": 19.4,
            "Name": "amc concord",
            "Origin": "USA",
            "Weight_in_lbs": 3210,
            "Year": "1978-01-01"
           },
           {
            "Acceleration": 15.8,
            "Cylinders": 6,
            "Displacement": 231,
            "Horsepower": 105,
            "Miles_per_Gallon": 20.6,
            "Name": "buick century special",
            "Origin": "USA",
            "Weight_in_lbs": 3380,
            "Year": "1978-01-01"
           },
           {
            "Acceleration": 16.7,
            "Cylinders": 6,
            "Displacement": 200,
            "Horsepower": 85,
            "Miles_per_Gallon": 20.8,
            "Name": "mercury zephyr",
            "Origin": "USA",
            "Weight_in_lbs": 3070,
            "Year": "1978-01-01"
           },
           {
            "Acceleration": 18.7,
            "Cylinders": 6,
            "Displacement": 225,
            "Horsepower": 110,
            "Miles_per_Gallon": 18.6,
            "Name": "dodge aspen",
            "Origin": "USA",
            "Weight_in_lbs": 3620,
            "Year": "1978-01-01"
           },
           {
            "Acceleration": 15.1,
            "Cylinders": 6,
            "Displacement": 258,
            "Horsepower": 120,
            "Miles_per_Gallon": 18.1,
            "Name": "amc concord d/l",
            "Origin": "USA",
            "Weight_in_lbs": 3410,
            "Year": "1978-01-01"
           },
           {
            "Acceleration": 13.2,
            "Cylinders": 8,
            "Displacement": 305,
            "Horsepower": 145,
            "Miles_per_Gallon": 19.2,
            "Name": "chevrolet monte carlo landau",
            "Origin": "USA",
            "Weight_in_lbs": 3425,
            "Year": "1978-01-01"
           },
           {
            "Acceleration": 13.4,
            "Cylinders": 6,
            "Displacement": 231,
            "Horsepower": 165,
            "Miles_per_Gallon": 17.7,
            "Name": "buick regal sport coupe (turbo)",
            "Origin": "USA",
            "Weight_in_lbs": 3445,
            "Year": "1978-01-01"
           },
           {
            "Acceleration": 11.2,
            "Cylinders": 8,
            "Displacement": 302,
            "Horsepower": 139,
            "Miles_per_Gallon": 18.1,
            "Name": "ford futura",
            "Origin": "USA",
            "Weight_in_lbs": 3205,
            "Year": "1978-01-01"
           },
           {
            "Acceleration": 13.7,
            "Cylinders": 8,
            "Displacement": 318,
            "Horsepower": 140,
            "Miles_per_Gallon": 17.5,
            "Name": "dodge magnum xe",
            "Origin": "USA",
            "Weight_in_lbs": 4080,
            "Year": "1978-01-01"
           },
           {
            "Acceleration": 16.5,
            "Cylinders": 4,
            "Displacement": 98,
            "Horsepower": 68,
            "Miles_per_Gallon": 30,
            "Name": "chevrolet chevette",
            "Origin": "USA",
            "Weight_in_lbs": 2155,
            "Year": "1978-01-01"
           },
           {
            "Acceleration": 14.2,
            "Cylinders": 4,
            "Displacement": 134,
            "Horsepower": 95,
            "Miles_per_Gallon": 27.5,
            "Name": "toyota corona",
            "Origin": "Japan",
            "Weight_in_lbs": 2560,
            "Year": "1978-01-01"
           },
           {
            "Acceleration": 14.7,
            "Cylinders": 4,
            "Displacement": 119,
            "Horsepower": 97,
            "Miles_per_Gallon": 27.2,
            "Name": "datsun 510",
            "Origin": "Japan",
            "Weight_in_lbs": 2300,
            "Year": "1978-01-01"
           },
           {
            "Acceleration": 14.5,
            "Cylinders": 4,
            "Displacement": 105,
            "Horsepower": 75,
            "Miles_per_Gallon": 30.9,
            "Name": "dodge omni",
            "Origin": "USA",
            "Weight_in_lbs": 2230,
            "Year": "1978-01-01"
           },
           {
            "Acceleration": 14.8,
            "Cylinders": 4,
            "Displacement": 134,
            "Horsepower": 95,
            "Miles_per_Gallon": 21.1,
            "Name": "toyota celica gt liftback",
            "Origin": "Japan",
            "Weight_in_lbs": 2515,
            "Year": "1978-01-01"
           },
           {
            "Acceleration": 16.7,
            "Cylinders": 4,
            "Displacement": 156,
            "Horsepower": 105,
            "Miles_per_Gallon": 23.2,
            "Name": "plymouth sapporo",
            "Origin": "USA",
            "Weight_in_lbs": 2745,
            "Year": "1978-01-01"
           },
           {
            "Acceleration": 17.6,
            "Cylinders": 4,
            "Displacement": 151,
            "Horsepower": 85,
            "Miles_per_Gallon": 23.8,
            "Name": "oldsmobile starfire sx",
            "Origin": "USA",
            "Weight_in_lbs": 2855,
            "Year": "1978-01-01"
           },
           {
            "Acceleration": 14.9,
            "Cylinders": 4,
            "Displacement": 119,
            "Horsepower": 97,
            "Miles_per_Gallon": 23.9,
            "Name": "datsun 200-sx",
            "Origin": "Japan",
            "Weight_in_lbs": 2405,
            "Year": "1978-01-01"
           },
           {
            "Acceleration": 15.9,
            "Cylinders": 5,
            "Displacement": 131,
            "Horsepower": 103,
            "Miles_per_Gallon": 20.3,
            "Name": "audi 5000",
            "Origin": "Europe",
            "Weight_in_lbs": 2830,
            "Year": "1978-01-01"
           },
           {
            "Acceleration": 13.6,
            "Cylinders": 6,
            "Displacement": 163,
            "Horsepower": 125,
            "Miles_per_Gallon": 17,
            "Name": "volvo 264gl",
            "Origin": "Europe",
            "Weight_in_lbs": 3140,
            "Year": "1978-01-01"
           },
           {
            "Acceleration": 15.7,
            "Cylinders": 4,
            "Displacement": 121,
            "Horsepower": 115,
            "Miles_per_Gallon": 21.6,
            "Name": "saab 99gle",
            "Origin": "Europe",
            "Weight_in_lbs": 2795,
            "Year": "1978-01-01"
           },
           {
            "Acceleration": 15.8,
            "Cylinders": 6,
            "Displacement": 163,
            "Horsepower": 133,
            "Miles_per_Gallon": 16.2,
            "Name": "peugeot 604sl",
            "Origin": "Europe",
            "Weight_in_lbs": 3410,
            "Year": "1978-01-01"
           },
           {
            "Acceleration": 14.9,
            "Cylinders": 4,
            "Displacement": 89,
            "Horsepower": 71,
            "Miles_per_Gallon": 31.5,
            "Name": "volkswagen scirocco",
            "Origin": "Europe",
            "Weight_in_lbs": 1990,
            "Year": "1978-01-01"
           },
           {
            "Acceleration": 16.6,
            "Cylinders": 4,
            "Displacement": 98,
            "Horsepower": 68,
            "Miles_per_Gallon": 29.5,
            "Name": "honda Accelerationord lx",
            "Origin": "Japan",
            "Weight_in_lbs": 2135,
            "Year": "1978-01-01"
           },
           {
            "Acceleration": 15.4,
            "Cylinders": 6,
            "Displacement": 231,
            "Horsepower": 115,
            "Miles_per_Gallon": 21.5,
            "Name": "pontiac lemans v6",
            "Origin": "USA",
            "Weight_in_lbs": 3245,
            "Year": "1979-01-01"
           },
           {
            "Acceleration": 18.2,
            "Cylinders": 6,
            "Displacement": 200,
            "Horsepower": 85,
            "Miles_per_Gallon": 19.8,
            "Name": "mercury zephyr 6",
            "Origin": "USA",
            "Weight_in_lbs": 2990,
            "Year": "1979-01-01"
           },
           {
            "Acceleration": 17.3,
            "Cylinders": 4,
            "Displacement": 140,
            "Horsepower": 88,
            "Miles_per_Gallon": 22.3,
            "Name": "ford fairmont 4",
            "Origin": "USA",
            "Weight_in_lbs": 2890,
            "Year": "1979-01-01"
           },
           {
            "Acceleration": 18.2,
            "Cylinders": 6,
            "Displacement": 232,
            "Horsepower": 90,
            "Miles_per_Gallon": 20.2,
            "Name": "amc concord dl 6",
            "Origin": "USA",
            "Weight_in_lbs": 3265,
            "Year": "1979-01-01"
           },
           {
            "Acceleration": 16.6,
            "Cylinders": 6,
            "Displacement": 225,
            "Horsepower": 110,
            "Miles_per_Gallon": 20.6,
            "Name": "dodge aspen 6",
            "Origin": "USA",
            "Weight_in_lbs": 3360,
            "Year": "1979-01-01"
           },
           {
            "Acceleration": 15.4,
            "Cylinders": 8,
            "Displacement": 305,
            "Horsepower": 130,
            "Miles_per_Gallon": 17,
            "Name": "chevrolet caprice classic",
            "Origin": "USA",
            "Weight_in_lbs": 3840,
            "Year": "1979-01-01"
           },
           {
            "Acceleration": 13.4,
            "Cylinders": 8,
            "Displacement": 302,
            "Horsepower": 129,
            "Miles_per_Gallon": 17.6,
            "Name": "ford ltd landau",
            "Origin": "USA",
            "Weight_in_lbs": 3725,
            "Year": "1979-01-01"
           },
           {
            "Acceleration": 13.2,
            "Cylinders": 8,
            "Displacement": 351,
            "Horsepower": 138,
            "Miles_per_Gallon": 16.5,
            "Name": "mercury grand marquis",
            "Origin": "USA",
            "Weight_in_lbs": 3955,
            "Year": "1979-01-01"
           },
           {
            "Acceleration": 15.2,
            "Cylinders": 8,
            "Displacement": 318,
            "Horsepower": 135,
            "Miles_per_Gallon": 18.2,
            "Name": "dodge st. regis",
            "Origin": "USA",
            "Weight_in_lbs": 3830,
            "Year": "1979-01-01"
           },
           {
            "Acceleration": 14.9,
            "Cylinders": 8,
            "Displacement": 350,
            "Horsepower": 155,
            "Miles_per_Gallon": 16.9,
            "Name": "buick estate wagon (sw)",
            "Origin": "USA",
            "Weight_in_lbs": 4360,
            "Year": "1979-01-01"
           },
           {
            "Acceleration": 14.3,
            "Cylinders": 8,
            "Displacement": 351,
            "Horsepower": 142,
            "Miles_per_Gallon": 15.5,
            "Name": "ford country squire (sw)",
            "Origin": "USA",
            "Weight_in_lbs": 4054,
            "Year": "1979-01-01"
           },
           {
            "Acceleration": 15,
            "Cylinders": 8,
            "Displacement": 267,
            "Horsepower": 125,
            "Miles_per_Gallon": 19.2,
            "Name": "chevrolet malibu classic (sw)",
            "Origin": "USA",
            "Weight_in_lbs": 3605,
            "Year": "1979-01-01"
           },
           {
            "Acceleration": 13,
            "Cylinders": 8,
            "Displacement": 360,
            "Horsepower": 150,
            "Miles_per_Gallon": 18.5,
            "Name": "chrysler lebaron town @ country (sw)",
            "Origin": "USA",
            "Weight_in_lbs": 3940,
            "Year": "1979-01-01"
           },
           {
            "Acceleration": 14,
            "Cylinders": 4,
            "Displacement": 89,
            "Horsepower": 71,
            "Miles_per_Gallon": 31.9,
            "Name": "vw rabbit custom",
            "Origin": "Europe",
            "Weight_in_lbs": 1925,
            "Year": "1979-01-01"
           },
           {
            "Acceleration": 15.2,
            "Cylinders": 4,
            "Displacement": 86,
            "Horsepower": 65,
            "Miles_per_Gallon": 34.1,
            "Name": "maxda glc deluxe",
            "Origin": "Japan",
            "Weight_in_lbs": 1975,
            "Year": "1979-01-01"
           },
           {
            "Acceleration": 14.4,
            "Cylinders": 4,
            "Displacement": 98,
            "Horsepower": 80,
            "Miles_per_Gallon": 35.7,
            "Name": "dodge colt hatchback custom",
            "Origin": "USA",
            "Weight_in_lbs": 1915,
            "Year": "1979-01-01"
           },
           {
            "Acceleration": 15,
            "Cylinders": 4,
            "Displacement": 121,
            "Horsepower": 80,
            "Miles_per_Gallon": 27.4,
            "Name": "amc spirit dl",
            "Origin": "USA",
            "Weight_in_lbs": 2670,
            "Year": "1979-01-01"
           },
           {
            "Acceleration": 20.1,
            "Cylinders": 5,
            "Displacement": 183,
            "Horsepower": 77,
            "Miles_per_Gallon": 25.4,
            "Name": "mercedes benz 300d",
            "Origin": "Europe",
            "Weight_in_lbs": 3530,
            "Year": "1979-01-01"
           },
           {
            "Acceleration": 17.4,
            "Cylinders": 8,
            "Displacement": 350,
            "Horsepower": 125,
            "Miles_per_Gallon": 23,
            "Name": "cadillac eldorado",
            "Origin": "USA",
            "Weight_in_lbs": 3900,
            "Year": "1979-01-01"
           },
           {
            "Acceleration": 24.8,
            "Cylinders": 4,
            "Displacement": 141,
            "Horsepower": 71,
            "Miles_per_Gallon": 27.2,
            "Name": "peugeot 504",
            "Origin": "Europe",
            "Weight_in_lbs": 3190,
            "Year": "1979-01-01"
           },
           {
            "Acceleration": 22.2,
            "Cylinders": 8,
            "Displacement": 260,
            "Horsepower": 90,
            "Miles_per_Gallon": 23.9,
            "Name": "oldsmobile cutlass salon brougham",
            "Origin": "USA",
            "Weight_in_lbs": 3420,
            "Year": "1979-01-01"
           },
           {
            "Acceleration": 13.2,
            "Cylinders": 4,
            "Displacement": 105,
            "Horsepower": 70,
            "Miles_per_Gallon": 34.2,
            "Name": "plymouth horizon",
            "Origin": "USA",
            "Weight_in_lbs": 2200,
            "Year": "1979-01-01"
           },
           {
            "Acceleration": 14.9,
            "Cylinders": 4,
            "Displacement": 105,
            "Horsepower": 70,
            "Miles_per_Gallon": 34.5,
            "Name": "plymouth horizon tc3",
            "Origin": "USA",
            "Weight_in_lbs": 2150,
            "Year": "1979-01-01"
           },
           {
            "Acceleration": 19.2,
            "Cylinders": 4,
            "Displacement": 85,
            "Horsepower": 65,
            "Miles_per_Gallon": 31.8,
            "Name": "datsun 210",
            "Origin": "Japan",
            "Weight_in_lbs": 2020,
            "Year": "1979-01-01"
           },
           {
            "Acceleration": 14.7,
            "Cylinders": 4,
            "Displacement": 91,
            "Horsepower": 69,
            "Miles_per_Gallon": 37.3,
            "Name": "fiat strada custom",
            "Origin": "Europe",
            "Weight_in_lbs": 2130,
            "Year": "1979-01-01"
           },
           {
            "Acceleration": 16,
            "Cylinders": 4,
            "Displacement": 151,
            "Horsepower": 90,
            "Miles_per_Gallon": 28.4,
            "Name": "buick skylark limited",
            "Origin": "USA",
            "Weight_in_lbs": 2670,
            "Year": "1979-01-01"
           },
           {
            "Acceleration": 11.3,
            "Cylinders": 6,
            "Displacement": 173,
            "Horsepower": 115,
            "Miles_per_Gallon": 28.8,
            "Name": "chevrolet citation",
            "Origin": "USA",
            "Weight_in_lbs": 2595,
            "Year": "1979-01-01"
           },
           {
            "Acceleration": 12.9,
            "Cylinders": 6,
            "Displacement": 173,
            "Horsepower": 115,
            "Miles_per_Gallon": 26.8,
            "Name": "oldsmobile omega brougham",
            "Origin": "USA",
            "Weight_in_lbs": 2700,
            "Year": "1979-01-01"
           },
           {
            "Acceleration": 13.2,
            "Cylinders": 4,
            "Displacement": 151,
            "Horsepower": 90,
            "Miles_per_Gallon": 33.5,
            "Name": "pontiac phoenix",
            "Origin": "USA",
            "Weight_in_lbs": 2556,
            "Year": "1979-01-01"
           },
           {
            "Acceleration": 14.7,
            "Cylinders": 4,
            "Displacement": 98,
            "Horsepower": 76,
            "Miles_per_Gallon": 41.5,
            "Name": "vw rabbit",
            "Origin": "Europe",
            "Weight_in_lbs": 2144,
            "Year": "1980-01-01"
           },
           {
            "Acceleration": 18.8,
            "Cylinders": 4,
            "Displacement": 89,
            "Horsepower": 60,
            "Miles_per_Gallon": 38.1,
            "Name": "toyota corolla tercel",
            "Origin": "Japan",
            "Weight_in_lbs": 1968,
            "Year": "1980-01-01"
           },
           {
            "Acceleration": 15.5,
            "Cylinders": 4,
            "Displacement": 98,
            "Horsepower": 70,
            "Miles_per_Gallon": 32.1,
            "Name": "chevrolet chevette",
            "Origin": "USA",
            "Weight_in_lbs": 2120,
            "Year": "1980-01-01"
           },
           {
            "Acceleration": 16.4,
            "Cylinders": 4,
            "Displacement": 86,
            "Horsepower": 65,
            "Miles_per_Gallon": 37.2,
            "Name": "datsun 310",
            "Origin": "Japan",
            "Weight_in_lbs": 2019,
            "Year": "1980-01-01"
           },
           {
            "Acceleration": 16.5,
            "Cylinders": 4,
            "Displacement": 151,
            "Horsepower": 90,
            "Miles_per_Gallon": 28,
            "Name": "chevrolet citation",
            "Origin": "USA",
            "Weight_in_lbs": 2678,
            "Year": "1980-01-01"
           },
           {
            "Acceleration": 18.1,
            "Cylinders": 4,
            "Displacement": 140,
            "Horsepower": 88,
            "Miles_per_Gallon": 26.4,
            "Name": "ford fairmont",
            "Origin": "USA",
            "Weight_in_lbs": 2870,
            "Year": "1980-01-01"
           },
           {
            "Acceleration": 20.1,
            "Cylinders": 4,
            "Displacement": 151,
            "Horsepower": 90,
            "Miles_per_Gallon": 24.3,
            "Name": "amc concord",
            "Origin": "USA",
            "Weight_in_lbs": 3003,
            "Year": "1980-01-01"
           },
           {
            "Acceleration": 18.7,
            "Cylinders": 6,
            "Displacement": 225,
            "Horsepower": 90,
            "Miles_per_Gallon": 19.1,
            "Name": "dodge aspen",
            "Origin": "USA",
            "Weight_in_lbs": 3381,
            "Year": "1980-01-01"
           },
           {
            "Acceleration": 15.8,
            "Cylinders": 4,
            "Displacement": 97,
            "Horsepower": 78,
            "Miles_per_Gallon": 34.3,
            "Name": "audi 4000",
            "Origin": "Europe",
            "Weight_in_lbs": 2188,
            "Year": "1980-01-01"
           },
           {
            "Acceleration": 15.5,
            "Cylinders": 4,
            "Displacement": 134,
            "Horsepower": 90,
            "Miles_per_Gallon": 29.8,
            "Name": "toyota corona liftback",
            "Origin": "Japan",
            "Weight_in_lbs": 2711,
            "Year": "1980-01-01"
           },
           {
            "Acceleration": 17.5,
            "Cylinders": 4,
            "Displacement": 120,
            "Horsepower": 75,
            "Miles_per_Gallon": 31.3,
            "Name": "mazda 626",
            "Origin": "Japan",
            "Weight_in_lbs": 2542,
            "Year": "1980-01-01"
           },
           {
            "Acceleration": 15,
            "Cylinders": 4,
            "Displacement": 119,
            "Horsepower": 92,
            "Miles_per_Gallon": 37,
            "Name": "datsun 510 hatchback",
            "Origin": "Japan",
            "Weight_in_lbs": 2434,
            "Year": "1980-01-01"
           },
           {
            "Acceleration": 15.2,
            "Cylinders": 4,
            "Displacement": 108,
            "Horsepower": 75,
            "Miles_per_Gallon": 32.2,
            "Name": "toyota corolla",
            "Origin": "Japan",
            "Weight_in_lbs": 2265,
            "Year": "1980-01-01"
           },
           {
            "Acceleration": 17.9,
            "Cylinders": 4,
            "Displacement": 86,
            "Horsepower": 65,
            "Miles_per_Gallon": 46.6,
            "Name": "mazda glc",
            "Origin": "Japan",
            "Weight_in_lbs": 2110,
            "Year": "1980-01-01"
           },
           {
            "Acceleration": 14.4,
            "Cylinders": 4,
            "Displacement": 156,
            "Horsepower": 105,
            "Miles_per_Gallon": 27.9,
            "Name": "dodge colt",
            "Origin": "USA",
            "Weight_in_lbs": 2800,
            "Year": "1980-01-01"
           },
           {
            "Acceleration": 19.2,
            "Cylinders": 4,
            "Displacement": 85,
            "Horsepower": 65,
            "Miles_per_Gallon": 40.8,
            "Name": "datsun 210",
            "Origin": "Japan",
            "Weight_in_lbs": 2110,
            "Year": "1980-01-01"
           },
           {
            "Acceleration": 21.7,
            "Cylinders": 4,
            "Displacement": 90,
            "Horsepower": 48,
            "Miles_per_Gallon": 44.3,
            "Name": "vw rabbit c (diesel)",
            "Origin": "Europe",
            "Weight_in_lbs": 2085,
            "Year": "1980-01-01"
           },
           {
            "Acceleration": 23.7,
            "Cylinders": 4,
            "Displacement": 90,
            "Horsepower": 48,
            "Miles_per_Gallon": 43.4,
            "Name": "vw dasher (diesel)",
            "Origin": "Europe",
            "Weight_in_lbs": 2335,
            "Year": "1980-01-01"
           },
           {
            "Acceleration": 19.9,
            "Cylinders": 5,
            "Displacement": 121,
            "Horsepower": 67,
            "Miles_per_Gallon": 36.4,
            "Name": "audi 5000s (diesel)",
            "Origin": "Europe",
            "Weight_in_lbs": 2950,
            "Year": "1980-01-01"
           },
           {
            "Acceleration": 21.8,
            "Cylinders": 4,
            "Displacement": 146,
            "Horsepower": 67,
            "Miles_per_Gallon": 30,
            "Name": "mercedes-benz 240d",
            "Origin": "Europe",
            "Weight_in_lbs": 3250,
            "Year": "1980-01-01"
           },
           {
            "Acceleration": 13.8,
            "Cylinders": 4,
            "Displacement": 91,
            "Horsepower": 67,
            "Miles_per_Gallon": 44.6,
            "Name": "honda civic 1500 gl",
            "Origin": "Japan",
            "Weight_in_lbs": 1850,
            "Year": "1980-01-01"
           },
           {
            "Acceleration": 17.3,
            "Cylinders": 4,
            "Displacement": 85,
            "Horsepower": null,
            "Miles_per_Gallon": 40.9,
            "Name": "renault lecar deluxe",
            "Origin": "Europe",
            "Weight_in_lbs": 1835,
            "Year": "1980-01-01"
           },
           {
            "Acceleration": 18,
            "Cylinders": 4,
            "Displacement": 97,
            "Horsepower": 67,
            "Miles_per_Gallon": 33.8,
            "Name": "subaru dl",
            "Origin": "Japan",
            "Weight_in_lbs": 2145,
            "Year": "1980-01-01"
           },
           {
            "Acceleration": 15.3,
            "Cylinders": 4,
            "Displacement": 89,
            "Horsepower": 62,
            "Miles_per_Gallon": 29.8,
            "Name": "vokswagen rabbit",
            "Origin": "Europe",
            "Weight_in_lbs": 1845,
            "Year": "1980-01-01"
           },
           {
            "Acceleration": 11.4,
            "Cylinders": 6,
            "Displacement": 168,
            "Horsepower": 132,
            "Miles_per_Gallon": 32.7,
            "Name": "datsun 280-zx",
            "Origin": "Japan",
            "Weight_in_lbs": 2910,
            "Year": "1980-01-01"
           },
           {
            "Acceleration": 12.5,
            "Cylinders": 3,
            "Displacement": 70,
            "Horsepower": 100,
            "Miles_per_Gallon": 23.7,
            "Name": "mazda rx-7 gs",
            "Origin": "Japan",
            "Weight_in_lbs": 2420,
            "Year": "1980-01-01"
           },
           {
            "Acceleration": 15.1,
            "Cylinders": 4,
            "Displacement": 122,
            "Horsepower": 88,
            "Miles_per_Gallon": 35,
            "Name": "triumph tr7 coupe",
            "Origin": "Europe",
            "Weight_in_lbs": 2500,
            "Year": "1980-01-01"
           },
           {
            "Acceleration": 14.3,
            "Cylinders": 4,
            "Displacement": 140,
            "Horsepower": null,
            "Miles_per_Gallon": 23.6,
            "Name": "ford mustang cobra",
            "Origin": "USA",
            "Weight_in_lbs": 2905,
            "Year": "1980-01-01"
           },
           {
            "Acceleration": 17,
            "Cylinders": 4,
            "Displacement": 107,
            "Horsepower": 72,
            "Miles_per_Gallon": 32.4,
            "Name": "honda Accelerationord",
            "Origin": "Japan",
            "Weight_in_lbs": 2290,
            "Year": "1980-01-01"
           },
           {
            "Acceleration": 15.7,
            "Cylinders": 4,
            "Displacement": 135,
            "Horsepower": 84,
            "Miles_per_Gallon": 27.2,
            "Name": "plymouth reliant",
            "Origin": "USA",
            "Weight_in_lbs": 2490,
            "Year": "1982-01-01"
           },
           {
            "Acceleration": 16.4,
            "Cylinders": 4,
            "Displacement": 151,
            "Horsepower": 84,
            "Miles_per_Gallon": 26.6,
            "Name": "buick skylark",
            "Origin": "USA",
            "Weight_in_lbs": 2635,
            "Year": "1982-01-01"
           },
           {
            "Acceleration": 14.4,
            "Cylinders": 4,
            "Displacement": 156,
            "Horsepower": 92,
            "Miles_per_Gallon": 25.8,
            "Name": "dodge aries wagon (sw)",
            "Origin": "USA",
            "Weight_in_lbs": 2620,
            "Year": "1982-01-01"
           },
           {
            "Acceleration": 12.6,
            "Cylinders": 6,
            "Displacement": 173,
            "Horsepower": 110,
            "Miles_per_Gallon": 23.5,
            "Name": "chevrolet citation",
            "Origin": "USA",
            "Weight_in_lbs": 2725,
            "Year": "1982-01-01"
           },
           {
            "Acceleration": 12.9,
            "Cylinders": 4,
            "Displacement": 135,
            "Horsepower": 84,
            "Miles_per_Gallon": 30,
            "Name": "plymouth reliant",
            "Origin": "USA",
            "Weight_in_lbs": 2385,
            "Year": "1982-01-01"
           },
           {
            "Acceleration": 16.9,
            "Cylinders": 4,
            "Displacement": 79,
            "Horsepower": 58,
            "Miles_per_Gallon": 39.1,
            "Name": "toyota starlet",
            "Origin": "Japan",
            "Weight_in_lbs": 1755,
            "Year": "1982-01-01"
           },
           {
            "Acceleration": 16.4,
            "Cylinders": 4,
            "Displacement": 86,
            "Horsepower": 64,
            "Miles_per_Gallon": 39,
            "Name": "plymouth champ",
            "Origin": "USA",
            "Weight_in_lbs": 1875,
            "Year": "1982-01-01"
           },
           {
            "Acceleration": 16.1,
            "Cylinders": 4,
            "Displacement": 81,
            "Horsepower": 60,
            "Miles_per_Gallon": 35.1,
            "Name": "honda civic 1300",
            "Origin": "Japan",
            "Weight_in_lbs": 1760,
            "Year": "1982-01-01"
           },
           {
            "Acceleration": 17.8,
            "Cylinders": 4,
            "Displacement": 97,
            "Horsepower": 67,
            "Miles_per_Gallon": 32.3,
            "Name": "subaru",
            "Origin": "Japan",
            "Weight_in_lbs": 2065,
            "Year": "1982-01-01"
           },
           {
            "Acceleration": 19.4,
            "Cylinders": 4,
            "Displacement": 85,
            "Horsepower": 65,
            "Miles_per_Gallon": 37,
            "Name": "datsun 210",
            "Origin": "Japan",
            "Weight_in_lbs": 1975,
            "Year": "1982-01-01"
           },
           {
            "Acceleration": 17.3,
            "Cylinders": 4,
            "Displacement": 89,
            "Horsepower": 62,
            "Miles_per_Gallon": 37.7,
            "Name": "toyota tercel",
            "Origin": "Japan",
            "Weight_in_lbs": 2050,
            "Year": "1982-01-01"
           },
           {
            "Acceleration": 16,
            "Cylinders": 4,
            "Displacement": 91,
            "Horsepower": 68,
            "Miles_per_Gallon": 34.1,
            "Name": "mazda glc 4",
            "Origin": "Japan",
            "Weight_in_lbs": 1985,
            "Year": "1982-01-01"
           },
           {
            "Acceleration": 14.9,
            "Cylinders": 4,
            "Displacement": 105,
            "Horsepower": 63,
            "Miles_per_Gallon": 34.7,
            "Name": "plymouth horizon 4",
            "Origin": "USA",
            "Weight_in_lbs": 2215,
            "Year": "1982-01-01"
           },
           {
            "Acceleration": 16.2,
            "Cylinders": 4,
            "Displacement": 98,
            "Horsepower": 65,
            "Miles_per_Gallon": 34.4,
            "Name": "ford escort 4w",
            "Origin": "USA",
            "Weight_in_lbs": 2045,
            "Year": "1982-01-01"
           },
           {
            "Acceleration": 20.7,
            "Cylinders": 4,
            "Displacement": 98,
            "Horsepower": 65,
            "Miles_per_Gallon": 29.9,
            "Name": "ford escort 2h",
            "Origin": "USA",
            "Weight_in_lbs": 2380,
            "Year": "1982-01-01"
           },
           {
            "Acceleration": 14.2,
            "Cylinders": 4,
            "Displacement": 105,
            "Horsepower": 74,
            "Miles_per_Gallon": 33,
            "Name": "volkswagen jetta",
            "Origin": "Europe",
            "Weight_in_lbs": 2190,
            "Year": "1982-01-01"
           },
           {
            "Acceleration": 15.8,
            "Cylinders": 4,
            "Displacement": 100,
            "Horsepower": null,
            "Miles_per_Gallon": 34.5,
            "Name": "renault 18i",
            "Origin": "Europe",
            "Weight_in_lbs": 2320,
            "Year": "1982-01-01"
           },
           {
            "Acceleration": 14.4,
            "Cylinders": 4,
            "Displacement": 107,
            "Horsepower": 75,
            "Miles_per_Gallon": 33.7,
            "Name": "honda prelude",
            "Origin": "Japan",
            "Weight_in_lbs": 2210,
            "Year": "1982-01-01"
           },
           {
            "Acceleration": 16.8,
            "Cylinders": 4,
            "Displacement": 108,
            "Horsepower": 75,
            "Miles_per_Gallon": 32.4,
            "Name": "toyota corolla",
            "Origin": "Japan",
            "Weight_in_lbs": 2350,
            "Year": "1982-01-01"
           },
           {
            "Acceleration": 14.8,
            "Cylinders": 4,
            "Displacement": 119,
            "Horsepower": 100,
            "Miles_per_Gallon": 32.9,
            "Name": "datsun 200sx",
            "Origin": "Japan",
            "Weight_in_lbs": 2615,
            "Year": "1982-01-01"
           },
           {
            "Acceleration": 18.3,
            "Cylinders": 4,
            "Displacement": 120,
            "Horsepower": 74,
            "Miles_per_Gallon": 31.6,
            "Name": "mazda 626",
            "Origin": "Japan",
            "Weight_in_lbs": 2635,
            "Year": "1982-01-01"
           },
           {
            "Acceleration": 20.4,
            "Cylinders": 4,
            "Displacement": 141,
            "Horsepower": 80,
            "Miles_per_Gallon": 28.1,
            "Name": "peugeot 505s turbo diesel",
            "Origin": "Europe",
            "Weight_in_lbs": 3230,
            "Year": "1982-01-01"
           },
           {
            "Acceleration": 15.4,
            "Cylinders": 4,
            "Displacement": 121,
            "Horsepower": 110,
            "Miles_per_Gallon": null,
            "Name": "saab 900s",
            "Origin": "Europe",
            "Weight_in_lbs": 2800,
            "Year": "1982-01-01"
           },
           {
            "Acceleration": 19.6,
            "Cylinders": 6,
            "Displacement": 145,
            "Horsepower": 76,
            "Miles_per_Gallon": 30.7,
            "Name": "volvo diesel",
            "Origin": "Europe",
            "Weight_in_lbs": 3160,
            "Year": "1982-01-01"
           },
           {
            "Acceleration": 12.6,
            "Cylinders": 6,
            "Displacement": 168,
            "Horsepower": 116,
            "Miles_per_Gallon": 25.4,
            "Name": "toyota cressida",
            "Origin": "Japan",
            "Weight_in_lbs": 2900,
            "Year": "1982-01-01"
           },
           {
            "Acceleration": 13.8,
            "Cylinders": 6,
            "Displacement": 146,
            "Horsepower": 120,
            "Miles_per_Gallon": 24.2,
            "Name": "datsun 810 maxima",
            "Origin": "Japan",
            "Weight_in_lbs": 2930,
            "Year": "1982-01-01"
           },
           {
            "Acceleration": 15.8,
            "Cylinders": 6,
            "Displacement": 231,
            "Horsepower": 110,
            "Miles_per_Gallon": 22.4,
            "Name": "buick century",
            "Origin": "USA",
            "Weight_in_lbs": 3415,
            "Year": "1982-01-01"
           },
           {
            "Acceleration": 19,
            "Cylinders": 8,
            "Displacement": 350,
            "Horsepower": 105,
            "Miles_per_Gallon": 26.6,
            "Name": "oldsmobile cutlass ls",
            "Origin": "USA",
            "Weight_in_lbs": 3725,
            "Year": "1982-01-01"
           },
           {
            "Acceleration": 17.1,
            "Cylinders": 6,
            "Displacement": 200,
            "Horsepower": 88,
            "Miles_per_Gallon": 20.2,
            "Name": "ford granada gl",
            "Origin": "USA",
            "Weight_in_lbs": 3060,
            "Year": "1982-01-01"
           },
           {
            "Acceleration": 16.6,
            "Cylinders": 6,
            "Displacement": 225,
            "Horsepower": 85,
            "Miles_per_Gallon": 17.6,
            "Name": "chrysler lebaron salon",
            "Origin": "USA",
            "Weight_in_lbs": 3465,
            "Year": "1982-01-01"
           },
           {
            "Acceleration": 19.6,
            "Cylinders": 4,
            "Displacement": 112,
            "Horsepower": 88,
            "Miles_per_Gallon": 28,
            "Name": "chevrolet cavalier",
            "Origin": "USA",
            "Weight_in_lbs": 2605,
            "Year": "1982-01-01"
           },
           {
            "Acceleration": 18.6,
            "Cylinders": 4,
            "Displacement": 112,
            "Horsepower": 88,
            "Miles_per_Gallon": 27,
            "Name": "chevrolet cavalier wagon",
            "Origin": "USA",
            "Weight_in_lbs": 2640,
            "Year": "1982-01-01"
           },
           {
            "Acceleration": 18,
            "Cylinders": 4,
            "Displacement": 112,
            "Horsepower": 88,
            "Miles_per_Gallon": 34,
            "Name": "chevrolet cavalier 2-door",
            "Origin": "USA",
            "Weight_in_lbs": 2395,
            "Year": "1982-01-01"
           },
           {
            "Acceleration": 16.2,
            "Cylinders": 4,
            "Displacement": 112,
            "Horsepower": 85,
            "Miles_per_Gallon": 31,
            "Name": "pontiac j2000 se hatchback",
            "Origin": "USA",
            "Weight_in_lbs": 2575,
            "Year": "1982-01-01"
           },
           {
            "Acceleration": 16,
            "Cylinders": 4,
            "Displacement": 135,
            "Horsepower": 84,
            "Miles_per_Gallon": 29,
            "Name": "dodge aries se",
            "Origin": "USA",
            "Weight_in_lbs": 2525,
            "Year": "1982-01-01"
           },
           {
            "Acceleration": 18,
            "Cylinders": 4,
            "Displacement": 151,
            "Horsepower": 90,
            "Miles_per_Gallon": 27,
            "Name": "pontiac phoenix",
            "Origin": "USA",
            "Weight_in_lbs": 2735,
            "Year": "1982-01-01"
           },
           {
            "Acceleration": 16.4,
            "Cylinders": 4,
            "Displacement": 140,
            "Horsepower": 92,
            "Miles_per_Gallon": 24,
            "Name": "ford fairmont futura",
            "Origin": "USA",
            "Weight_in_lbs": 2865,
            "Year": "1982-01-01"
           },
           {
            "Acceleration": 20.5,
            "Cylinders": 4,
            "Displacement": 151,
            "Horsepower": null,
            "Miles_per_Gallon": 23,
            "Name": "amc concord dl",
            "Origin": "USA",
            "Weight_in_lbs": 3035,
            "Year": "1982-01-01"
           },
           {
            "Acceleration": 15.3,
            "Cylinders": 4,
            "Displacement": 105,
            "Horsepower": 74,
            "Miles_per_Gallon": 36,
            "Name": "volkswagen rabbit l",
            "Origin": "Europe",
            "Weight_in_lbs": 1980,
            "Year": "1982-01-01"
           },
           {
            "Acceleration": 18.2,
            "Cylinders": 4,
            "Displacement": 91,
            "Horsepower": 68,
            "Miles_per_Gallon": 37,
            "Name": "mazda glc custom l",
            "Origin": "Japan",
            "Weight_in_lbs": 2025,
            "Year": "1982-01-01"
           },
           {
            "Acceleration": 17.6,
            "Cylinders": 4,
            "Displacement": 91,
            "Horsepower": 68,
            "Miles_per_Gallon": 31,
            "Name": "mazda glc custom",
            "Origin": "Japan",
            "Weight_in_lbs": 1970,
            "Year": "1982-01-01"
           },
           {
            "Acceleration": 14.7,
            "Cylinders": 4,
            "Displacement": 105,
            "Horsepower": 63,
            "Miles_per_Gallon": 38,
            "Name": "plymouth horizon miser",
            "Origin": "USA",
            "Weight_in_lbs": 2125,
            "Year": "1982-01-01"
           },
           {
            "Acceleration": 17.3,
            "Cylinders": 4,
            "Displacement": 98,
            "Horsepower": 70,
            "Miles_per_Gallon": 36,
            "Name": "mercury lynx l",
            "Origin": "USA",
            "Weight_in_lbs": 2125,
            "Year": "1982-01-01"
           },
           {
            "Acceleration": 14.5,
            "Cylinders": 4,
            "Displacement": 120,
            "Horsepower": 88,
            "Miles_per_Gallon": 36,
            "Name": "nissan stanza xe",
            "Origin": "Japan",
            "Weight_in_lbs": 2160,
            "Year": "1982-01-01"
           },
           {
            "Acceleration": 14.5,
            "Cylinders": 4,
            "Displacement": 107,
            "Horsepower": 75,
            "Miles_per_Gallon": 36,
            "Name": "honda Accelerationord",
            "Origin": "Japan",
            "Weight_in_lbs": 2205,
            "Year": "1982-01-01"
           },
           {
            "Acceleration": 16.9,
            "Cylinders": 4,
            "Displacement": 108,
            "Horsepower": 70,
            "Miles_per_Gallon": 34,
            "Name": "toyota corolla",
            "Origin": "Japan",
            "Weight_in_lbs": 2245,
            "Year": "1982-01-01"
           },
           {
            "Acceleration": 15,
            "Cylinders": 4,
            "Displacement": 91,
            "Horsepower": 67,
            "Miles_per_Gallon": 38,
            "Name": "honda civic",
            "Origin": "Japan",
            "Weight_in_lbs": 1965,
            "Year": "1982-01-01"
           },
           {
            "Acceleration": 15.7,
            "Cylinders": 4,
            "Displacement": 91,
            "Horsepower": 67,
            "Miles_per_Gallon": 32,
            "Name": "honda civic (auto)",
            "Origin": "Japan",
            "Weight_in_lbs": 1965,
            "Year": "1982-01-01"
           },
           {
            "Acceleration": 16.2,
            "Cylinders": 4,
            "Displacement": 91,
            "Horsepower": 67,
            "Miles_per_Gallon": 38,
            "Name": "datsun 310 gx",
            "Origin": "Japan",
            "Weight_in_lbs": 1995,
            "Year": "1982-01-01"
           },
           {
            "Acceleration": 16.4,
            "Cylinders": 6,
            "Displacement": 181,
            "Horsepower": 110,
            "Miles_per_Gallon": 25,
            "Name": "buick century limited",
            "Origin": "USA",
            "Weight_in_lbs": 2945,
            "Year": "1982-01-01"
           },
           {
            "Acceleration": 17,
            "Cylinders": 6,
            "Displacement": 262,
            "Horsepower": 85,
            "Miles_per_Gallon": 38,
            "Name": "oldsmobile cutlass ciera (diesel)",
            "Origin": "USA",
            "Weight_in_lbs": 3015,
            "Year": "1982-01-01"
           },
           {
            "Acceleration": 14.5,
            "Cylinders": 4,
            "Displacement": 156,
            "Horsepower": 92,
            "Miles_per_Gallon": 26,
            "Name": "chrysler lebaron medallion",
            "Origin": "USA",
            "Weight_in_lbs": 2585,
            "Year": "1982-01-01"
           },
           {
            "Acceleration": 14.7,
            "Cylinders": 6,
            "Displacement": 232,
            "Horsepower": 112,
            "Miles_per_Gallon": 22,
            "Name": "ford granada l",
            "Origin": "USA",
            "Weight_in_lbs": 2835,
            "Year": "1982-01-01"
           },
           {
            "Acceleration": 13.9,
            "Cylinders": 4,
            "Displacement": 144,
            "Horsepower": 96,
            "Miles_per_Gallon": 32,
            "Name": "toyota celica gt",
            "Origin": "Japan",
            "Weight_in_lbs": 2665,
            "Year": "1982-01-01"
           },
           {
            "Acceleration": 13,
            "Cylinders": 4,
            "Displacement": 135,
            "Horsepower": 84,
            "Miles_per_Gallon": 36,
            "Name": "dodge charger 2.2",
            "Origin": "USA",
            "Weight_in_lbs": 2370,
            "Year": "1982-01-01"
           },
           {
            "Acceleration": 17.3,
            "Cylinders": 4,
            "Displacement": 151,
            "Horsepower": 90,
            "Miles_per_Gallon": 27,
            "Name": "chevrolet camaro",
            "Origin": "USA",
            "Weight_in_lbs": 2950,
            "Year": "1982-01-01"
           },
           {
            "Acceleration": 15.6,
            "Cylinders": 4,
            "Displacement": 140,
            "Horsepower": 86,
            "Miles_per_Gallon": 27,
            "Name": "ford mustang gl",
            "Origin": "USA",
            "Weight_in_lbs": 2790,
            "Year": "1982-01-01"
           },
           {
            "Acceleration": 24.6,
            "Cylinders": 4,
            "Displacement": 97,
            "Horsepower": 52,
            "Miles_per_Gallon": 44,
            "Name": "vw pickup",
            "Origin": "Europe",
            "Weight_in_lbs": 2130,
            "Year": "1982-01-01"
           },
           {
            "Acceleration": 11.6,
            "Cylinders": 4,
            "Displacement": 135,
            "Horsepower": 84,
            "Miles_per_Gallon": 32,
            "Name": "dodge rampage",
            "Origin": "USA",
            "Weight_in_lbs": 2295,
            "Year": "1982-01-01"
           },
           {
            "Acceleration": 18.6,
            "Cylinders": 4,
            "Displacement": 120,
            "Horsepower": 79,
            "Miles_per_Gallon": 28,
            "Name": "ford ranger",
            "Origin": "USA",
            "Weight_in_lbs": 2625,
            "Year": "1982-01-01"
           },
           {
            "Acceleration": 19.4,
            "Cylinders": 4,
            "Displacement": 119,
            "Horsepower": 82,
            "Miles_per_Gallon": 31,
            "Name": "chevy s-10",
            "Origin": "USA",
            "Weight_in_lbs": 2720,
            "Year": "1982-01-01"
           }
          ]
         },
         "encoding": {
          "color": {
           "condition": {
            "field": "Origin",
            "selection": "selector004",
            "type": "nominal"
           },
           "value": "gray"
          },
          "x": {
           "field": "Horsepower",
           "type": "quantitative"
          },
          "y": {
           "field": "Miles_per_Gallon",
           "type": "quantitative"
          }
         },
         "height": 250,
         "mark": "point",
         "selection": {
          "selector004": {
           "encodings": [
            "x",
            "y"
           ],
           "mark": {
            "fill": "#333",
            "fillOpacity": 0.125,
            "stroke": "white"
           },
           "on": "[mousedown, window:mouseup] > window:mousemove!",
           "resolve": "global",
           "translate": "[mousedown, window:mouseup] > window:mousemove!",
           "type": "interval",
           "zoom": "wheel!"
          }
         },
         "width": 250
        },
        {
         "data": {
          "values": [
           {
            "Acceleration": 12,
            "Cylinders": 8,
            "Displacement": 307,
            "Horsepower": 130,
            "Miles_per_Gallon": 18,
            "Name": "chevrolet chevelle malibu",
            "Origin": "USA",
            "Weight_in_lbs": 3504,
            "Year": "1970-01-01"
           },
           {
            "Acceleration": 11.5,
            "Cylinders": 8,
            "Displacement": 350,
            "Horsepower": 165,
            "Miles_per_Gallon": 15,
            "Name": "buick skylark 320",
            "Origin": "USA",
            "Weight_in_lbs": 3693,
            "Year": "1970-01-01"
           },
           {
            "Acceleration": 11,
            "Cylinders": 8,
            "Displacement": 318,
            "Horsepower": 150,
            "Miles_per_Gallon": 18,
            "Name": "plymouth satellite",
            "Origin": "USA",
            "Weight_in_lbs": 3436,
            "Year": "1970-01-01"
           },
           {
            "Acceleration": 12,
            "Cylinders": 8,
            "Displacement": 304,
            "Horsepower": 150,
            "Miles_per_Gallon": 16,
            "Name": "amc rebel sst",
            "Origin": "USA",
            "Weight_in_lbs": 3433,
            "Year": "1970-01-01"
           },
           {
            "Acceleration": 10.5,
            "Cylinders": 8,
            "Displacement": 302,
            "Horsepower": 140,
            "Miles_per_Gallon": 17,
            "Name": "ford torino",
            "Origin": "USA",
            "Weight_in_lbs": 3449,
            "Year": "1970-01-01"
           },
           {
            "Acceleration": 10,
            "Cylinders": 8,
            "Displacement": 429,
            "Horsepower": 198,
            "Miles_per_Gallon": 15,
            "Name": "ford galaxie 500",
            "Origin": "USA",
            "Weight_in_lbs": 4341,
            "Year": "1970-01-01"
           },
           {
            "Acceleration": 9,
            "Cylinders": 8,
            "Displacement": 454,
            "Horsepower": 220,
            "Miles_per_Gallon": 14,
            "Name": "chevrolet impala",
            "Origin": "USA",
            "Weight_in_lbs": 4354,
            "Year": "1970-01-01"
           },
           {
            "Acceleration": 8.5,
            "Cylinders": 8,
            "Displacement": 440,
            "Horsepower": 215,
            "Miles_per_Gallon": 14,
            "Name": "plymouth fury iii",
            "Origin": "USA",
            "Weight_in_lbs": 4312,
            "Year": "1970-01-01"
           },
           {
            "Acceleration": 10,
            "Cylinders": 8,
            "Displacement": 455,
            "Horsepower": 225,
            "Miles_per_Gallon": 14,
            "Name": "pontiac catalina",
            "Origin": "USA",
            "Weight_in_lbs": 4425,
            "Year": "1970-01-01"
           },
           {
            "Acceleration": 8.5,
            "Cylinders": 8,
            "Displacement": 390,
            "Horsepower": 190,
            "Miles_per_Gallon": 15,
            "Name": "amc ambassador dpl",
            "Origin": "USA",
            "Weight_in_lbs": 3850,
            "Year": "1970-01-01"
           },
           {
            "Acceleration": 17.5,
            "Cylinders": 4,
            "Displacement": 133,
            "Horsepower": 115,
            "Miles_per_Gallon": null,
            "Name": "citroen ds-21 pallas",
            "Origin": "Europe",
            "Weight_in_lbs": 3090,
            "Year": "1970-01-01"
           },
           {
            "Acceleration": 11.5,
            "Cylinders": 8,
            "Displacement": 350,
            "Horsepower": 165,
            "Miles_per_Gallon": null,
            "Name": "chevrolet chevelle concours (sw)",
            "Origin": "USA",
            "Weight_in_lbs": 4142,
            "Year": "1970-01-01"
           },
           {
            "Acceleration": 11,
            "Cylinders": 8,
            "Displacement": 351,
            "Horsepower": 153,
            "Miles_per_Gallon": null,
            "Name": "ford torino (sw)",
            "Origin": "USA",
            "Weight_in_lbs": 4034,
            "Year": "1970-01-01"
           },
           {
            "Acceleration": 10.5,
            "Cylinders": 8,
            "Displacement": 383,
            "Horsepower": 175,
            "Miles_per_Gallon": null,
            "Name": "plymouth satellite (sw)",
            "Origin": "USA",
            "Weight_in_lbs": 4166,
            "Year": "1970-01-01"
           },
           {
            "Acceleration": 11,
            "Cylinders": 8,
            "Displacement": 360,
            "Horsepower": 175,
            "Miles_per_Gallon": null,
            "Name": "amc rebel sst (sw)",
            "Origin": "USA",
            "Weight_in_lbs": 3850,
            "Year": "1970-01-01"
           },
           {
            "Acceleration": 10,
            "Cylinders": 8,
            "Displacement": 383,
            "Horsepower": 170,
            "Miles_per_Gallon": 15,
            "Name": "dodge challenger se",
            "Origin": "USA",
            "Weight_in_lbs": 3563,
            "Year": "1970-01-01"
           },
           {
            "Acceleration": 8,
            "Cylinders": 8,
            "Displacement": 340,
            "Horsepower": 160,
            "Miles_per_Gallon": 14,
            "Name": "plymouth 'cuda 340",
            "Origin": "USA",
            "Weight_in_lbs": 3609,
            "Year": "1970-01-01"
           },
           {
            "Acceleration": 8,
            "Cylinders": 8,
            "Displacement": 302,
            "Horsepower": 140,
            "Miles_per_Gallon": null,
            "Name": "ford mustang boss 302",
            "Origin": "USA",
            "Weight_in_lbs": 3353,
            "Year": "1970-01-01"
           },
           {
            "Acceleration": 9.5,
            "Cylinders": 8,
            "Displacement": 400,
            "Horsepower": 150,
            "Miles_per_Gallon": 15,
            "Name": "chevrolet monte carlo",
            "Origin": "USA",
            "Weight_in_lbs": 3761,
            "Year": "1970-01-01"
           },
           {
            "Acceleration": 10,
            "Cylinders": 8,
            "Displacement": 455,
            "Horsepower": 225,
            "Miles_per_Gallon": 14,
            "Name": "buick estate wagon (sw)",
            "Origin": "USA",
            "Weight_in_lbs": 3086,
            "Year": "1970-01-01"
           },
           {
            "Acceleration": 15,
            "Cylinders": 4,
            "Displacement": 113,
            "Horsepower": 95,
            "Miles_per_Gallon": 24,
            "Name": "toyota corona mark ii",
            "Origin": "Japan",
            "Weight_in_lbs": 2372,
            "Year": "1970-01-01"
           },
           {
            "Acceleration": 15.5,
            "Cylinders": 6,
            "Displacement": 198,
            "Horsepower": 95,
            "Miles_per_Gallon": 22,
            "Name": "plymouth duster",
            "Origin": "USA",
            "Weight_in_lbs": 2833,
            "Year": "1970-01-01"
           },
           {
            "Acceleration": 15.5,
            "Cylinders": 6,
            "Displacement": 199,
            "Horsepower": 97,
            "Miles_per_Gallon": 18,
            "Name": "amc hornet",
            "Origin": "USA",
            "Weight_in_lbs": 2774,
            "Year": "1970-01-01"
           },
           {
            "Acceleration": 16,
            "Cylinders": 6,
            "Displacement": 200,
            "Horsepower": 85,
            "Miles_per_Gallon": 21,
            "Name": "ford maverick",
            "Origin": "USA",
            "Weight_in_lbs": 2587,
            "Year": "1970-01-01"
           },
           {
            "Acceleration": 14.5,
            "Cylinders": 4,
            "Displacement": 97,
            "Horsepower": 88,
            "Miles_per_Gallon": 27,
            "Name": "datsun pl510",
            "Origin": "Japan",
            "Weight_in_lbs": 2130,
            "Year": "1970-01-01"
           },
           {
            "Acceleration": 20.5,
            "Cylinders": 4,
            "Displacement": 97,
            "Horsepower": 46,
            "Miles_per_Gallon": 26,
            "Name": "volkswagen 1131 deluxe sedan",
            "Origin": "Europe",
            "Weight_in_lbs": 1835,
            "Year": "1970-01-01"
           },
           {
            "Acceleration": 17.5,
            "Cylinders": 4,
            "Displacement": 110,
            "Horsepower": 87,
            "Miles_per_Gallon": 25,
            "Name": "peugeot 504",
            "Origin": "Europe",
            "Weight_in_lbs": 2672,
            "Year": "1970-01-01"
           },
           {
            "Acceleration": 14.5,
            "Cylinders": 4,
            "Displacement": 107,
            "Horsepower": 90,
            "Miles_per_Gallon": 24,
            "Name": "audi 100 ls",
            "Origin": "Europe",
            "Weight_in_lbs": 2430,
            "Year": "1970-01-01"
           },
           {
            "Acceleration": 17.5,
            "Cylinders": 4,
            "Displacement": 104,
            "Horsepower": 95,
            "Miles_per_Gallon": 25,
            "Name": "saab 99e",
            "Origin": "Europe",
            "Weight_in_lbs": 2375,
            "Year": "1970-01-01"
           },
           {
            "Acceleration": 12.5,
            "Cylinders": 4,
            "Displacement": 121,
            "Horsepower": 113,
            "Miles_per_Gallon": 26,
            "Name": "bmw 2002",
            "Origin": "Europe",
            "Weight_in_lbs": 2234,
            "Year": "1970-01-01"
           },
           {
            "Acceleration": 15,
            "Cylinders": 6,
            "Displacement": 199,
            "Horsepower": 90,
            "Miles_per_Gallon": 21,
            "Name": "amc gremlin",
            "Origin": "USA",
            "Weight_in_lbs": 2648,
            "Year": "1970-01-01"
           },
           {
            "Acceleration": 14,
            "Cylinders": 8,
            "Displacement": 360,
            "Horsepower": 215,
            "Miles_per_Gallon": 10,
            "Name": "ford f250",
            "Origin": "USA",
            "Weight_in_lbs": 4615,
            "Year": "1970-01-01"
           },
           {
            "Acceleration": 15,
            "Cylinders": 8,
            "Displacement": 307,
            "Horsepower": 200,
            "Miles_per_Gallon": 10,
            "Name": "chevy c20",
            "Origin": "USA",
            "Weight_in_lbs": 4376,
            "Year": "1970-01-01"
           },
           {
            "Acceleration": 13.5,
            "Cylinders": 8,
            "Displacement": 318,
            "Horsepower": 210,
            "Miles_per_Gallon": 11,
            "Name": "dodge d200",
            "Origin": "USA",
            "Weight_in_lbs": 4382,
            "Year": "1970-01-01"
           },
           {
            "Acceleration": 18.5,
            "Cylinders": 8,
            "Displacement": 304,
            "Horsepower": 193,
            "Miles_per_Gallon": 9,
            "Name": "hi 1200d",
            "Origin": "USA",
            "Weight_in_lbs": 4732,
            "Year": "1970-01-01"
           },
           {
            "Acceleration": 14.5,
            "Cylinders": 4,
            "Displacement": 97,
            "Horsepower": 88,
            "Miles_per_Gallon": 27,
            "Name": "datsun pl510",
            "Origin": "Japan",
            "Weight_in_lbs": 2130,
            "Year": "1971-01-01"
           },
           {
            "Acceleration": 15.5,
            "Cylinders": 4,
            "Displacement": 140,
            "Horsepower": 90,
            "Miles_per_Gallon": 28,
            "Name": "chevrolet vega 2300",
            "Origin": "USA",
            "Weight_in_lbs": 2264,
            "Year": "1971-01-01"
           },
           {
            "Acceleration": 14,
            "Cylinders": 4,
            "Displacement": 113,
            "Horsepower": 95,
            "Miles_per_Gallon": 25,
            "Name": "toyota corona",
            "Origin": "Japan",
            "Weight_in_lbs": 2228,
            "Year": "1971-01-01"
           },
           {
            "Acceleration": 19,
            "Cylinders": 4,
            "Displacement": 98,
            "Horsepower": null,
            "Miles_per_Gallon": 25,
            "Name": "ford pinto",
            "Origin": "USA",
            "Weight_in_lbs": 2046,
            "Year": "1971-01-01"
           },
           {
            "Acceleration": 20,
            "Cylinders": 4,
            "Displacement": 97,
            "Horsepower": 48,
            "Miles_per_Gallon": null,
            "Name": "volkswagen super beetle 117",
            "Origin": "Europe",
            "Weight_in_lbs": 1978,
            "Year": "1971-01-01"
           },
           {
            "Acceleration": 13,
            "Cylinders": 6,
            "Displacement": 232,
            "Horsepower": 100,
            "Miles_per_Gallon": 19,
            "Name": "amc gremlin",
            "Origin": "USA",
            "Weight_in_lbs": 2634,
            "Year": "1971-01-01"
           },
           {
            "Acceleration": 15.5,
            "Cylinders": 6,
            "Displacement": 225,
            "Horsepower": 105,
            "Miles_per_Gallon": 16,
            "Name": "plymouth satellite custom",
            "Origin": "USA",
            "Weight_in_lbs": 3439,
            "Year": "1971-01-01"
           },
           {
            "Acceleration": 15.5,
            "Cylinders": 6,
            "Displacement": 250,
            "Horsepower": 100,
            "Miles_per_Gallon": 17,
            "Name": "chevrolet chevelle malibu",
            "Origin": "USA",
            "Weight_in_lbs": 3329,
            "Year": "1971-01-01"
           },
           {
            "Acceleration": 15.5,
            "Cylinders": 6,
            "Displacement": 250,
            "Horsepower": 88,
            "Miles_per_Gallon": 19,
            "Name": "ford torino 500",
            "Origin": "USA",
            "Weight_in_lbs": 3302,
            "Year": "1971-01-01"
           },
           {
            "Acceleration": 15.5,
            "Cylinders": 6,
            "Displacement": 232,
            "Horsepower": 100,
            "Miles_per_Gallon": 18,
            "Name": "amc matador",
            "Origin": "USA",
            "Weight_in_lbs": 3288,
            "Year": "1971-01-01"
           },
           {
            "Acceleration": 12,
            "Cylinders": 8,
            "Displacement": 350,
            "Horsepower": 165,
            "Miles_per_Gallon": 14,
            "Name": "chevrolet impala",
            "Origin": "USA",
            "Weight_in_lbs": 4209,
            "Year": "1971-01-01"
           },
           {
            "Acceleration": 11.5,
            "Cylinders": 8,
            "Displacement": 400,
            "Horsepower": 175,
            "Miles_per_Gallon": 14,
            "Name": "pontiac catalina brougham",
            "Origin": "USA",
            "Weight_in_lbs": 4464,
            "Year": "1971-01-01"
           },
           {
            "Acceleration": 13.5,
            "Cylinders": 8,
            "Displacement": 351,
            "Horsepower": 153,
            "Miles_per_Gallon": 14,
            "Name": "ford galaxie 500",
            "Origin": "USA",
            "Weight_in_lbs": 4154,
            "Year": "1971-01-01"
           },
           {
            "Acceleration": 13,
            "Cylinders": 8,
            "Displacement": 318,
            "Horsepower": 150,
            "Miles_per_Gallon": 14,
            "Name": "plymouth fury iii",
            "Origin": "USA",
            "Weight_in_lbs": 4096,
            "Year": "1971-01-01"
           },
           {
            "Acceleration": 11.5,
            "Cylinders": 8,
            "Displacement": 383,
            "Horsepower": 180,
            "Miles_per_Gallon": 12,
            "Name": "dodge monaco (sw)",
            "Origin": "USA",
            "Weight_in_lbs": 4955,
            "Year": "1971-01-01"
           },
           {
            "Acceleration": 12,
            "Cylinders": 8,
            "Displacement": 400,
            "Horsepower": 170,
            "Miles_per_Gallon": 13,
            "Name": "ford country squire (sw)",
            "Origin": "USA",
            "Weight_in_lbs": 4746,
            "Year": "1971-01-01"
           },
           {
            "Acceleration": 12,
            "Cylinders": 8,
            "Displacement": 400,
            "Horsepower": 175,
            "Miles_per_Gallon": 13,
            "Name": "pontiac safari (sw)",
            "Origin": "USA",
            "Weight_in_lbs": 5140,
            "Year": "1971-01-01"
           },
           {
            "Acceleration": 13.5,
            "Cylinders": 6,
            "Displacement": 258,
            "Horsepower": 110,
            "Miles_per_Gallon": 18,
            "Name": "amc hornet sportabout (sw)",
            "Origin": "USA",
            "Weight_in_lbs": 2962,
            "Year": "1971-01-01"
           },
           {
            "Acceleration": 19,
            "Cylinders": 4,
            "Displacement": 140,
            "Horsepower": 72,
            "Miles_per_Gallon": 22,
            "Name": "chevrolet vega (sw)",
            "Origin": "USA",
            "Weight_in_lbs": 2408,
            "Year": "1971-01-01"
           },
           {
            "Acceleration": 15,
            "Cylinders": 6,
            "Displacement": 250,
            "Horsepower": 100,
            "Miles_per_Gallon": 19,
            "Name": "pontiac firebird",
            "Origin": "USA",
            "Weight_in_lbs": 3282,
            "Year": "1971-01-01"
           },
           {
            "Acceleration": 14.5,
            "Cylinders": 6,
            "Displacement": 250,
            "Horsepower": 88,
            "Miles_per_Gallon": 18,
            "Name": "ford mustang",
            "Origin": "USA",
            "Weight_in_lbs": 3139,
            "Year": "1971-01-01"
           },
           {
            "Acceleration": 14,
            "Cylinders": 4,
            "Displacement": 122,
            "Horsepower": 86,
            "Miles_per_Gallon": 23,
            "Name": "mercury capri 2000",
            "Origin": "USA",
            "Weight_in_lbs": 2220,
            "Year": "1971-01-01"
           },
           {
            "Acceleration": 14,
            "Cylinders": 4,
            "Displacement": 116,
            "Horsepower": 90,
            "Miles_per_Gallon": 28,
            "Name": "opel 1900",
            "Origin": "Europe",
            "Weight_in_lbs": 2123,
            "Year": "1971-01-01"
           },
           {
            "Acceleration": 19.5,
            "Cylinders": 4,
            "Displacement": 79,
            "Horsepower": 70,
            "Miles_per_Gallon": 30,
            "Name": "peugeot 304",
            "Origin": "Europe",
            "Weight_in_lbs": 2074,
            "Year": "1971-01-01"
           },
           {
            "Acceleration": 14.5,
            "Cylinders": 4,
            "Displacement": 88,
            "Horsepower": 76,
            "Miles_per_Gallon": 30,
            "Name": "fiat 124b",
            "Origin": "Europe",
            "Weight_in_lbs": 2065,
            "Year": "1971-01-01"
           },
           {
            "Acceleration": 19,
            "Cylinders": 4,
            "Displacement": 71,
            "Horsepower": 65,
            "Miles_per_Gallon": 31,
            "Name": "toyota corolla 1200",
            "Origin": "Japan",
            "Weight_in_lbs": 1773,
            "Year": "1971-01-01"
           },
           {
            "Acceleration": 18,
            "Cylinders": 4,
            "Displacement": 72,
            "Horsepower": 69,
            "Miles_per_Gallon": 35,
            "Name": "datsun 1200",
            "Origin": "Japan",
            "Weight_in_lbs": 1613,
            "Year": "1971-01-01"
           },
           {
            "Acceleration": 19,
            "Cylinders": 4,
            "Displacement": 97,
            "Horsepower": 60,
            "Miles_per_Gallon": 27,
            "Name": "volkswagen model 111",
            "Origin": "Europe",
            "Weight_in_lbs": 1834,
            "Year": "1971-01-01"
           },
           {
            "Acceleration": 20.5,
            "Cylinders": 4,
            "Displacement": 91,
            "Horsepower": 70,
            "Miles_per_Gallon": 26,
            "Name": "plymouth cricket",
            "Origin": "USA",
            "Weight_in_lbs": 1955,
            "Year": "1971-01-01"
           },
           {
            "Acceleration": 15.5,
            "Cylinders": 4,
            "Displacement": 113,
            "Horsepower": 95,
            "Miles_per_Gallon": 24,
            "Name": "toyota corona hardtop",
            "Origin": "Japan",
            "Weight_in_lbs": 2278,
            "Year": "1972-01-01"
           },
           {
            "Acceleration": 17,
            "Cylinders": 4,
            "Displacement": 97.5,
            "Horsepower": 80,
            "Miles_per_Gallon": 25,
            "Name": "dodge colt hardtop",
            "Origin": "USA",
            "Weight_in_lbs": 2126,
            "Year": "1972-01-01"
           },
           {
            "Acceleration": 23.5,
            "Cylinders": 4,
            "Displacement": 97,
            "Horsepower": 54,
            "Miles_per_Gallon": 23,
            "Name": "volkswagen type 3",
            "Origin": "Europe",
            "Weight_in_lbs": 2254,
            "Year": "1972-01-01"
           },
           {
            "Acceleration": 19.5,
            "Cylinders": 4,
            "Displacement": 140,
            "Horsepower": 90,
            "Miles_per_Gallon": 20,
            "Name": "chevrolet vega",
            "Origin": "USA",
            "Weight_in_lbs": 2408,
            "Year": "1972-01-01"
           },
           {
            "Acceleration": 16.5,
            "Cylinders": 4,
            "Displacement": 122,
            "Horsepower": 86,
            "Miles_per_Gallon": 21,
            "Name": "ford pinto runabout",
            "Origin": "USA",
            "Weight_in_lbs": 2226,
            "Year": "1972-01-01"
           },
           {
            "Acceleration": 12,
            "Cylinders": 8,
            "Displacement": 350,
            "Horsepower": 165,
            "Miles_per_Gallon": 13,
            "Name": "chevrolet impala",
            "Origin": "USA",
            "Weight_in_lbs": 4274,
            "Year": "1972-01-01"
           },
           {
            "Acceleration": 12,
            "Cylinders": 8,
            "Displacement": 400,
            "Horsepower": 175,
            "Miles_per_Gallon": 14,
            "Name": "pontiac catalina",
            "Origin": "USA",
            "Weight_in_lbs": 4385,
            "Year": "1972-01-01"
           },
           {
            "Acceleration": 13.5,
            "Cylinders": 8,
            "Displacement": 318,
            "Horsepower": 150,
            "Miles_per_Gallon": 15,
            "Name": "plymouth fury iii",
            "Origin": "USA",
            "Weight_in_lbs": 4135,
            "Year": "1972-01-01"
           },
           {
            "Acceleration": 13,
            "Cylinders": 8,
            "Displacement": 351,
            "Horsepower": 153,
            "Miles_per_Gallon": 14,
            "Name": "ford galaxie 500",
            "Origin": "USA",
            "Weight_in_lbs": 4129,
            "Year": "1972-01-01"
           },
           {
            "Acceleration": 11.5,
            "Cylinders": 8,
            "Displacement": 304,
            "Horsepower": 150,
            "Miles_per_Gallon": 17,
            "Name": "amc ambassador sst",
            "Origin": "USA",
            "Weight_in_lbs": 3672,
            "Year": "1972-01-01"
           },
           {
            "Acceleration": 11,
            "Cylinders": 8,
            "Displacement": 429,
            "Horsepower": 208,
            "Miles_per_Gallon": 11,
            "Name": "mercury marquis",
            "Origin": "USA",
            "Weight_in_lbs": 4633,
            "Year": "1972-01-01"
           },
           {
            "Acceleration": 13.5,
            "Cylinders": 8,
            "Displacement": 350,
            "Horsepower": 155,
            "Miles_per_Gallon": 13,
            "Name": "buick lesabre custom",
            "Origin": "USA",
            "Weight_in_lbs": 4502,
            "Year": "1972-01-01"
           },
           {
            "Acceleration": 13.5,
            "Cylinders": 8,
            "Displacement": 350,
            "Horsepower": 160,
            "Miles_per_Gallon": 12,
            "Name": "oldsmobile delta 88 royale",
            "Origin": "USA",
            "Weight_in_lbs": 4456,
            "Year": "1972-01-01"
           },
           {
            "Acceleration": 12.5,
            "Cylinders": 8,
            "Displacement": 400,
            "Horsepower": 190,
            "Miles_per_Gallon": 13,
            "Name": "chrysler newport royal",
            "Origin": "USA",
            "Weight_in_lbs": 4422,
            "Year": "1972-01-01"
           },
           {
            "Acceleration": 13.5,
            "Cylinders": 3,
            "Displacement": 70,
            "Horsepower": 97,
            "Miles_per_Gallon": 19,
            "Name": "mazda rx2 coupe",
            "Origin": "Japan",
            "Weight_in_lbs": 2330,
            "Year": "1972-01-01"
           },
           {
            "Acceleration": 12.5,
            "Cylinders": 8,
            "Displacement": 304,
            "Horsepower": 150,
            "Miles_per_Gallon": 15,
            "Name": "amc matador (sw)",
            "Origin": "USA",
            "Weight_in_lbs": 3892,
            "Year": "1972-01-01"
           },
           {
            "Acceleration": 14,
            "Cylinders": 8,
            "Displacement": 307,
            "Horsepower": 130,
            "Miles_per_Gallon": 13,
            "Name": "chevrolet chevelle concours (sw)",
            "Origin": "USA",
            "Weight_in_lbs": 4098,
            "Year": "1972-01-01"
           },
           {
            "Acceleration": 16,
            "Cylinders": 8,
            "Displacement": 302,
            "Horsepower": 140,
            "Miles_per_Gallon": 13,
            "Name": "ford gran torino (sw)",
            "Origin": "USA",
            "Weight_in_lbs": 4294,
            "Year": "1972-01-01"
           },
           {
            "Acceleration": 14,
            "Cylinders": 8,
            "Displacement": 318,
            "Horsepower": 150,
            "Miles_per_Gallon": 14,
            "Name": "plymouth satellite custom (sw)",
            "Origin": "USA",
            "Weight_in_lbs": 4077,
            "Year": "1972-01-01"
           },
           {
            "Acceleration": 14.5,
            "Cylinders": 4,
            "Displacement": 121,
            "Horsepower": 112,
            "Miles_per_Gallon": 18,
            "Name": "volvo 145e (sw)",
            "Origin": "Europe",
            "Weight_in_lbs": 2933,
            "Year": "1972-01-01"
           },
           {
            "Acceleration": 18,
            "Cylinders": 4,
            "Displacement": 121,
            "Horsepower": 76,
            "Miles_per_Gallon": 22,
            "Name": "volkswagen 411 (sw)",
            "Origin": "Europe",
            "Weight_in_lbs": 2511,
            "Year": "1972-01-01"
           },
           {
            "Acceleration": 19.5,
            "Cylinders": 4,
            "Displacement": 120,
            "Horsepower": 87,
            "Miles_per_Gallon": 21,
            "Name": "peugeot 504 (sw)",
            "Origin": "Europe",
            "Weight_in_lbs": 2979,
            "Year": "1972-01-01"
           },
           {
            "Acceleration": 18,
            "Cylinders": 4,
            "Displacement": 96,
            "Horsepower": 69,
            "Miles_per_Gallon": 26,
            "Name": "renault 12 (sw)",
            "Origin": "Europe",
            "Weight_in_lbs": 2189,
            "Year": "1972-01-01"
           },
           {
            "Acceleration": 16,
            "Cylinders": 4,
            "Displacement": 122,
            "Horsepower": 86,
            "Miles_per_Gallon": 22,
            "Name": "ford pinto (sw)",
            "Origin": "USA",
            "Weight_in_lbs": 2395,
            "Year": "1972-01-01"
           },
           {
            "Acceleration": 17,
            "Cylinders": 4,
            "Displacement": 97,
            "Horsepower": 92,
            "Miles_per_Gallon": 28,
            "Name": "datsun 510 (sw)",
            "Origin": "Japan",
            "Weight_in_lbs": 2288,
            "Year": "1972-01-01"
           },
           {
            "Acceleration": 14.5,
            "Cylinders": 4,
            "Displacement": 120,
            "Horsepower": 97,
            "Miles_per_Gallon": 23,
            "Name": "toyouta corona mark ii (sw)",
            "Origin": "Japan",
            "Weight_in_lbs": 2506,
            "Year": "1972-01-01"
           },
           {
            "Acceleration": 15,
            "Cylinders": 4,
            "Displacement": 98,
            "Horsepower": 80,
            "Miles_per_Gallon": 28,
            "Name": "dodge colt (sw)",
            "Origin": "USA",
            "Weight_in_lbs": 2164,
            "Year": "1972-01-01"
           },
           {
            "Acceleration": 16.5,
            "Cylinders": 4,
            "Displacement": 97,
            "Horsepower": 88,
            "Miles_per_Gallon": 27,
            "Name": "toyota corolla 1600 (sw)",
            "Origin": "Japan",
            "Weight_in_lbs": 2100,
            "Year": "1972-01-01"
           },
           {
            "Acceleration": 13,
            "Cylinders": 8,
            "Displacement": 350,
            "Horsepower": 175,
            "Miles_per_Gallon": 13,
            "Name": "buick century 350",
            "Origin": "USA",
            "Weight_in_lbs": 4100,
            "Year": "1973-01-01"
           },
           {
            "Acceleration": 11.5,
            "Cylinders": 8,
            "Displacement": 304,
            "Horsepower": 150,
            "Miles_per_Gallon": 14,
            "Name": "amc matador",
            "Origin": "USA",
            "Weight_in_lbs": 3672,
            "Year": "1973-01-01"
           },
           {
            "Acceleration": 13,
            "Cylinders": 8,
            "Displacement": 350,
            "Horsepower": 145,
            "Miles_per_Gallon": 13,
            "Name": "chevrolet malibu",
            "Origin": "USA",
            "Weight_in_lbs": 3988,
            "Year": "1973-01-01"
           },
           {
            "Acceleration": 14.5,
            "Cylinders": 8,
            "Displacement": 302,
            "Horsepower": 137,
            "Miles_per_Gallon": 14,
            "Name": "ford gran torino",
            "Origin": "USA",
            "Weight_in_lbs": 4042,
            "Year": "1973-01-01"
           },
           {
            "Acceleration": 12.5,
            "Cylinders": 8,
            "Displacement": 318,
            "Horsepower": 150,
            "Miles_per_Gallon": 15,
            "Name": "dodge coronet custom",
            "Origin": "USA",
            "Weight_in_lbs": 3777,
            "Year": "1973-01-01"
           },
           {
            "Acceleration": 11.5,
            "Cylinders": 8,
            "Displacement": 429,
            "Horsepower": 198,
            "Miles_per_Gallon": 12,
            "Name": "mercury marquis brougham",
            "Origin": "USA",
            "Weight_in_lbs": 4952,
            "Year": "1973-01-01"
           },
           {
            "Acceleration": 12,
            "Cylinders": 8,
            "Displacement": 400,
            "Horsepower": 150,
            "Miles_per_Gallon": 13,
            "Name": "chevrolet caprice classic",
            "Origin": "USA",
            "Weight_in_lbs": 4464,
            "Year": "1973-01-01"
           },
           {
            "Acceleration": 13,
            "Cylinders": 8,
            "Displacement": 351,
            "Horsepower": 158,
            "Miles_per_Gallon": 13,
            "Name": "ford ltd",
            "Origin": "USA",
            "Weight_in_lbs": 4363,
            "Year": "1973-01-01"
           },
           {
            "Acceleration": 14.5,
            "Cylinders": 8,
            "Displacement": 318,
            "Horsepower": 150,
            "Miles_per_Gallon": 14,
            "Name": "plymouth fury gran sedan",
            "Origin": "USA",
            "Weight_in_lbs": 4237,
            "Year": "1973-01-01"
           },
           {
            "Acceleration": 11,
            "Cylinders": 8,
            "Displacement": 440,
            "Horsepower": 215,
            "Miles_per_Gallon": 13,
            "Name": "chrysler new yorker brougham",
            "Origin": "USA",
            "Weight_in_lbs": 4735,
            "Year": "1973-01-01"
           },
           {
            "Acceleration": 11,
            "Cylinders": 8,
            "Displacement": 455,
            "Horsepower": 225,
            "Miles_per_Gallon": 12,
            "Name": "buick electra 225 custom",
            "Origin": "USA",
            "Weight_in_lbs": 4951,
            "Year": "1973-01-01"
           },
           {
            "Acceleration": 11,
            "Cylinders": 8,
            "Displacement": 360,
            "Horsepower": 175,
            "Miles_per_Gallon": 13,
            "Name": "amc ambassador brougham",
            "Origin": "USA",
            "Weight_in_lbs": 3821,
            "Year": "1973-01-01"
           },
           {
            "Acceleration": 16.5,
            "Cylinders": 6,
            "Displacement": 225,
            "Horsepower": 105,
            "Miles_per_Gallon": 18,
            "Name": "plymouth valiant",
            "Origin": "USA",
            "Weight_in_lbs": 3121,
            "Year": "1973-01-01"
           },
           {
            "Acceleration": 18,
            "Cylinders": 6,
            "Displacement": 250,
            "Horsepower": 100,
            "Miles_per_Gallon": 16,
            "Name": "chevrolet nova custom",
            "Origin": "USA",
            "Weight_in_lbs": 3278,
            "Year": "1973-01-01"
           },
           {
            "Acceleration": 16,
            "Cylinders": 6,
            "Displacement": 232,
            "Horsepower": 100,
            "Miles_per_Gallon": 18,
            "Name": "amc hornet",
            "Origin": "USA",
            "Weight_in_lbs": 2945,
            "Year": "1973-01-01"
           },
           {
            "Acceleration": 16.5,
            "Cylinders": 6,
            "Displacement": 250,
            "Horsepower": 88,
            "Miles_per_Gallon": 18,
            "Name": "ford maverick",
            "Origin": "USA",
            "Weight_in_lbs": 3021,
            "Year": "1973-01-01"
           },
           {
            "Acceleration": 16,
            "Cylinders": 6,
            "Displacement": 198,
            "Horsepower": 95,
            "Miles_per_Gallon": 23,
            "Name": "plymouth duster",
            "Origin": "USA",
            "Weight_in_lbs": 2904,
            "Year": "1973-01-01"
           },
           {
            "Acceleration": 21,
            "Cylinders": 4,
            "Displacement": 97,
            "Horsepower": 46,
            "Miles_per_Gallon": 26,
            "Name": "volkswagen super beetle",
            "Origin": "Europe",
            "Weight_in_lbs": 1950,
            "Year": "1973-01-01"
           },
           {
            "Acceleration": 14,
            "Cylinders": 8,
            "Displacement": 400,
            "Horsepower": 150,
            "Miles_per_Gallon": 11,
            "Name": "chevrolet impala",
            "Origin": "USA",
            "Weight_in_lbs": 4997,
            "Year": "1973-01-01"
           },
           {
            "Acceleration": 12.5,
            "Cylinders": 8,
            "Displacement": 400,
            "Horsepower": 167,
            "Miles_per_Gallon": 12,
            "Name": "ford country",
            "Origin": "USA",
            "Weight_in_lbs": 4906,
            "Year": "1973-01-01"
           },
           {
            "Acceleration": 13,
            "Cylinders": 8,
            "Displacement": 360,
            "Horsepower": 170,
            "Miles_per_Gallon": 13,
            "Name": "plymouth custom suburb",
            "Origin": "USA",
            "Weight_in_lbs": 4654,
            "Year": "1973-01-01"
           },
           {
            "Acceleration": 12.5,
            "Cylinders": 8,
            "Displacement": 350,
            "Horsepower": 180,
            "Miles_per_Gallon": 12,
            "Name": "oldsmobile vista cruiser",
            "Origin": "USA",
            "Weight_in_lbs": 4499,
            "Year": "1973-01-01"
           },
           {
            "Acceleration": 15,
            "Cylinders": 6,
            "Displacement": 232,
            "Horsepower": 100,
            "Miles_per_Gallon": 18,
            "Name": "amc gremlin",
            "Origin": "USA",
            "Weight_in_lbs": 2789,
            "Year": "1973-01-01"
           },
           {
            "Acceleration": 19,
            "Cylinders": 4,
            "Displacement": 97,
            "Horsepower": 88,
            "Miles_per_Gallon": 20,
            "Name": "toyota carina",
            "Origin": "Japan",
            "Weight_in_lbs": 2279,
            "Year": "1973-01-01"
           },
           {
            "Acceleration": 19.5,
            "Cylinders": 4,
            "Displacement": 140,
            "Horsepower": 72,
            "Miles_per_Gallon": 21,
            "Name": "chevrolet vega",
            "Origin": "USA",
            "Weight_in_lbs": 2401,
            "Year": "1973-01-01"
           },
           {
            "Acceleration": 16.5,
            "Cylinders": 4,
            "Displacement": 108,
            "Horsepower": 94,
            "Miles_per_Gallon": 22,
            "Name": "datsun 610",
            "Origin": "Japan",
            "Weight_in_lbs": 2379,
            "Year": "1973-01-01"
           },
           {
            "Acceleration": 13.5,
            "Cylinders": 3,
            "Displacement": 70,
            "Horsepower": 90,
            "Miles_per_Gallon": 18,
            "Name": "maxda rx3",
            "Origin": "Japan",
            "Weight_in_lbs": 2124,
            "Year": "1973-01-01"
           },
           {
            "Acceleration": 18.5,
            "Cylinders": 4,
            "Displacement": 122,
            "Horsepower": 85,
            "Miles_per_Gallon": 19,
            "Name": "ford pinto",
            "Origin": "USA",
            "Weight_in_lbs": 2310,
            "Year": "1973-01-01"
           },
           {
            "Acceleration": 14,
            "Cylinders": 6,
            "Displacement": 155,
            "Horsepower": 107,
            "Miles_per_Gallon": 21,
            "Name": "mercury capri v6",
            "Origin": "USA",
            "Weight_in_lbs": 2472,
            "Year": "1973-01-01"
           },
           {
            "Acceleration": 15.5,
            "Cylinders": 4,
            "Displacement": 98,
            "Horsepower": 90,
            "Miles_per_Gallon": 26,
            "Name": "fiat 124 sport coupe",
            "Origin": "Europe",
            "Weight_in_lbs": 2265,
            "Year": "1973-01-01"
           },
           {
            "Acceleration": 13,
            "Cylinders": 8,
            "Displacement": 350,
            "Horsepower": 145,
            "Miles_per_Gallon": 15,
            "Name": "chevrolet monte carlo s",
            "Origin": "USA",
            "Weight_in_lbs": 4082,
            "Year": "1973-01-01"
           },
           {
            "Acceleration": 9.5,
            "Cylinders": 8,
            "Displacement": 400,
            "Horsepower": 230,
            "Miles_per_Gallon": 16,
            "Name": "pontiac grand prix",
            "Origin": "USA",
            "Weight_in_lbs": 4278,
            "Year": "1973-01-01"
           },
           {
            "Acceleration": 19.5,
            "Cylinders": 4,
            "Displacement": 68,
            "Horsepower": 49,
            "Miles_per_Gallon": 29,
            "Name": "fiat 128",
            "Origin": "Europe",
            "Weight_in_lbs": 1867,
            "Year": "1973-01-01"
           },
           {
            "Acceleration": 15.5,
            "Cylinders": 4,
            "Displacement": 116,
            "Horsepower": 75,
            "Miles_per_Gallon": 24,
            "Name": "opel manta",
            "Origin": "Europe",
            "Weight_in_lbs": 2158,
            "Year": "1973-01-01"
           },
           {
            "Acceleration": 14,
            "Cylinders": 4,
            "Displacement": 114,
            "Horsepower": 91,
            "Miles_per_Gallon": 20,
            "Name": "audi 100ls",
            "Origin": "Europe",
            "Weight_in_lbs": 2582,
            "Year": "1973-01-01"
           },
           {
            "Acceleration": 15.5,
            "Cylinders": 4,
            "Displacement": 121,
            "Horsepower": 112,
            "Miles_per_Gallon": 19,
            "Name": "volvo 144ea",
            "Origin": "Europe",
            "Weight_in_lbs": 2868,
            "Year": "1973-01-01"
           },
           {
            "Acceleration": 11,
            "Cylinders": 8,
            "Displacement": 318,
            "Horsepower": 150,
            "Miles_per_Gallon": 15,
            "Name": "dodge dart custom",
            "Origin": "USA",
            "Weight_in_lbs": 3399,
            "Year": "1973-01-01"
           },
           {
            "Acceleration": 14,
            "Cylinders": 4,
            "Displacement": 121,
            "Horsepower": 110,
            "Miles_per_Gallon": 24,
            "Name": "saab 99le",
            "Origin": "Europe",
            "Weight_in_lbs": 2660,
            "Year": "1973-01-01"
           },
           {
            "Acceleration": 13.5,
            "Cylinders": 6,
            "Displacement": 156,
            "Horsepower": 122,
            "Miles_per_Gallon": 20,
            "Name": "toyota mark ii",
            "Origin": "Japan",
            "Weight_in_lbs": 2807,
            "Year": "1973-01-01"
           },
           {
            "Acceleration": 11,
            "Cylinders": 8,
            "Displacement": 350,
            "Horsepower": 180,
            "Miles_per_Gallon": 11,
            "Name": "oldsmobile omega",
            "Origin": "USA",
            "Weight_in_lbs": 3664,
            "Year": "1973-01-01"
           },
           {
            "Acceleration": 16.5,
            "Cylinders": 6,
            "Displacement": 198,
            "Horsepower": 95,
            "Miles_per_Gallon": 20,
            "Name": "plymouth duster",
            "Origin": "USA",
            "Weight_in_lbs": 3102,
            "Year": "1974-01-01"
           },
           {
            "Acceleration": 17,
            "Cylinders": 6,
            "Displacement": 200,
            "Horsepower": null,
            "Miles_per_Gallon": 21,
            "Name": "ford maverick",
            "Origin": "USA",
            "Weight_in_lbs": 2875,
            "Year": "1974-01-01"
           },
           {
            "Acceleration": 16,
            "Cylinders": 6,
            "Displacement": 232,
            "Horsepower": 100,
            "Miles_per_Gallon": 19,
            "Name": "amc hornet",
            "Origin": "USA",
            "Weight_in_lbs": 2901,
            "Year": "1974-01-01"
           },
           {
            "Acceleration": 17,
            "Cylinders": 6,
            "Displacement": 250,
            "Horsepower": 100,
            "Miles_per_Gallon": 15,
            "Name": "chevrolet nova",
            "Origin": "USA",
            "Weight_in_lbs": 3336,
            "Year": "1974-01-01"
           },
           {
            "Acceleration": 19,
            "Cylinders": 4,
            "Displacement": 79,
            "Horsepower": 67,
            "Miles_per_Gallon": 31,
            "Name": "datsun b210",
            "Origin": "Japan",
            "Weight_in_lbs": 1950,
            "Year": "1974-01-01"
           },
           {
            "Acceleration": 16.5,
            "Cylinders": 4,
            "Displacement": 122,
            "Horsepower": 80,
            "Miles_per_Gallon": 26,
            "Name": "ford pinto",
            "Origin": "USA",
            "Weight_in_lbs": 2451,
            "Year": "1974-01-01"
           },
           {
            "Acceleration": 21,
            "Cylinders": 4,
            "Displacement": 71,
            "Horsepower": 65,
            "Miles_per_Gallon": 32,
            "Name": "toyota corolla 1200",
            "Origin": "Japan",
            "Weight_in_lbs": 1836,
            "Year": "1974-01-01"
           },
           {
            "Acceleration": 17,
            "Cylinders": 4,
            "Displacement": 140,
            "Horsepower": 75,
            "Miles_per_Gallon": 25,
            "Name": "chevrolet vega",
            "Origin": "USA",
            "Weight_in_lbs": 2542,
            "Year": "1974-01-01"
           },
           {
            "Acceleration": 17,
            "Cylinders": 6,
            "Displacement": 250,
            "Horsepower": 100,
            "Miles_per_Gallon": 16,
            "Name": "chevrolet chevelle malibu classic",
            "Origin": "USA",
            "Weight_in_lbs": 3781,
            "Year": "1974-01-01"
           },
           {
            "Acceleration": 18,
            "Cylinders": 6,
            "Displacement": 258,
            "Horsepower": 110,
            "Miles_per_Gallon": 16,
            "Name": "amc matador",
            "Origin": "USA",
            "Weight_in_lbs": 3632,
            "Year": "1974-01-01"
           },
           {
            "Acceleration": 16.5,
            "Cylinders": 6,
            "Displacement": 225,
            "Horsepower": 105,
            "Miles_per_Gallon": 18,
            "Name": "plymouth satellite sebring",
            "Origin": "USA",
            "Weight_in_lbs": 3613,
            "Year": "1974-01-01"
           },
           {
            "Acceleration": 14,
            "Cylinders": 8,
            "Displacement": 302,
            "Horsepower": 140,
            "Miles_per_Gallon": 16,
            "Name": "ford gran torino",
            "Origin": "USA",
            "Weight_in_lbs": 4141,
            "Year": "1974-01-01"
           },
           {
            "Acceleration": 14.5,
            "Cylinders": 8,
            "Displacement": 350,
            "Horsepower": 150,
            "Miles_per_Gallon": 13,
            "Name": "buick century luxus (sw)",
            "Origin": "USA",
            "Weight_in_lbs": 4699,
            "Year": "1974-01-01"
           },
           {
            "Acceleration": 13.5,
            "Cylinders": 8,
            "Displacement": 318,
            "Horsepower": 150,
            "Miles_per_Gallon": 14,
            "Name": "dodge coronet custom (sw)",
            "Origin": "USA",
            "Weight_in_lbs": 4457,
            "Year": "1974-01-01"
           },
           {
            "Acceleration": 16,
            "Cylinders": 8,
            "Displacement": 302,
            "Horsepower": 140,
            "Miles_per_Gallon": 14,
            "Name": "ford gran torino (sw)",
            "Origin": "USA",
            "Weight_in_lbs": 4638,
            "Year": "1974-01-01"
           },
           {
            "Acceleration": 15.5,
            "Cylinders": 8,
            "Displacement": 304,
            "Horsepower": 150,
            "Miles_per_Gallon": 14,
            "Name": "amc matador (sw)",
            "Origin": "USA",
            "Weight_in_lbs": 4257,
            "Year": "1974-01-01"
           },
           {
            "Acceleration": 16.5,
            "Cylinders": 4,
            "Displacement": 98,
            "Horsepower": 83,
            "Miles_per_Gallon": 29,
            "Name": "audi fox",
            "Origin": "Europe",
            "Weight_in_lbs": 2219,
            "Year": "1974-01-01"
           },
           {
            "Acceleration": 15.5,
            "Cylinders": 4,
            "Displacement": 79,
            "Horsepower": 67,
            "Miles_per_Gallon": 26,
            "Name": "volkswagen dasher",
            "Origin": "Europe",
            "Weight_in_lbs": 1963,
            "Year": "1974-01-01"
           },
           {
            "Acceleration": 14.5,
            "Cylinders": 4,
            "Displacement": 97,
            "Horsepower": 78,
            "Miles_per_Gallon": 26,
            "Name": "opel manta",
            "Origin": "Europe",
            "Weight_in_lbs": 2300,
            "Year": "1974-01-01"
           },
           {
            "Acceleration": 16.5,
            "Cylinders": 4,
            "Displacement": 76,
            "Horsepower": 52,
            "Miles_per_Gallon": 31,
            "Name": "toyota corona",
            "Origin": "Japan",
            "Weight_in_lbs": 1649,
            "Year": "1974-01-01"
           },
           {
            "Acceleration": 19,
            "Cylinders": 4,
            "Displacement": 83,
            "Horsepower": 61,
            "Miles_per_Gallon": 32,
            "Name": "datsun 710",
            "Origin": "Japan",
            "Weight_in_lbs": 2003,
            "Year": "1974-01-01"
           },
           {
            "Acceleration": 14.5,
            "Cylinders": 4,
            "Displacement": 90,
            "Horsepower": 75,
            "Miles_per_Gallon": 28,
            "Name": "dodge colt",
            "Origin": "USA",
            "Weight_in_lbs": 2125,
            "Year": "1974-01-01"
           },
           {
            "Acceleration": 15.5,
            "Cylinders": 4,
            "Displacement": 90,
            "Horsepower": 75,
            "Miles_per_Gallon": 24,
            "Name": "fiat 128",
            "Origin": "Europe",
            "Weight_in_lbs": 2108,
            "Year": "1974-01-01"
           },
           {
            "Acceleration": 14,
            "Cylinders": 4,
            "Displacement": 116,
            "Horsepower": 75,
            "Miles_per_Gallon": 26,
            "Name": "fiat 124 tc",
            "Origin": "Europe",
            "Weight_in_lbs": 2246,
            "Year": "1974-01-01"
           },
           {
            "Acceleration": 15,
            "Cylinders": 4,
            "Displacement": 120,
            "Horsepower": 97,
            "Miles_per_Gallon": 24,
            "Name": "honda civic",
            "Origin": "Japan",
            "Weight_in_lbs": 2489,
            "Year": "1974-01-01"
           },
           {
            "Acceleration": 15.5,
            "Cylinders": 4,
            "Displacement": 108,
            "Horsepower": 93,
            "Miles_per_Gallon": 26,
            "Name": "subaru",
            "Origin": "Japan",
            "Weight_in_lbs": 2391,
            "Year": "1974-01-01"
           },
           {
            "Acceleration": 16,
            "Cylinders": 4,
            "Displacement": 79,
            "Horsepower": 67,
            "Miles_per_Gallon": 31,
            "Name": "fiat x1.9",
            "Origin": "Europe",
            "Weight_in_lbs": 2000,
            "Year": "1974-01-01"
           },
           {
            "Acceleration": 16,
            "Cylinders": 6,
            "Displacement": 225,
            "Horsepower": 95,
            "Miles_per_Gallon": 19,
            "Name": "plymouth valiant custom",
            "Origin": "USA",
            "Weight_in_lbs": 3264,
            "Year": "1975-01-01"
           },
           {
            "Acceleration": 16,
            "Cylinders": 6,
            "Displacement": 250,
            "Horsepower": 105,
            "Miles_per_Gallon": 18,
            "Name": "chevrolet nova",
            "Origin": "USA",
            "Weight_in_lbs": 3459,
            "Year": "1975-01-01"
           },
           {
            "Acceleration": 21,
            "Cylinders": 6,
            "Displacement": 250,
            "Horsepower": 72,
            "Miles_per_Gallon": 15,
            "Name": "mercury monarch",
            "Origin": "USA",
            "Weight_in_lbs": 3432,
            "Year": "1975-01-01"
           },
           {
            "Acceleration": 19.5,
            "Cylinders": 6,
            "Displacement": 250,
            "Horsepower": 72,
            "Miles_per_Gallon": 15,
            "Name": "ford maverick",
            "Origin": "USA",
            "Weight_in_lbs": 3158,
            "Year": "1975-01-01"
           },
           {
            "Acceleration": 11.5,
            "Cylinders": 8,
            "Displacement": 400,
            "Horsepower": 170,
            "Miles_per_Gallon": 16,
            "Name": "pontiac catalina",
            "Origin": "USA",
            "Weight_in_lbs": 4668,
            "Year": "1975-01-01"
           },
           {
            "Acceleration": 14,
            "Cylinders": 8,
            "Displacement": 350,
            "Horsepower": 145,
            "Miles_per_Gallon": 15,
            "Name": "chevrolet bel air",
            "Origin": "USA",
            "Weight_in_lbs": 4440,
            "Year": "1975-01-01"
           },
           {
            "Acceleration": 14.5,
            "Cylinders": 8,
            "Displacement": 318,
            "Horsepower": 150,
            "Miles_per_Gallon": 16,
            "Name": "plymouth grand fury",
            "Origin": "USA",
            "Weight_in_lbs": 4498,
            "Year": "1975-01-01"
           },
           {
            "Acceleration": 13.5,
            "Cylinders": 8,
            "Displacement": 351,
            "Horsepower": 148,
            "Miles_per_Gallon": 14,
            "Name": "ford ltd",
            "Origin": "USA",
            "Weight_in_lbs": 4657,
            "Year": "1975-01-01"
           },
           {
            "Acceleration": 21,
            "Cylinders": 6,
            "Displacement": 231,
            "Horsepower": 110,
            "Miles_per_Gallon": 17,
            "Name": "buick century",
            "Origin": "USA",
            "Weight_in_lbs": 3907,
            "Year": "1975-01-01"
           },
           {
            "Acceleration": 18.5,
            "Cylinders": 6,
            "Displacement": 250,
            "Horsepower": 105,
            "Miles_per_Gallon": 16,
            "Name": "chevroelt chevelle malibu",
            "Origin": "USA",
            "Weight_in_lbs": 3897,
            "Year": "1975-01-01"
           },
           {
            "Acceleration": 19,
            "Cylinders": 6,
            "Displacement": 258,
            "Horsepower": 110,
            "Miles_per_Gallon": 15,
            "Name": "amc matador",
            "Origin": "USA",
            "Weight_in_lbs": 3730,
            "Year": "1975-01-01"
           },
           {
            "Acceleration": 19,
            "Cylinders": 6,
            "Displacement": 225,
            "Horsepower": 95,
            "Miles_per_Gallon": 18,
            "Name": "plymouth fury",
            "Origin": "USA",
            "Weight_in_lbs": 3785,
            "Year": "1975-01-01"
           },
           {
            "Acceleration": 15,
            "Cylinders": 6,
            "Displacement": 231,
            "Horsepower": 110,
            "Miles_per_Gallon": 21,
            "Name": "buick skyhawk",
            "Origin": "USA",
            "Weight_in_lbs": 3039,
            "Year": "1975-01-01"
           },
           {
            "Acceleration": 13.5,
            "Cylinders": 8,
            "Displacement": 262,
            "Horsepower": 110,
            "Miles_per_Gallon": 20,
            "Name": "chevrolet monza 2+2",
            "Origin": "USA",
            "Weight_in_lbs": 3221,
            "Year": "1975-01-01"
           },
           {
            "Acceleration": 12,
            "Cylinders": 8,
            "Displacement": 302,
            "Horsepower": 129,
            "Miles_per_Gallon": 13,
            "Name": "ford mustang ii",
            "Origin": "USA",
            "Weight_in_lbs": 3169,
            "Year": "1975-01-01"
           },
           {
            "Acceleration": 16,
            "Cylinders": 4,
            "Displacement": 97,
            "Horsepower": 75,
            "Miles_per_Gallon": 29,
            "Name": "toyota corolla",
            "Origin": "Japan",
            "Weight_in_lbs": 2171,
            "Year": "1975-01-01"
           },
           {
            "Acceleration": 17,
            "Cylinders": 4,
            "Displacement": 140,
            "Horsepower": 83,
            "Miles_per_Gallon": 23,
            "Name": "ford pinto",
            "Origin": "USA",
            "Weight_in_lbs": 2639,
            "Year": "1975-01-01"
           },
           {
            "Acceleration": 16,
            "Cylinders": 6,
            "Displacement": 232,
            "Horsepower": 100,
            "Miles_per_Gallon": 20,
            "Name": "amc gremlin",
            "Origin": "USA",
            "Weight_in_lbs": 2914,
            "Year": "1975-01-01"
           },
           {
            "Acceleration": 18.5,
            "Cylinders": 4,
            "Displacement": 140,
            "Horsepower": 78,
            "Miles_per_Gallon": 23,
            "Name": "pontiac astro",
            "Origin": "USA",
            "Weight_in_lbs": 2592,
            "Year": "1975-01-01"
           },
           {
            "Acceleration": 13.5,
            "Cylinders": 4,
            "Displacement": 134,
            "Horsepower": 96,
            "Miles_per_Gallon": 24,
            "Name": "toyota corona",
            "Origin": "Japan",
            "Weight_in_lbs": 2702,
            "Year": "1975-01-01"
           },
           {
            "Acceleration": 16.5,
            "Cylinders": 4,
            "Displacement": 90,
            "Horsepower": 71,
            "Miles_per_Gallon": 25,
            "Name": "volkswagen dasher",
            "Origin": "Europe",
            "Weight_in_lbs": 2223,
            "Year": "1975-01-01"
           },
           {
            "Acceleration": 17,
            "Cylinders": 4,
            "Displacement": 119,
            "Horsepower": 97,
            "Miles_per_Gallon": 24,
            "Name": "datsun 710",
            "Origin": "Japan",
            "Weight_in_lbs": 2545,
            "Year": "1975-01-01"
           },
           {
            "Acceleration": 14.5,
            "Cylinders": 6,
            "Displacement": 171,
            "Horsepower": 97,
            "Miles_per_Gallon": 18,
            "Name": "ford pinto",
            "Origin": "USA",
            "Weight_in_lbs": 2984,
            "Year": "1975-01-01"
           },
           {
            "Acceleration": 14,
            "Cylinders": 4,
            "Displacement": 90,
            "Horsepower": 70,
            "Miles_per_Gallon": 29,
            "Name": "volkswagen rabbit",
            "Origin": "Europe",
            "Weight_in_lbs": 1937,
            "Year": "1975-01-01"
           },
           {
            "Acceleration": 17,
            "Cylinders": 6,
            "Displacement": 232,
            "Horsepower": 90,
            "Miles_per_Gallon": 19,
            "Name": "amc pacer",
            "Origin": "USA",
            "Weight_in_lbs": 3211,
            "Year": "1975-01-01"
           },
           {
            "Acceleration": 15,
            "Cylinders": 4,
            "Displacement": 115,
            "Horsepower": 95,
            "Miles_per_Gallon": 23,
            "Name": "audi 100ls",
            "Origin": "Europe",
            "Weight_in_lbs": 2694,
            "Year": "1975-01-01"
           },
           {
            "Acceleration": 17,
            "Cylinders": 4,
            "Displacement": 120,
            "Horsepower": 88,
            "Miles_per_Gallon": 23,
            "Name": "peugeot 504",
            "Origin": "Europe",
            "Weight_in_lbs": 2957,
            "Year": "1975-01-01"
           },
           {
            "Acceleration": 14.5,
            "Cylinders": 4,
            "Displacement": 121,
            "Horsepower": 98,
            "Miles_per_Gallon": 22,
            "Name": "volvo 244dl",
            "Origin": "Europe",
            "Weight_in_lbs": 2945,
            "Year": "1975-01-01"
           },
           {
            "Acceleration": 13.5,
            "Cylinders": 4,
            "Displacement": 121,
            "Horsepower": 115,
            "Miles_per_Gallon": 25,
            "Name": "saab 99le",
            "Origin": "Europe",
            "Weight_in_lbs": 2671,
            "Year": "1975-01-01"
           },
           {
            "Acceleration": 17.5,
            "Cylinders": 4,
            "Displacement": 91,
            "Horsepower": 53,
            "Miles_per_Gallon": 33,
            "Name": "honda civic cvcc",
            "Origin": "Japan",
            "Weight_in_lbs": 1795,
            "Year": "1975-01-01"
           },
           {
            "Acceleration": 15.5,
            "Cylinders": 4,
            "Displacement": 107,
            "Horsepower": 86,
            "Miles_per_Gallon": 28,
            "Name": "fiat 131",
            "Origin": "Europe",
            "Weight_in_lbs": 2464,
            "Year": "1976-01-01"
           },
           {
            "Acceleration": 16.9,
            "Cylinders": 4,
            "Displacement": 116,
            "Horsepower": 81,
            "Miles_per_Gallon": 25,
            "Name": "opel 1900",
            "Origin": "Europe",
            "Weight_in_lbs": 2220,
            "Year": "1976-01-01"
           },
           {
            "Acceleration": 14.9,
            "Cylinders": 4,
            "Displacement": 140,
            "Horsepower": 92,
            "Miles_per_Gallon": 25,
            "Name": "capri ii",
            "Origin": "USA",
            "Weight_in_lbs": 2572,
            "Year": "1976-01-01"
           },
           {
            "Acceleration": 17.7,
            "Cylinders": 4,
            "Displacement": 98,
            "Horsepower": 79,
            "Miles_per_Gallon": 26,
            "Name": "dodge colt",
            "Origin": "USA",
            "Weight_in_lbs": 2255,
            "Year": "1976-01-01"
           },
           {
            "Acceleration": 15.3,
            "Cylinders": 4,
            "Displacement": 101,
            "Horsepower": 83,
            "Miles_per_Gallon": 27,
            "Name": "renault 12tl",
            "Origin": "Europe",
            "Weight_in_lbs": 2202,
            "Year": "1976-01-01"
           },
           {
            "Acceleration": 13,
            "Cylinders": 8,
            "Displacement": 305,
            "Horsepower": 140,
            "Miles_per_Gallon": 17.5,
            "Name": "chevrolet chevelle malibu classic",
            "Origin": "USA",
            "Weight_in_lbs": 4215,
            "Year": "1976-01-01"
           },
           {
            "Acceleration": 13,
            "Cylinders": 8,
            "Displacement": 318,
            "Horsepower": 150,
            "Miles_per_Gallon": 16,
            "Name": "dodge coronet brougham",
            "Origin": "USA",
            "Weight_in_lbs": 4190,
            "Year": "1976-01-01"
           },
           {
            "Acceleration": 13.9,
            "Cylinders": 8,
            "Displacement": 304,
            "Horsepower": 120,
            "Miles_per_Gallon": 15.5,
            "Name": "amc matador",
            "Origin": "USA",
            "Weight_in_lbs": 3962,
            "Year": "1976-01-01"
           },
           {
            "Acceleration": 12.8,
            "Cylinders": 8,
            "Displacement": 351,
            "Horsepower": 152,
            "Miles_per_Gallon": 14.5,
            "Name": "ford gran torino",
            "Origin": "USA",
            "Weight_in_lbs": 4215,
            "Year": "1976-01-01"
           },
           {
            "Acceleration": 15.4,
            "Cylinders": 6,
            "Displacement": 225,
            "Horsepower": 100,
            "Miles_per_Gallon": 22,
            "Name": "plymouth valiant",
            "Origin": "USA",
            "Weight_in_lbs": 3233,
            "Year": "1976-01-01"
           },
           {
            "Acceleration": 14.5,
            "Cylinders": 6,
            "Displacement": 250,
            "Horsepower": 105,
            "Miles_per_Gallon": 22,
            "Name": "chevrolet nova",
            "Origin": "USA",
            "Weight_in_lbs": 3353,
            "Year": "1976-01-01"
           },
           {
            "Acceleration": 17.6,
            "Cylinders": 6,
            "Displacement": 200,
            "Horsepower": 81,
            "Miles_per_Gallon": 24,
            "Name": "ford maverick",
            "Origin": "USA",
            "Weight_in_lbs": 3012,
            "Year": "1976-01-01"
           },
           {
            "Acceleration": 17.6,
            "Cylinders": 6,
            "Displacement": 232,
            "Horsepower": 90,
            "Miles_per_Gallon": 22.5,
            "Name": "amc hornet",
            "Origin": "USA",
            "Weight_in_lbs": 3085,
            "Year": "1976-01-01"
           },
           {
            "Acceleration": 22.2,
            "Cylinders": 4,
            "Displacement": 85,
            "Horsepower": 52,
            "Miles_per_Gallon": 29,
            "Name": "chevrolet chevette",
            "Origin": "USA",
            "Weight_in_lbs": 2035,
            "Year": "1976-01-01"
           },
           {
            "Acceleration": 22.1,
            "Cylinders": 4,
            "Displacement": 98,
            "Horsepower": 60,
            "Miles_per_Gallon": 24.5,
            "Name": "chevrolet woody",
            "Origin": "USA",
            "Weight_in_lbs": 2164,
            "Year": "1976-01-01"
           },
           {
            "Acceleration": 14.2,
            "Cylinders": 4,
            "Displacement": 90,
            "Horsepower": 70,
            "Miles_per_Gallon": 29,
            "Name": "vw rabbit",
            "Origin": "Europe",
            "Weight_in_lbs": 1937,
            "Year": "1976-01-01"
           },
           {
            "Acceleration": 17.4,
            "Cylinders": 4,
            "Displacement": 91,
            "Horsepower": 53,
            "Miles_per_Gallon": 33,
            "Name": "honda civic",
            "Origin": "Japan",
            "Weight_in_lbs": 1795,
            "Year": "1976-01-01"
           },
           {
            "Acceleration": 17.7,
            "Cylinders": 6,
            "Displacement": 225,
            "Horsepower": 100,
            "Miles_per_Gallon": 20,
            "Name": "dodge aspen se",
            "Origin": "USA",
            "Weight_in_lbs": 3651,
            "Year": "1976-01-01"
           },
           {
            "Acceleration": 21,
            "Cylinders": 6,
            "Displacement": 250,
            "Horsepower": 78,
            "Miles_per_Gallon": 18,
            "Name": "ford granada ghia",
            "Origin": "USA",
            "Weight_in_lbs": 3574,
            "Year": "1976-01-01"
           },
           {
            "Acceleration": 16.2,
            "Cylinders": 6,
            "Displacement": 250,
            "Horsepower": 110,
            "Miles_per_Gallon": 18.5,
            "Name": "pontiac ventura sj",
            "Origin": "USA",
            "Weight_in_lbs": 3645,
            "Year": "1976-01-01"
           },
           {
            "Acceleration": 17.8,
            "Cylinders": 6,
            "Displacement": 258,
            "Horsepower": 95,
            "Miles_per_Gallon": 17.5,
            "Name": "amc pacer d/l",
            "Origin": "USA",
            "Weight_in_lbs": 3193,
            "Year": "1976-01-01"
           },
           {
            "Acceleration": 12.2,
            "Cylinders": 4,
            "Displacement": 97,
            "Horsepower": 71,
            "Miles_per_Gallon": 29.5,
            "Name": "volkswagen rabbit",
            "Origin": "Europe",
            "Weight_in_lbs": 1825,
            "Year": "1976-01-01"
           },
           {
            "Acceleration": 17,
            "Cylinders": 4,
            "Displacement": 85,
            "Horsepower": 70,
            "Miles_per_Gallon": 32,
            "Name": "datsun b-210",
            "Origin": "Japan",
            "Weight_in_lbs": 1990,
            "Year": "1976-01-01"
           },
           {
            "Acceleration": 16.4,
            "Cylinders": 4,
            "Displacement": 97,
            "Horsepower": 75,
            "Miles_per_Gallon": 28,
            "Name": "toyota corolla",
            "Origin": "Japan",
            "Weight_in_lbs": 2155,
            "Year": "1976-01-01"
           },
           {
            "Acceleration": 13.6,
            "Cylinders": 4,
            "Displacement": 140,
            "Horsepower": 72,
            "Miles_per_Gallon": 26.5,
            "Name": "ford pinto",
            "Origin": "USA",
            "Weight_in_lbs": 2565,
            "Year": "1976-01-01"
           },
           {
            "Acceleration": 15.7,
            "Cylinders": 4,
            "Displacement": 130,
            "Horsepower": 102,
            "Miles_per_Gallon": 20,
            "Name": "volvo 245",
            "Origin": "Europe",
            "Weight_in_lbs": 3150,
            "Year": "1976-01-01"
           },
           {
            "Acceleration": 13.2,
            "Cylinders": 8,
            "Displacement": 318,
            "Horsepower": 150,
            "Miles_per_Gallon": 13,
            "Name": "plymouth volare premier v8",
            "Origin": "USA",
            "Weight_in_lbs": 3940,
            "Year": "1976-01-01"
           },
           {
            "Acceleration": 21.9,
            "Cylinders": 4,
            "Displacement": 120,
            "Horsepower": 88,
            "Miles_per_Gallon": 19,
            "Name": "peugeot 504",
            "Origin": "Europe",
            "Weight_in_lbs": 3270,
            "Year": "1976-01-01"
           },
           {
            "Acceleration": 15.5,
            "Cylinders": 6,
            "Displacement": 156,
            "Horsepower": 108,
            "Miles_per_Gallon": 19,
            "Name": "toyota mark ii",
            "Origin": "Japan",
            "Weight_in_lbs": 2930,
            "Year": "1976-01-01"
           },
           {
            "Acceleration": 16.7,
            "Cylinders": 6,
            "Displacement": 168,
            "Horsepower": 120,
            "Miles_per_Gallon": 16.5,
            "Name": "mercedes-benz 280s",
            "Origin": "Europe",
            "Weight_in_lbs": 3820,
            "Year": "1976-01-01"
           },
           {
            "Acceleration": 12.1,
            "Cylinders": 8,
            "Displacement": 350,
            "Horsepower": 180,
            "Miles_per_Gallon": 16.5,
            "Name": "cadillac seville",
            "Origin": "USA",
            "Weight_in_lbs": 4380,
            "Year": "1976-01-01"
           },
           {
            "Acceleration": 12,
            "Cylinders": 8,
            "Displacement": 350,
            "Horsepower": 145,
            "Miles_per_Gallon": 13,
            "Name": "chevy c10",
            "Origin": "USA",
            "Weight_in_lbs": 4055,
            "Year": "1976-01-01"
           },
           {
            "Acceleration": 15,
            "Cylinders": 8,
            "Displacement": 302,
            "Horsepower": 130,
            "Miles_per_Gallon": 13,
            "Name": "ford f108",
            "Origin": "USA",
            "Weight_in_lbs": 3870,
            "Year": "1976-01-01"
           },
           {
            "Acceleration": 14,
            "Cylinders": 8,
            "Displacement": 318,
            "Horsepower": 150,
            "Miles_per_Gallon": 13,
            "Name": "dodge d100",
            "Origin": "USA",
            "Weight_in_lbs": 3755,
            "Year": "1976-01-01"
           },
           {
            "Acceleration": 18.5,
            "Cylinders": 4,
            "Displacement": 98,
            "Horsepower": 68,
            "Miles_per_Gallon": 31.5,
            "Name": "honda Accelerationord cvcc",
            "Origin": "Japan",
            "Weight_in_lbs": 2045,
            "Year": "1977-01-01"
           },
           {
            "Acceleration": 14.8,
            "Cylinders": 4,
            "Displacement": 111,
            "Horsepower": 80,
            "Miles_per_Gallon": 30,
            "Name": "buick opel isuzu deluxe",
            "Origin": "USA",
            "Weight_in_lbs": 2155,
            "Year": "1977-01-01"
           },
           {
            "Acceleration": 18.6,
            "Cylinders": 4,
            "Displacement": 79,
            "Horsepower": 58,
            "Miles_per_Gallon": 36,
            "Name": "renault 5 gtl",
            "Origin": "Europe",
            "Weight_in_lbs": 1825,
            "Year": "1977-01-01"
           },
           {
            "Acceleration": 15.5,
            "Cylinders": 4,
            "Displacement": 122,
            "Horsepower": 96,
            "Miles_per_Gallon": 25.5,
            "Name": "plymouth arrow gs",
            "Origin": "USA",
            "Weight_in_lbs": 2300,
            "Year": "1977-01-01"
           },
           {
            "Acceleration": 16.8,
            "Cylinders": 4,
            "Displacement": 85,
            "Horsepower": 70,
            "Miles_per_Gallon": 33.5,
            "Name": "datsun f-10 hatchback",
            "Origin": "Japan",
            "Weight_in_lbs": 1945,
            "Year": "1977-01-01"
           },
           {
            "Acceleration": 12.5,
            "Cylinders": 8,
            "Displacement": 305,
            "Horsepower": 145,
            "Miles_per_Gallon": 17.5,
            "Name": "chevrolet caprice classic",
            "Origin": "USA",
            "Weight_in_lbs": 3880,
            "Year": "1977-01-01"
           },
           {
            "Acceleration": 19,
            "Cylinders": 8,
            "Displacement": 260,
            "Horsepower": 110,
            "Miles_per_Gallon": 17,
            "Name": "oldsmobile cutlass supreme",
            "Origin": "USA",
            "Weight_in_lbs": 4060,
            "Year": "1977-01-01"
           },
           {
            "Acceleration": 13.7,
            "Cylinders": 8,
            "Displacement": 318,
            "Horsepower": 145,
            "Miles_per_Gallon": 15.5,
            "Name": "dodge monaco brougham",
            "Origin": "USA",
            "Weight_in_lbs": 4140,
            "Year": "1977-01-01"
           },
           {
            "Acceleration": 14.9,
            "Cylinders": 8,
            "Displacement": 302,
            "Horsepower": 130,
            "Miles_per_Gallon": 15,
            "Name": "mercury cougar brougham",
            "Origin": "USA",
            "Weight_in_lbs": 4295,
            "Year": "1977-01-01"
           },
           {
            "Acceleration": 16.4,
            "Cylinders": 6,
            "Displacement": 250,
            "Horsepower": 110,
            "Miles_per_Gallon": 17.5,
            "Name": "chevrolet concours",
            "Origin": "USA",
            "Weight_in_lbs": 3520,
            "Year": "1977-01-01"
           },
           {
            "Acceleration": 16.9,
            "Cylinders": 6,
            "Displacement": 231,
            "Horsepower": 105,
            "Miles_per_Gallon": 20.5,
            "Name": "buick skylark",
            "Origin": "USA",
            "Weight_in_lbs": 3425,
            "Year": "1977-01-01"
           },
           {
            "Acceleration": 17.7,
            "Cylinders": 6,
            "Displacement": 225,
            "Horsepower": 100,
            "Miles_per_Gallon": 19,
            "Name": "plymouth volare custom",
            "Origin": "USA",
            "Weight_in_lbs": 3630,
            "Year": "1977-01-01"
           },
           {
            "Acceleration": 19,
            "Cylinders": 6,
            "Displacement": 250,
            "Horsepower": 98,
            "Miles_per_Gallon": 18.5,
            "Name": "ford granada",
            "Origin": "USA",
            "Weight_in_lbs": 3525,
            "Year": "1977-01-01"
           },
           {
            "Acceleration": 11.1,
            "Cylinders": 8,
            "Displacement": 400,
            "Horsepower": 180,
            "Miles_per_Gallon": 16,
            "Name": "pontiac grand prix lj",
            "Origin": "USA",
            "Weight_in_lbs": 4220,
            "Year": "1977-01-01"
           },
           {
            "Acceleration": 11.4,
            "Cylinders": 8,
            "Displacement": 350,
            "Horsepower": 170,
            "Miles_per_Gallon": 15.5,
            "Name": "chevrolet monte carlo landau",
            "Origin": "USA",
            "Weight_in_lbs": 4165,
            "Year": "1977-01-01"
           },
           {
            "Acceleration": 12.2,
            "Cylinders": 8,
            "Displacement": 400,
            "Horsepower": 190,
            "Miles_per_Gallon": 15.5,
            "Name": "chrysler cordoba",
            "Origin": "USA",
            "Weight_in_lbs": 4325,
            "Year": "1977-01-01"
           },
           {
            "Acceleration": 14.5,
            "Cylinders": 8,
            "Displacement": 351,
            "Horsepower": 149,
            "Miles_per_Gallon": 16,
            "Name": "ford thunderbird",
            "Origin": "USA",
            "Weight_in_lbs": 4335,
            "Year": "1977-01-01"
           },
           {
            "Acceleration": 14.5,
            "Cylinders": 4,
            "Displacement": 97,
            "Horsepower": 78,
            "Miles_per_Gallon": 29,
            "Name": "volkswagen rabbit custom",
            "Origin": "Europe",
            "Weight_in_lbs": 1940,
            "Year": "1977-01-01"
           },
           {
            "Acceleration": 16,
            "Cylinders": 4,
            "Displacement": 151,
            "Horsepower": 88,
            "Miles_per_Gallon": 24.5,
            "Name": "pontiac sunbird coupe",
            "Origin": "USA",
            "Weight_in_lbs": 2740,
            "Year": "1977-01-01"
           },
           {
            "Acceleration": 18.2,
            "Cylinders": 4,
            "Displacement": 97,
            "Horsepower": 75,
            "Miles_per_Gallon": 26,
            "Name": "toyota corolla liftback",
            "Origin": "Japan",
            "Weight_in_lbs": 2265,
            "Year": "1977-01-01"
           },
           {
            "Acceleration": 15.8,
            "Cylinders": 4,
            "Displacement": 140,
            "Horsepower": 89,
            "Miles_per_Gallon": 25.5,
            "Name": "ford mustang ii 2+2",
            "Origin": "USA",
            "Weight_in_lbs": 2755,
            "Year": "1977-01-01"
           },
           {
            "Acceleration": 17,
            "Cylinders": 4,
            "Displacement": 98,
            "Horsepower": 63,
            "Miles_per_Gallon": 30.5,
            "Name": "chevrolet chevette",
            "Origin": "USA",
            "Weight_in_lbs": 2051,
            "Year": "1977-01-01"
           },
           {
            "Acceleration": 15.9,
            "Cylinders": 4,
            "Displacement": 98,
            "Horsepower": 83,
            "Miles_per_Gallon": 33.5,
            "Name": "dodge colt m/m",
            "Origin": "USA",
            "Weight_in_lbs": 2075,
            "Year": "1977-01-01"
           },
           {
            "Acceleration": 16.4,
            "Cylinders": 4,
            "Displacement": 97,
            "Horsepower": 67,
            "Miles_per_Gallon": 30,
            "Name": "subaru dl",
            "Origin": "Japan",
            "Weight_in_lbs": 1985,
            "Year": "1977-01-01"
           },
           {
            "Acceleration": 14.1,
            "Cylinders": 4,
            "Displacement": 97,
            "Horsepower": 78,
            "Miles_per_Gallon": 30.5,
            "Name": "volkswagen dasher",
            "Origin": "Europe",
            "Weight_in_lbs": 2190,
            "Year": "1977-01-01"
           },
           {
            "Acceleration": 14.5,
            "Cylinders": 6,
            "Displacement": 146,
            "Horsepower": 97,
            "Miles_per_Gallon": 22,
            "Name": "datsun 810",
            "Origin": "Japan",
            "Weight_in_lbs": 2815,
            "Year": "1977-01-01"
           },
           {
            "Acceleration": 12.8,
            "Cylinders": 4,
            "Displacement": 121,
            "Horsepower": 110,
            "Miles_per_Gallon": 21.5,
            "Name": "bmw 320i",
            "Origin": "Europe",
            "Weight_in_lbs": 2600,
            "Year": "1977-01-01"
           },
           {
            "Acceleration": 13.5,
            "Cylinders": 3,
            "Displacement": 80,
            "Horsepower": 110,
            "Miles_per_Gallon": 21.5,
            "Name": "mazda rx-4",
            "Origin": "Japan",
            "Weight_in_lbs": 2720,
            "Year": "1977-01-01"
           },
           {
            "Acceleration": 21.5,
            "Cylinders": 4,
            "Displacement": 90,
            "Horsepower": 48,
            "Miles_per_Gallon": 43.1,
            "Name": "volkswagen rabbit custom diesel",
            "Origin": "Europe",
            "Weight_in_lbs": 1985,
            "Year": "1978-01-01"
           },
           {
            "Acceleration": 14.4,
            "Cylinders": 4,
            "Displacement": 98,
            "Horsepower": 66,
            "Miles_per_Gallon": 36.1,
            "Name": "ford fiesta",
            "Origin": "USA",
            "Weight_in_lbs": 1800,
            "Year": "1978-01-01"
           },
           {
            "Acceleration": 19.4,
            "Cylinders": 4,
            "Displacement": 78,
            "Horsepower": 52,
            "Miles_per_Gallon": 32.8,
            "Name": "mazda glc deluxe",
            "Origin": "Japan",
            "Weight_in_lbs": 1985,
            "Year": "1978-01-01"
           },
           {
            "Acceleration": 18.6,
            "Cylinders": 4,
            "Displacement": 85,
            "Horsepower": 70,
            "Miles_per_Gallon": 39.4,
            "Name": "datsun b210 gx",
            "Origin": "Japan",
            "Weight_in_lbs": 2070,
            "Year": "1978-01-01"
           },
           {
            "Acceleration": 16.4,
            "Cylinders": 4,
            "Displacement": 91,
            "Horsepower": 60,
            "Miles_per_Gallon": 36.1,
            "Name": "honda civic cvcc",
            "Origin": "Japan",
            "Weight_in_lbs": 1800,
            "Year": "1978-01-01"
           },
           {
            "Acceleration": 15.5,
            "Cylinders": 8,
            "Displacement": 260,
            "Horsepower": 110,
            "Miles_per_Gallon": 19.9,
            "Name": "oldsmobile cutlass salon brougham",
            "Origin": "USA",
            "Weight_in_lbs": 3365,
            "Year": "1978-01-01"
           },
           {
            "Acceleration": 13.2,
            "Cylinders": 8,
            "Displacement": 318,
            "Horsepower": 140,
            "Miles_per_Gallon": 19.4,
            "Name": "dodge diplomat",
            "Origin": "USA",
            "Weight_in_lbs": 3735,
            "Year": "1978-01-01"
           },
           {
            "Acceleration": 12.8,
            "Cylinders": 8,
            "Displacement": 302,
            "Horsepower": 139,
            "Miles_per_Gallon": 20.2,
            "Name": "mercury monarch ghia",
            "Origin": "USA",
            "Weight_in_lbs": 3570,
            "Year": "1978-01-01"
           },
           {
            "Acceleration": 19.2,
            "Cylinders": 6,
            "Displacement": 231,
            "Horsepower": 105,
            "Miles_per_Gallon": 19.2,
            "Name": "pontiac phoenix lj",
            "Origin": "USA",
            "Weight_in_lbs": 3535,
            "Year": "1978-01-01"
           },
           {
            "Acceleration": 18.2,
            "Cylinders": 6,
            "Displacement": 200,
            "Horsepower": 95,
            "Miles_per_Gallon": 20.5,
            "Name": "chevrolet malibu",
            "Origin": "USA",
            "Weight_in_lbs": 3155,
            "Year": "1978-01-01"
           },
           {
            "Acceleration": 15.8,
            "Cylinders": 6,
            "Displacement": 200,
            "Horsepower": 85,
            "Miles_per_Gallon": 20.2,
            "Name": "ford fairmont (auto)",
            "Origin": "USA",
            "Weight_in_lbs": 2965,
            "Year": "1978-01-01"
           },
           {
            "Acceleration": 15.4,
            "Cylinders": 4,
            "Displacement": 140,
            "Horsepower": 88,
            "Miles_per_Gallon": 25.1,
            "Name": "ford fairmont (man)",
            "Origin": "USA",
            "Weight_in_lbs": 2720,
            "Year": "1978-01-01"
           },
           {
            "Acceleration": 17.2,
            "Cylinders": 6,
            "Displacement": 225,
            "Horsepower": 100,
            "Miles_per_Gallon": 20.5,
            "Name": "plymouth volare",
            "Origin": "USA",
            "Weight_in_lbs": 3430,
            "Year": "1978-01-01"
           },
           {
            "Acceleration": 17.2,
            "Cylinders": 6,
            "Displacement": 232,
            "Horsepower": 90,
            "Miles_per_Gallon": 19.4,
            "Name": "amc concord",
            "Origin": "USA",
            "Weight_in_lbs": 3210,
            "Year": "1978-01-01"
           },
           {
            "Acceleration": 15.8,
            "Cylinders": 6,
            "Displacement": 231,
            "Horsepower": 105,
            "Miles_per_Gallon": 20.6,
            "Name": "buick century special",
            "Origin": "USA",
            "Weight_in_lbs": 3380,
            "Year": "1978-01-01"
           },
           {
            "Acceleration": 16.7,
            "Cylinders": 6,
            "Displacement": 200,
            "Horsepower": 85,
            "Miles_per_Gallon": 20.8,
            "Name": "mercury zephyr",
            "Origin": "USA",
            "Weight_in_lbs": 3070,
            "Year": "1978-01-01"
           },
           {
            "Acceleration": 18.7,
            "Cylinders": 6,
            "Displacement": 225,
            "Horsepower": 110,
            "Miles_per_Gallon": 18.6,
            "Name": "dodge aspen",
            "Origin": "USA",
            "Weight_in_lbs": 3620,
            "Year": "1978-01-01"
           },
           {
            "Acceleration": 15.1,
            "Cylinders": 6,
            "Displacement": 258,
            "Horsepower": 120,
            "Miles_per_Gallon": 18.1,
            "Name": "amc concord d/l",
            "Origin": "USA",
            "Weight_in_lbs": 3410,
            "Year": "1978-01-01"
           },
           {
            "Acceleration": 13.2,
            "Cylinders": 8,
            "Displacement": 305,
            "Horsepower": 145,
            "Miles_per_Gallon": 19.2,
            "Name": "chevrolet monte carlo landau",
            "Origin": "USA",
            "Weight_in_lbs": 3425,
            "Year": "1978-01-01"
           },
           {
            "Acceleration": 13.4,
            "Cylinders": 6,
            "Displacement": 231,
            "Horsepower": 165,
            "Miles_per_Gallon": 17.7,
            "Name": "buick regal sport coupe (turbo)",
            "Origin": "USA",
            "Weight_in_lbs": 3445,
            "Year": "1978-01-01"
           },
           {
            "Acceleration": 11.2,
            "Cylinders": 8,
            "Displacement": 302,
            "Horsepower": 139,
            "Miles_per_Gallon": 18.1,
            "Name": "ford futura",
            "Origin": "USA",
            "Weight_in_lbs": 3205,
            "Year": "1978-01-01"
           },
           {
            "Acceleration": 13.7,
            "Cylinders": 8,
            "Displacement": 318,
            "Horsepower": 140,
            "Miles_per_Gallon": 17.5,
            "Name": "dodge magnum xe",
            "Origin": "USA",
            "Weight_in_lbs": 4080,
            "Year": "1978-01-01"
           },
           {
            "Acceleration": 16.5,
            "Cylinders": 4,
            "Displacement": 98,
            "Horsepower": 68,
            "Miles_per_Gallon": 30,
            "Name": "chevrolet chevette",
            "Origin": "USA",
            "Weight_in_lbs": 2155,
            "Year": "1978-01-01"
           },
           {
            "Acceleration": 14.2,
            "Cylinders": 4,
            "Displacement": 134,
            "Horsepower": 95,
            "Miles_per_Gallon": 27.5,
            "Name": "toyota corona",
            "Origin": "Japan",
            "Weight_in_lbs": 2560,
            "Year": "1978-01-01"
           },
           {
            "Acceleration": 14.7,
            "Cylinders": 4,
            "Displacement": 119,
            "Horsepower": 97,
            "Miles_per_Gallon": 27.2,
            "Name": "datsun 510",
            "Origin": "Japan",
            "Weight_in_lbs": 2300,
            "Year": "1978-01-01"
           },
           {
            "Acceleration": 14.5,
            "Cylinders": 4,
            "Displacement": 105,
            "Horsepower": 75,
            "Miles_per_Gallon": 30.9,
            "Name": "dodge omni",
            "Origin": "USA",
            "Weight_in_lbs": 2230,
            "Year": "1978-01-01"
           },
           {
            "Acceleration": 14.8,
            "Cylinders": 4,
            "Displacement": 134,
            "Horsepower": 95,
            "Miles_per_Gallon": 21.1,
            "Name": "toyota celica gt liftback",
            "Origin": "Japan",
            "Weight_in_lbs": 2515,
            "Year": "1978-01-01"
           },
           {
            "Acceleration": 16.7,
            "Cylinders": 4,
            "Displacement": 156,
            "Horsepower": 105,
            "Miles_per_Gallon": 23.2,
            "Name": "plymouth sapporo",
            "Origin": "USA",
            "Weight_in_lbs": 2745,
            "Year": "1978-01-01"
           },
           {
            "Acceleration": 17.6,
            "Cylinders": 4,
            "Displacement": 151,
            "Horsepower": 85,
            "Miles_per_Gallon": 23.8,
            "Name": "oldsmobile starfire sx",
            "Origin": "USA",
            "Weight_in_lbs": 2855,
            "Year": "1978-01-01"
           },
           {
            "Acceleration": 14.9,
            "Cylinders": 4,
            "Displacement": 119,
            "Horsepower": 97,
            "Miles_per_Gallon": 23.9,
            "Name": "datsun 200-sx",
            "Origin": "Japan",
            "Weight_in_lbs": 2405,
            "Year": "1978-01-01"
           },
           {
            "Acceleration": 15.9,
            "Cylinders": 5,
            "Displacement": 131,
            "Horsepower": 103,
            "Miles_per_Gallon": 20.3,
            "Name": "audi 5000",
            "Origin": "Europe",
            "Weight_in_lbs": 2830,
            "Year": "1978-01-01"
           },
           {
            "Acceleration": 13.6,
            "Cylinders": 6,
            "Displacement": 163,
            "Horsepower": 125,
            "Miles_per_Gallon": 17,
            "Name": "volvo 264gl",
            "Origin": "Europe",
            "Weight_in_lbs": 3140,
            "Year": "1978-01-01"
           },
           {
            "Acceleration": 15.7,
            "Cylinders": 4,
            "Displacement": 121,
            "Horsepower": 115,
            "Miles_per_Gallon": 21.6,
            "Name": "saab 99gle",
            "Origin": "Europe",
            "Weight_in_lbs": 2795,
            "Year": "1978-01-01"
           },
           {
            "Acceleration": 15.8,
            "Cylinders": 6,
            "Displacement": 163,
            "Horsepower": 133,
            "Miles_per_Gallon": 16.2,
            "Name": "peugeot 604sl",
            "Origin": "Europe",
            "Weight_in_lbs": 3410,
            "Year": "1978-01-01"
           },
           {
            "Acceleration": 14.9,
            "Cylinders": 4,
            "Displacement": 89,
            "Horsepower": 71,
            "Miles_per_Gallon": 31.5,
            "Name": "volkswagen scirocco",
            "Origin": "Europe",
            "Weight_in_lbs": 1990,
            "Year": "1978-01-01"
           },
           {
            "Acceleration": 16.6,
            "Cylinders": 4,
            "Displacement": 98,
            "Horsepower": 68,
            "Miles_per_Gallon": 29.5,
            "Name": "honda Accelerationord lx",
            "Origin": "Japan",
            "Weight_in_lbs": 2135,
            "Year": "1978-01-01"
           },
           {
            "Acceleration": 15.4,
            "Cylinders": 6,
            "Displacement": 231,
            "Horsepower": 115,
            "Miles_per_Gallon": 21.5,
            "Name": "pontiac lemans v6",
            "Origin": "USA",
            "Weight_in_lbs": 3245,
            "Year": "1979-01-01"
           },
           {
            "Acceleration": 18.2,
            "Cylinders": 6,
            "Displacement": 200,
            "Horsepower": 85,
            "Miles_per_Gallon": 19.8,
            "Name": "mercury zephyr 6",
            "Origin": "USA",
            "Weight_in_lbs": 2990,
            "Year": "1979-01-01"
           },
           {
            "Acceleration": 17.3,
            "Cylinders": 4,
            "Displacement": 140,
            "Horsepower": 88,
            "Miles_per_Gallon": 22.3,
            "Name": "ford fairmont 4",
            "Origin": "USA",
            "Weight_in_lbs": 2890,
            "Year": "1979-01-01"
           },
           {
            "Acceleration": 18.2,
            "Cylinders": 6,
            "Displacement": 232,
            "Horsepower": 90,
            "Miles_per_Gallon": 20.2,
            "Name": "amc concord dl 6",
            "Origin": "USA",
            "Weight_in_lbs": 3265,
            "Year": "1979-01-01"
           },
           {
            "Acceleration": 16.6,
            "Cylinders": 6,
            "Displacement": 225,
            "Horsepower": 110,
            "Miles_per_Gallon": 20.6,
            "Name": "dodge aspen 6",
            "Origin": "USA",
            "Weight_in_lbs": 3360,
            "Year": "1979-01-01"
           },
           {
            "Acceleration": 15.4,
            "Cylinders": 8,
            "Displacement": 305,
            "Horsepower": 130,
            "Miles_per_Gallon": 17,
            "Name": "chevrolet caprice classic",
            "Origin": "USA",
            "Weight_in_lbs": 3840,
            "Year": "1979-01-01"
           },
           {
            "Acceleration": 13.4,
            "Cylinders": 8,
            "Displacement": 302,
            "Horsepower": 129,
            "Miles_per_Gallon": 17.6,
            "Name": "ford ltd landau",
            "Origin": "USA",
            "Weight_in_lbs": 3725,
            "Year": "1979-01-01"
           },
           {
            "Acceleration": 13.2,
            "Cylinders": 8,
            "Displacement": 351,
            "Horsepower": 138,
            "Miles_per_Gallon": 16.5,
            "Name": "mercury grand marquis",
            "Origin": "USA",
            "Weight_in_lbs": 3955,
            "Year": "1979-01-01"
           },
           {
            "Acceleration": 15.2,
            "Cylinders": 8,
            "Displacement": 318,
            "Horsepower": 135,
            "Miles_per_Gallon": 18.2,
            "Name": "dodge st. regis",
            "Origin": "USA",
            "Weight_in_lbs": 3830,
            "Year": "1979-01-01"
           },
           {
            "Acceleration": 14.9,
            "Cylinders": 8,
            "Displacement": 350,
            "Horsepower": 155,
            "Miles_per_Gallon": 16.9,
            "Name": "buick estate wagon (sw)",
            "Origin": "USA",
            "Weight_in_lbs": 4360,
            "Year": "1979-01-01"
           },
           {
            "Acceleration": 14.3,
            "Cylinders": 8,
            "Displacement": 351,
            "Horsepower": 142,
            "Miles_per_Gallon": 15.5,
            "Name": "ford country squire (sw)",
            "Origin": "USA",
            "Weight_in_lbs": 4054,
            "Year": "1979-01-01"
           },
           {
            "Acceleration": 15,
            "Cylinders": 8,
            "Displacement": 267,
            "Horsepower": 125,
            "Miles_per_Gallon": 19.2,
            "Name": "chevrolet malibu classic (sw)",
            "Origin": "USA",
            "Weight_in_lbs": 3605,
            "Year": "1979-01-01"
           },
           {
            "Acceleration": 13,
            "Cylinders": 8,
            "Displacement": 360,
            "Horsepower": 150,
            "Miles_per_Gallon": 18.5,
            "Name": "chrysler lebaron town @ country (sw)",
            "Origin": "USA",
            "Weight_in_lbs": 3940,
            "Year": "1979-01-01"
           },
           {
            "Acceleration": 14,
            "Cylinders": 4,
            "Displacement": 89,
            "Horsepower": 71,
            "Miles_per_Gallon": 31.9,
            "Name": "vw rabbit custom",
            "Origin": "Europe",
            "Weight_in_lbs": 1925,
            "Year": "1979-01-01"
           },
           {
            "Acceleration": 15.2,
            "Cylinders": 4,
            "Displacement": 86,
            "Horsepower": 65,
            "Miles_per_Gallon": 34.1,
            "Name": "maxda glc deluxe",
            "Origin": "Japan",
            "Weight_in_lbs": 1975,
            "Year": "1979-01-01"
           },
           {
            "Acceleration": 14.4,
            "Cylinders": 4,
            "Displacement": 98,
            "Horsepower": 80,
            "Miles_per_Gallon": 35.7,
            "Name": "dodge colt hatchback custom",
            "Origin": "USA",
            "Weight_in_lbs": 1915,
            "Year": "1979-01-01"
           },
           {
            "Acceleration": 15,
            "Cylinders": 4,
            "Displacement": 121,
            "Horsepower": 80,
            "Miles_per_Gallon": 27.4,
            "Name": "amc spirit dl",
            "Origin": "USA",
            "Weight_in_lbs": 2670,
            "Year": "1979-01-01"
           },
           {
            "Acceleration": 20.1,
            "Cylinders": 5,
            "Displacement": 183,
            "Horsepower": 77,
            "Miles_per_Gallon": 25.4,
            "Name": "mercedes benz 300d",
            "Origin": "Europe",
            "Weight_in_lbs": 3530,
            "Year": "1979-01-01"
           },
           {
            "Acceleration": 17.4,
            "Cylinders": 8,
            "Displacement": 350,
            "Horsepower": 125,
            "Miles_per_Gallon": 23,
            "Name": "cadillac eldorado",
            "Origin": "USA",
            "Weight_in_lbs": 3900,
            "Year": "1979-01-01"
           },
           {
            "Acceleration": 24.8,
            "Cylinders": 4,
            "Displacement": 141,
            "Horsepower": 71,
            "Miles_per_Gallon": 27.2,
            "Name": "peugeot 504",
            "Origin": "Europe",
            "Weight_in_lbs": 3190,
            "Year": "1979-01-01"
           },
           {
            "Acceleration": 22.2,
            "Cylinders": 8,
            "Displacement": 260,
            "Horsepower": 90,
            "Miles_per_Gallon": 23.9,
            "Name": "oldsmobile cutlass salon brougham",
            "Origin": "USA",
            "Weight_in_lbs": 3420,
            "Year": "1979-01-01"
           },
           {
            "Acceleration": 13.2,
            "Cylinders": 4,
            "Displacement": 105,
            "Horsepower": 70,
            "Miles_per_Gallon": 34.2,
            "Name": "plymouth horizon",
            "Origin": "USA",
            "Weight_in_lbs": 2200,
            "Year": "1979-01-01"
           },
           {
            "Acceleration": 14.9,
            "Cylinders": 4,
            "Displacement": 105,
            "Horsepower": 70,
            "Miles_per_Gallon": 34.5,
            "Name": "plymouth horizon tc3",
            "Origin": "USA",
            "Weight_in_lbs": 2150,
            "Year": "1979-01-01"
           },
           {
            "Acceleration": 19.2,
            "Cylinders": 4,
            "Displacement": 85,
            "Horsepower": 65,
            "Miles_per_Gallon": 31.8,
            "Name": "datsun 210",
            "Origin": "Japan",
            "Weight_in_lbs": 2020,
            "Year": "1979-01-01"
           },
           {
            "Acceleration": 14.7,
            "Cylinders": 4,
            "Displacement": 91,
            "Horsepower": 69,
            "Miles_per_Gallon": 37.3,
            "Name": "fiat strada custom",
            "Origin": "Europe",
            "Weight_in_lbs": 2130,
            "Year": "1979-01-01"
           },
           {
            "Acceleration": 16,
            "Cylinders": 4,
            "Displacement": 151,
            "Horsepower": 90,
            "Miles_per_Gallon": 28.4,
            "Name": "buick skylark limited",
            "Origin": "USA",
            "Weight_in_lbs": 2670,
            "Year": "1979-01-01"
           },
           {
            "Acceleration": 11.3,
            "Cylinders": 6,
            "Displacement": 173,
            "Horsepower": 115,
            "Miles_per_Gallon": 28.8,
            "Name": "chevrolet citation",
            "Origin": "USA",
            "Weight_in_lbs": 2595,
            "Year": "1979-01-01"
           },
           {
            "Acceleration": 12.9,
            "Cylinders": 6,
            "Displacement": 173,
            "Horsepower": 115,
            "Miles_per_Gallon": 26.8,
            "Name": "oldsmobile omega brougham",
            "Origin": "USA",
            "Weight_in_lbs": 2700,
            "Year": "1979-01-01"
           },
           {
            "Acceleration": 13.2,
            "Cylinders": 4,
            "Displacement": 151,
            "Horsepower": 90,
            "Miles_per_Gallon": 33.5,
            "Name": "pontiac phoenix",
            "Origin": "USA",
            "Weight_in_lbs": 2556,
            "Year": "1979-01-01"
           },
           {
            "Acceleration": 14.7,
            "Cylinders": 4,
            "Displacement": 98,
            "Horsepower": 76,
            "Miles_per_Gallon": 41.5,
            "Name": "vw rabbit",
            "Origin": "Europe",
            "Weight_in_lbs": 2144,
            "Year": "1980-01-01"
           },
           {
            "Acceleration": 18.8,
            "Cylinders": 4,
            "Displacement": 89,
            "Horsepower": 60,
            "Miles_per_Gallon": 38.1,
            "Name": "toyota corolla tercel",
            "Origin": "Japan",
            "Weight_in_lbs": 1968,
            "Year": "1980-01-01"
           },
           {
            "Acceleration": 15.5,
            "Cylinders": 4,
            "Displacement": 98,
            "Horsepower": 70,
            "Miles_per_Gallon": 32.1,
            "Name": "chevrolet chevette",
            "Origin": "USA",
            "Weight_in_lbs": 2120,
            "Year": "1980-01-01"
           },
           {
            "Acceleration": 16.4,
            "Cylinders": 4,
            "Displacement": 86,
            "Horsepower": 65,
            "Miles_per_Gallon": 37.2,
            "Name": "datsun 310",
            "Origin": "Japan",
            "Weight_in_lbs": 2019,
            "Year": "1980-01-01"
           },
           {
            "Acceleration": 16.5,
            "Cylinders": 4,
            "Displacement": 151,
            "Horsepower": 90,
            "Miles_per_Gallon": 28,
            "Name": "chevrolet citation",
            "Origin": "USA",
            "Weight_in_lbs": 2678,
            "Year": "1980-01-01"
           },
           {
            "Acceleration": 18.1,
            "Cylinders": 4,
            "Displacement": 140,
            "Horsepower": 88,
            "Miles_per_Gallon": 26.4,
            "Name": "ford fairmont",
            "Origin": "USA",
            "Weight_in_lbs": 2870,
            "Year": "1980-01-01"
           },
           {
            "Acceleration": 20.1,
            "Cylinders": 4,
            "Displacement": 151,
            "Horsepower": 90,
            "Miles_per_Gallon": 24.3,
            "Name": "amc concord",
            "Origin": "USA",
            "Weight_in_lbs": 3003,
            "Year": "1980-01-01"
           },
           {
            "Acceleration": 18.7,
            "Cylinders": 6,
            "Displacement": 225,
            "Horsepower": 90,
            "Miles_per_Gallon": 19.1,
            "Name": "dodge aspen",
            "Origin": "USA",
            "Weight_in_lbs": 3381,
            "Year": "1980-01-01"
           },
           {
            "Acceleration": 15.8,
            "Cylinders": 4,
            "Displacement": 97,
            "Horsepower": 78,
            "Miles_per_Gallon": 34.3,
            "Name": "audi 4000",
            "Origin": "Europe",
            "Weight_in_lbs": 2188,
            "Year": "1980-01-01"
           },
           {
            "Acceleration": 15.5,
            "Cylinders": 4,
            "Displacement": 134,
            "Horsepower": 90,
            "Miles_per_Gallon": 29.8,
            "Name": "toyota corona liftback",
            "Origin": "Japan",
            "Weight_in_lbs": 2711,
            "Year": "1980-01-01"
           },
           {
            "Acceleration": 17.5,
            "Cylinders": 4,
            "Displacement": 120,
            "Horsepower": 75,
            "Miles_per_Gallon": 31.3,
            "Name": "mazda 626",
            "Origin": "Japan",
            "Weight_in_lbs": 2542,
            "Year": "1980-01-01"
           },
           {
            "Acceleration": 15,
            "Cylinders": 4,
            "Displacement": 119,
            "Horsepower": 92,
            "Miles_per_Gallon": 37,
            "Name": "datsun 510 hatchback",
            "Origin": "Japan",
            "Weight_in_lbs": 2434,
            "Year": "1980-01-01"
           },
           {
            "Acceleration": 15.2,
            "Cylinders": 4,
            "Displacement": 108,
            "Horsepower": 75,
            "Miles_per_Gallon": 32.2,
            "Name": "toyota corolla",
            "Origin": "Japan",
            "Weight_in_lbs": 2265,
            "Year": "1980-01-01"
           },
           {
            "Acceleration": 17.9,
            "Cylinders": 4,
            "Displacement": 86,
            "Horsepower": 65,
            "Miles_per_Gallon": 46.6,
            "Name": "mazda glc",
            "Origin": "Japan",
            "Weight_in_lbs": 2110,
            "Year": "1980-01-01"
           },
           {
            "Acceleration": 14.4,
            "Cylinders": 4,
            "Displacement": 156,
            "Horsepower": 105,
            "Miles_per_Gallon": 27.9,
            "Name": "dodge colt",
            "Origin": "USA",
            "Weight_in_lbs": 2800,
            "Year": "1980-01-01"
           },
           {
            "Acceleration": 19.2,
            "Cylinders": 4,
            "Displacement": 85,
            "Horsepower": 65,
            "Miles_per_Gallon": 40.8,
            "Name": "datsun 210",
            "Origin": "Japan",
            "Weight_in_lbs": 2110,
            "Year": "1980-01-01"
           },
           {
            "Acceleration": 21.7,
            "Cylinders": 4,
            "Displacement": 90,
            "Horsepower": 48,
            "Miles_per_Gallon": 44.3,
            "Name": "vw rabbit c (diesel)",
            "Origin": "Europe",
            "Weight_in_lbs": 2085,
            "Year": "1980-01-01"
           },
           {
            "Acceleration": 23.7,
            "Cylinders": 4,
            "Displacement": 90,
            "Horsepower": 48,
            "Miles_per_Gallon": 43.4,
            "Name": "vw dasher (diesel)",
            "Origin": "Europe",
            "Weight_in_lbs": 2335,
            "Year": "1980-01-01"
           },
           {
            "Acceleration": 19.9,
            "Cylinders": 5,
            "Displacement": 121,
            "Horsepower": 67,
            "Miles_per_Gallon": 36.4,
            "Name": "audi 5000s (diesel)",
            "Origin": "Europe",
            "Weight_in_lbs": 2950,
            "Year": "1980-01-01"
           },
           {
            "Acceleration": 21.8,
            "Cylinders": 4,
            "Displacement": 146,
            "Horsepower": 67,
            "Miles_per_Gallon": 30,
            "Name": "mercedes-benz 240d",
            "Origin": "Europe",
            "Weight_in_lbs": 3250,
            "Year": "1980-01-01"
           },
           {
            "Acceleration": 13.8,
            "Cylinders": 4,
            "Displacement": 91,
            "Horsepower": 67,
            "Miles_per_Gallon": 44.6,
            "Name": "honda civic 1500 gl",
            "Origin": "Japan",
            "Weight_in_lbs": 1850,
            "Year": "1980-01-01"
           },
           {
            "Acceleration": 17.3,
            "Cylinders": 4,
            "Displacement": 85,
            "Horsepower": null,
            "Miles_per_Gallon": 40.9,
            "Name": "renault lecar deluxe",
            "Origin": "Europe",
            "Weight_in_lbs": 1835,
            "Year": "1980-01-01"
           },
           {
            "Acceleration": 18,
            "Cylinders": 4,
            "Displacement": 97,
            "Horsepower": 67,
            "Miles_per_Gallon": 33.8,
            "Name": "subaru dl",
            "Origin": "Japan",
            "Weight_in_lbs": 2145,
            "Year": "1980-01-01"
           },
           {
            "Acceleration": 15.3,
            "Cylinders": 4,
            "Displacement": 89,
            "Horsepower": 62,
            "Miles_per_Gallon": 29.8,
            "Name": "vokswagen rabbit",
            "Origin": "Europe",
            "Weight_in_lbs": 1845,
            "Year": "1980-01-01"
           },
           {
            "Acceleration": 11.4,
            "Cylinders": 6,
            "Displacement": 168,
            "Horsepower": 132,
            "Miles_per_Gallon": 32.7,
            "Name": "datsun 280-zx",
            "Origin": "Japan",
            "Weight_in_lbs": 2910,
            "Year": "1980-01-01"
           },
           {
            "Acceleration": 12.5,
            "Cylinders": 3,
            "Displacement": 70,
            "Horsepower": 100,
            "Miles_per_Gallon": 23.7,
            "Name": "mazda rx-7 gs",
            "Origin": "Japan",
            "Weight_in_lbs": 2420,
            "Year": "1980-01-01"
           },
           {
            "Acceleration": 15.1,
            "Cylinders": 4,
            "Displacement": 122,
            "Horsepower": 88,
            "Miles_per_Gallon": 35,
            "Name": "triumph tr7 coupe",
            "Origin": "Europe",
            "Weight_in_lbs": 2500,
            "Year": "1980-01-01"
           },
           {
            "Acceleration": 14.3,
            "Cylinders": 4,
            "Displacement": 140,
            "Horsepower": null,
            "Miles_per_Gallon": 23.6,
            "Name": "ford mustang cobra",
            "Origin": "USA",
            "Weight_in_lbs": 2905,
            "Year": "1980-01-01"
           },
           {
            "Acceleration": 17,
            "Cylinders": 4,
            "Displacement": 107,
            "Horsepower": 72,
            "Miles_per_Gallon": 32.4,
            "Name": "honda Accelerationord",
            "Origin": "Japan",
            "Weight_in_lbs": 2290,
            "Year": "1980-01-01"
           },
           {
            "Acceleration": 15.7,
            "Cylinders": 4,
            "Displacement": 135,
            "Horsepower": 84,
            "Miles_per_Gallon": 27.2,
            "Name": "plymouth reliant",
            "Origin": "USA",
            "Weight_in_lbs": 2490,
            "Year": "1982-01-01"
           },
           {
            "Acceleration": 16.4,
            "Cylinders": 4,
            "Displacement": 151,
            "Horsepower": 84,
            "Miles_per_Gallon": 26.6,
            "Name": "buick skylark",
            "Origin": "USA",
            "Weight_in_lbs": 2635,
            "Year": "1982-01-01"
           },
           {
            "Acceleration": 14.4,
            "Cylinders": 4,
            "Displacement": 156,
            "Horsepower": 92,
            "Miles_per_Gallon": 25.8,
            "Name": "dodge aries wagon (sw)",
            "Origin": "USA",
            "Weight_in_lbs": 2620,
            "Year": "1982-01-01"
           },
           {
            "Acceleration": 12.6,
            "Cylinders": 6,
            "Displacement": 173,
            "Horsepower": 110,
            "Miles_per_Gallon": 23.5,
            "Name": "chevrolet citation",
            "Origin": "USA",
            "Weight_in_lbs": 2725,
            "Year": "1982-01-01"
           },
           {
            "Acceleration": 12.9,
            "Cylinders": 4,
            "Displacement": 135,
            "Horsepower": 84,
            "Miles_per_Gallon": 30,
            "Name": "plymouth reliant",
            "Origin": "USA",
            "Weight_in_lbs": 2385,
            "Year": "1982-01-01"
           },
           {
            "Acceleration": 16.9,
            "Cylinders": 4,
            "Displacement": 79,
            "Horsepower": 58,
            "Miles_per_Gallon": 39.1,
            "Name": "toyota starlet",
            "Origin": "Japan",
            "Weight_in_lbs": 1755,
            "Year": "1982-01-01"
           },
           {
            "Acceleration": 16.4,
            "Cylinders": 4,
            "Displacement": 86,
            "Horsepower": 64,
            "Miles_per_Gallon": 39,
            "Name": "plymouth champ",
            "Origin": "USA",
            "Weight_in_lbs": 1875,
            "Year": "1982-01-01"
           },
           {
            "Acceleration": 16.1,
            "Cylinders": 4,
            "Displacement": 81,
            "Horsepower": 60,
            "Miles_per_Gallon": 35.1,
            "Name": "honda civic 1300",
            "Origin": "Japan",
            "Weight_in_lbs": 1760,
            "Year": "1982-01-01"
           },
           {
            "Acceleration": 17.8,
            "Cylinders": 4,
            "Displacement": 97,
            "Horsepower": 67,
            "Miles_per_Gallon": 32.3,
            "Name": "subaru",
            "Origin": "Japan",
            "Weight_in_lbs": 2065,
            "Year": "1982-01-01"
           },
           {
            "Acceleration": 19.4,
            "Cylinders": 4,
            "Displacement": 85,
            "Horsepower": 65,
            "Miles_per_Gallon": 37,
            "Name": "datsun 210",
            "Origin": "Japan",
            "Weight_in_lbs": 1975,
            "Year": "1982-01-01"
           },
           {
            "Acceleration": 17.3,
            "Cylinders": 4,
            "Displacement": 89,
            "Horsepower": 62,
            "Miles_per_Gallon": 37.7,
            "Name": "toyota tercel",
            "Origin": "Japan",
            "Weight_in_lbs": 2050,
            "Year": "1982-01-01"
           },
           {
            "Acceleration": 16,
            "Cylinders": 4,
            "Displacement": 91,
            "Horsepower": 68,
            "Miles_per_Gallon": 34.1,
            "Name": "mazda glc 4",
            "Origin": "Japan",
            "Weight_in_lbs": 1985,
            "Year": "1982-01-01"
           },
           {
            "Acceleration": 14.9,
            "Cylinders": 4,
            "Displacement": 105,
            "Horsepower": 63,
            "Miles_per_Gallon": 34.7,
            "Name": "plymouth horizon 4",
            "Origin": "USA",
            "Weight_in_lbs": 2215,
            "Year": "1982-01-01"
           },
           {
            "Acceleration": 16.2,
            "Cylinders": 4,
            "Displacement": 98,
            "Horsepower": 65,
            "Miles_per_Gallon": 34.4,
            "Name": "ford escort 4w",
            "Origin": "USA",
            "Weight_in_lbs": 2045,
            "Year": "1982-01-01"
           },
           {
            "Acceleration": 20.7,
            "Cylinders": 4,
            "Displacement": 98,
            "Horsepower": 65,
            "Miles_per_Gallon": 29.9,
            "Name": "ford escort 2h",
            "Origin": "USA",
            "Weight_in_lbs": 2380,
            "Year": "1982-01-01"
           },
           {
            "Acceleration": 14.2,
            "Cylinders": 4,
            "Displacement": 105,
            "Horsepower": 74,
            "Miles_per_Gallon": 33,
            "Name": "volkswagen jetta",
            "Origin": "Europe",
            "Weight_in_lbs": 2190,
            "Year": "1982-01-01"
           },
           {
            "Acceleration": 15.8,
            "Cylinders": 4,
            "Displacement": 100,
            "Horsepower": null,
            "Miles_per_Gallon": 34.5,
            "Name": "renault 18i",
            "Origin": "Europe",
            "Weight_in_lbs": 2320,
            "Year": "1982-01-01"
           },
           {
            "Acceleration": 14.4,
            "Cylinders": 4,
            "Displacement": 107,
            "Horsepower": 75,
            "Miles_per_Gallon": 33.7,
            "Name": "honda prelude",
            "Origin": "Japan",
            "Weight_in_lbs": 2210,
            "Year": "1982-01-01"
           },
           {
            "Acceleration": 16.8,
            "Cylinders": 4,
            "Displacement": 108,
            "Horsepower": 75,
            "Miles_per_Gallon": 32.4,
            "Name": "toyota corolla",
            "Origin": "Japan",
            "Weight_in_lbs": 2350,
            "Year": "1982-01-01"
           },
           {
            "Acceleration": 14.8,
            "Cylinders": 4,
            "Displacement": 119,
            "Horsepower": 100,
            "Miles_per_Gallon": 32.9,
            "Name": "datsun 200sx",
            "Origin": "Japan",
            "Weight_in_lbs": 2615,
            "Year": "1982-01-01"
           },
           {
            "Acceleration": 18.3,
            "Cylinders": 4,
            "Displacement": 120,
            "Horsepower": 74,
            "Miles_per_Gallon": 31.6,
            "Name": "mazda 626",
            "Origin": "Japan",
            "Weight_in_lbs": 2635,
            "Year": "1982-01-01"
           },
           {
            "Acceleration": 20.4,
            "Cylinders": 4,
            "Displacement": 141,
            "Horsepower": 80,
            "Miles_per_Gallon": 28.1,
            "Name": "peugeot 505s turbo diesel",
            "Origin": "Europe",
            "Weight_in_lbs": 3230,
            "Year": "1982-01-01"
           },
           {
            "Acceleration": 15.4,
            "Cylinders": 4,
            "Displacement": 121,
            "Horsepower": 110,
            "Miles_per_Gallon": null,
            "Name": "saab 900s",
            "Origin": "Europe",
            "Weight_in_lbs": 2800,
            "Year": "1982-01-01"
           },
           {
            "Acceleration": 19.6,
            "Cylinders": 6,
            "Displacement": 145,
            "Horsepower": 76,
            "Miles_per_Gallon": 30.7,
            "Name": "volvo diesel",
            "Origin": "Europe",
            "Weight_in_lbs": 3160,
            "Year": "1982-01-01"
           },
           {
            "Acceleration": 12.6,
            "Cylinders": 6,
            "Displacement": 168,
            "Horsepower": 116,
            "Miles_per_Gallon": 25.4,
            "Name": "toyota cressida",
            "Origin": "Japan",
            "Weight_in_lbs": 2900,
            "Year": "1982-01-01"
           },
           {
            "Acceleration": 13.8,
            "Cylinders": 6,
            "Displacement": 146,
            "Horsepower": 120,
            "Miles_per_Gallon": 24.2,
            "Name": "datsun 810 maxima",
            "Origin": "Japan",
            "Weight_in_lbs": 2930,
            "Year": "1982-01-01"
           },
           {
            "Acceleration": 15.8,
            "Cylinders": 6,
            "Displacement": 231,
            "Horsepower": 110,
            "Miles_per_Gallon": 22.4,
            "Name": "buick century",
            "Origin": "USA",
            "Weight_in_lbs": 3415,
            "Year": "1982-01-01"
           },
           {
            "Acceleration": 19,
            "Cylinders": 8,
            "Displacement": 350,
            "Horsepower": 105,
            "Miles_per_Gallon": 26.6,
            "Name": "oldsmobile cutlass ls",
            "Origin": "USA",
            "Weight_in_lbs": 3725,
            "Year": "1982-01-01"
           },
           {
            "Acceleration": 17.1,
            "Cylinders": 6,
            "Displacement": 200,
            "Horsepower": 88,
            "Miles_per_Gallon": 20.2,
            "Name": "ford granada gl",
            "Origin": "USA",
            "Weight_in_lbs": 3060,
            "Year": "1982-01-01"
           },
           {
            "Acceleration": 16.6,
            "Cylinders": 6,
            "Displacement": 225,
            "Horsepower": 85,
            "Miles_per_Gallon": 17.6,
            "Name": "chrysler lebaron salon",
            "Origin": "USA",
            "Weight_in_lbs": 3465,
            "Year": "1982-01-01"
           },
           {
            "Acceleration": 19.6,
            "Cylinders": 4,
            "Displacement": 112,
            "Horsepower": 88,
            "Miles_per_Gallon": 28,
            "Name": "chevrolet cavalier",
            "Origin": "USA",
            "Weight_in_lbs": 2605,
            "Year": "1982-01-01"
           },
           {
            "Acceleration": 18.6,
            "Cylinders": 4,
            "Displacement": 112,
            "Horsepower": 88,
            "Miles_per_Gallon": 27,
            "Name": "chevrolet cavalier wagon",
            "Origin": "USA",
            "Weight_in_lbs": 2640,
            "Year": "1982-01-01"
           },
           {
            "Acceleration": 18,
            "Cylinders": 4,
            "Displacement": 112,
            "Horsepower": 88,
            "Miles_per_Gallon": 34,
            "Name": "chevrolet cavalier 2-door",
            "Origin": "USA",
            "Weight_in_lbs": 2395,
            "Year": "1982-01-01"
           },
           {
            "Acceleration": 16.2,
            "Cylinders": 4,
            "Displacement": 112,
            "Horsepower": 85,
            "Miles_per_Gallon": 31,
            "Name": "pontiac j2000 se hatchback",
            "Origin": "USA",
            "Weight_in_lbs": 2575,
            "Year": "1982-01-01"
           },
           {
            "Acceleration": 16,
            "Cylinders": 4,
            "Displacement": 135,
            "Horsepower": 84,
            "Miles_per_Gallon": 29,
            "Name": "dodge aries se",
            "Origin": "USA",
            "Weight_in_lbs": 2525,
            "Year": "1982-01-01"
           },
           {
            "Acceleration": 18,
            "Cylinders": 4,
            "Displacement": 151,
            "Horsepower": 90,
            "Miles_per_Gallon": 27,
            "Name": "pontiac phoenix",
            "Origin": "USA",
            "Weight_in_lbs": 2735,
            "Year": "1982-01-01"
           },
           {
            "Acceleration": 16.4,
            "Cylinders": 4,
            "Displacement": 140,
            "Horsepower": 92,
            "Miles_per_Gallon": 24,
            "Name": "ford fairmont futura",
            "Origin": "USA",
            "Weight_in_lbs": 2865,
            "Year": "1982-01-01"
           },
           {
            "Acceleration": 20.5,
            "Cylinders": 4,
            "Displacement": 151,
            "Horsepower": null,
            "Miles_per_Gallon": 23,
            "Name": "amc concord dl",
            "Origin": "USA",
            "Weight_in_lbs": 3035,
            "Year": "1982-01-01"
           },
           {
            "Acceleration": 15.3,
            "Cylinders": 4,
            "Displacement": 105,
            "Horsepower": 74,
            "Miles_per_Gallon": 36,
            "Name": "volkswagen rabbit l",
            "Origin": "Europe",
            "Weight_in_lbs": 1980,
            "Year": "1982-01-01"
           },
           {
            "Acceleration": 18.2,
            "Cylinders": 4,
            "Displacement": 91,
            "Horsepower": 68,
            "Miles_per_Gallon": 37,
            "Name": "mazda glc custom l",
            "Origin": "Japan",
            "Weight_in_lbs": 2025,
            "Year": "1982-01-01"
           },
           {
            "Acceleration": 17.6,
            "Cylinders": 4,
            "Displacement": 91,
            "Horsepower": 68,
            "Miles_per_Gallon": 31,
            "Name": "mazda glc custom",
            "Origin": "Japan",
            "Weight_in_lbs": 1970,
            "Year": "1982-01-01"
           },
           {
            "Acceleration": 14.7,
            "Cylinders": 4,
            "Displacement": 105,
            "Horsepower": 63,
            "Miles_per_Gallon": 38,
            "Name": "plymouth horizon miser",
            "Origin": "USA",
            "Weight_in_lbs": 2125,
            "Year": "1982-01-01"
           },
           {
            "Acceleration": 17.3,
            "Cylinders": 4,
            "Displacement": 98,
            "Horsepower": 70,
            "Miles_per_Gallon": 36,
            "Name": "mercury lynx l",
            "Origin": "USA",
            "Weight_in_lbs": 2125,
            "Year": "1982-01-01"
           },
           {
            "Acceleration": 14.5,
            "Cylinders": 4,
            "Displacement": 120,
            "Horsepower": 88,
            "Miles_per_Gallon": 36,
            "Name": "nissan stanza xe",
            "Origin": "Japan",
            "Weight_in_lbs": 2160,
            "Year": "1982-01-01"
           },
           {
            "Acceleration": 14.5,
            "Cylinders": 4,
            "Displacement": 107,
            "Horsepower": 75,
            "Miles_per_Gallon": 36,
            "Name": "honda Accelerationord",
            "Origin": "Japan",
            "Weight_in_lbs": 2205,
            "Year": "1982-01-01"
           },
           {
            "Acceleration": 16.9,
            "Cylinders": 4,
            "Displacement": 108,
            "Horsepower": 70,
            "Miles_per_Gallon": 34,
            "Name": "toyota corolla",
            "Origin": "Japan",
            "Weight_in_lbs": 2245,
            "Year": "1982-01-01"
           },
           {
            "Acceleration": 15,
            "Cylinders": 4,
            "Displacement": 91,
            "Horsepower": 67,
            "Miles_per_Gallon": 38,
            "Name": "honda civic",
            "Origin": "Japan",
            "Weight_in_lbs": 1965,
            "Year": "1982-01-01"
           },
           {
            "Acceleration": 15.7,
            "Cylinders": 4,
            "Displacement": 91,
            "Horsepower": 67,
            "Miles_per_Gallon": 32,
            "Name": "honda civic (auto)",
            "Origin": "Japan",
            "Weight_in_lbs": 1965,
            "Year": "1982-01-01"
           },
           {
            "Acceleration": 16.2,
            "Cylinders": 4,
            "Displacement": 91,
            "Horsepower": 67,
            "Miles_per_Gallon": 38,
            "Name": "datsun 310 gx",
            "Origin": "Japan",
            "Weight_in_lbs": 1995,
            "Year": "1982-01-01"
           },
           {
            "Acceleration": 16.4,
            "Cylinders": 6,
            "Displacement": 181,
            "Horsepower": 110,
            "Miles_per_Gallon": 25,
            "Name": "buick century limited",
            "Origin": "USA",
            "Weight_in_lbs": 2945,
            "Year": "1982-01-01"
           },
           {
            "Acceleration": 17,
            "Cylinders": 6,
            "Displacement": 262,
            "Horsepower": 85,
            "Miles_per_Gallon": 38,
            "Name": "oldsmobile cutlass ciera (diesel)",
            "Origin": "USA",
            "Weight_in_lbs": 3015,
            "Year": "1982-01-01"
           },
           {
            "Acceleration": 14.5,
            "Cylinders": 4,
            "Displacement": 156,
            "Horsepower": 92,
            "Miles_per_Gallon": 26,
            "Name": "chrysler lebaron medallion",
            "Origin": "USA",
            "Weight_in_lbs": 2585,
            "Year": "1982-01-01"
           },
           {
            "Acceleration": 14.7,
            "Cylinders": 6,
            "Displacement": 232,
            "Horsepower": 112,
            "Miles_per_Gallon": 22,
            "Name": "ford granada l",
            "Origin": "USA",
            "Weight_in_lbs": 2835,
            "Year": "1982-01-01"
           },
           {
            "Acceleration": 13.9,
            "Cylinders": 4,
            "Displacement": 144,
            "Horsepower": 96,
            "Miles_per_Gallon": 32,
            "Name": "toyota celica gt",
            "Origin": "Japan",
            "Weight_in_lbs": 2665,
            "Year": "1982-01-01"
           },
           {
            "Acceleration": 13,
            "Cylinders": 4,
            "Displacement": 135,
            "Horsepower": 84,
            "Miles_per_Gallon": 36,
            "Name": "dodge charger 2.2",
            "Origin": "USA",
            "Weight_in_lbs": 2370,
            "Year": "1982-01-01"
           },
           {
            "Acceleration": 17.3,
            "Cylinders": 4,
            "Displacement": 151,
            "Horsepower": 90,
            "Miles_per_Gallon": 27,
            "Name": "chevrolet camaro",
            "Origin": "USA",
            "Weight_in_lbs": 2950,
            "Year": "1982-01-01"
           },
           {
            "Acceleration": 15.6,
            "Cylinders": 4,
            "Displacement": 140,
            "Horsepower": 86,
            "Miles_per_Gallon": 27,
            "Name": "ford mustang gl",
            "Origin": "USA",
            "Weight_in_lbs": 2790,
            "Year": "1982-01-01"
           },
           {
            "Acceleration": 24.6,
            "Cylinders": 4,
            "Displacement": 97,
            "Horsepower": 52,
            "Miles_per_Gallon": 44,
            "Name": "vw pickup",
            "Origin": "Europe",
            "Weight_in_lbs": 2130,
            "Year": "1982-01-01"
           },
           {
            "Acceleration": 11.6,
            "Cylinders": 4,
            "Displacement": 135,
            "Horsepower": 84,
            "Miles_per_Gallon": 32,
            "Name": "dodge rampage",
            "Origin": "USA",
            "Weight_in_lbs": 2295,
            "Year": "1982-01-01"
           },
           {
            "Acceleration": 18.6,
            "Cylinders": 4,
            "Displacement": 120,
            "Horsepower": 79,
            "Miles_per_Gallon": 28,
            "Name": "ford ranger",
            "Origin": "USA",
            "Weight_in_lbs": 2625,
            "Year": "1982-01-01"
           },
           {
            "Acceleration": 19.4,
            "Cylinders": 4,
            "Displacement": 119,
            "Horsepower": 82,
            "Miles_per_Gallon": 31,
            "Name": "chevy s-10",
            "Origin": "USA",
            "Weight_in_lbs": 2720,
            "Year": "1982-01-01"
           }
          ]
         },
         "encoding": {
          "color": {
           "condition": {
            "field": "Origin",
            "selection": "selector004",
            "type": "nominal"
           },
           "value": "gray"
          },
          "x": {
           "field": "Acceleration",
           "type": "quantitative"
          },
          "y": {
           "field": "Miles_per_Gallon",
           "type": "quantitative"
          }
         },
         "height": 250,
         "mark": "point",
         "selection": {
          "selector004": {
           "encodings": [
            "x",
            "y"
           ],
           "mark": {
            "fill": "#333",
            "fillOpacity": 0.125,
            "stroke": "white"
           },
           "on": "[mousedown, window:mouseup] > window:mousemove!",
           "resolve": "global",
           "translate": "[mousedown, window:mouseup] > window:mousemove!",
           "type": "interval",
           "zoom": "wheel!"
          }
         },
         "width": 250
        }
       ]
      },
      "text/plain": [
       "<VegaLite 2 object>"
      ]
     },
     "execution_count": 9,
     "metadata": {},
     "output_type": "execute_result"
    }
   ],
   "source": [
    "import altair as alt\n",
    "from vega_datasets import data\n",
    "\n",
    "cars = data.cars()\n",
    "\n",
    "brush = alt.selection(type='interval', resolve='global')\n",
    "\n",
    "base = alt.Chart(cars).mark_point().encode(\n",
    "    y='Miles_per_Gallon',\n",
    "    color=alt.condition(brush, 'Origin', alt.ColorValue('gray'))\n",
    ").properties(\n",
    "    selection=brush,\n",
    "    width=250,\n",
    "    height=250\n",
    ")\n",
    "\n",
    "chart = base.encode(x='Horsepower') | base.encode(x='Acceleration')\n",
    "chart"
   ]
  }
 ],
 "metadata": {
  "kernelspec": {
   "display_name": "Python 3",
   "language": "python",
   "name": "python3"
  },
  "language_info": {
   "codemirror_mode": {
    "name": "ipython",
    "version": 3
   },
   "file_extension": ".py",
   "mimetype": "text/x-python",
   "name": "python",
   "nbconvert_exporter": "python",
   "pygments_lexer": "ipython3",
   "version": "3.6.4"
  }
 },
 "nbformat": 4,
 "nbformat_minor": 2
}
