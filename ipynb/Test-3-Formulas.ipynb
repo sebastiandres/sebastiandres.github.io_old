{
 "cells": [
  {
   "cell_type": "markdown",
   "metadata": {},
   "source": [
    "# Fórmulas\n",
    "\n",
    "## Ecuaciones en línea\n",
    "Letras griegas como $\\alpha$ y $\\beta$\n",
    "\n",
    "## Ecuaciones multilínea\n",
    "Una forma es $$ \\sin\\alpha = 1 $$ Otra forma es \\\\[ \\sin\\alpha = 1 \\\\]\n",
    "\n",
    "## Subindice y superindice\n",
    "Cosas complejas son $x_n$ y $x^n$.\n",
    "\n",
    "## Cambios de texto\n",
    "\\\\[ x \\times \\textbf{x} \\times \\textrm{x} \\neq x^3 \\\\]"
   ]
  }
 ],
 "metadata": {
  "kernelspec": {
   "display_name": "Python 3",
   "language": "python",
   "name": "python3"
  },
  "language_info": {
   "codemirror_mode": {
    "name": "ipython",
    "version": 3
   },
   "file_extension": ".py",
   "mimetype": "text/x-python",
   "name": "python",
   "nbconvert_exporter": "python",
   "pygments_lexer": "ipython3",
   "version": "3.6.4"
  }
 },
 "nbformat": 4,
 "nbformat_minor": 2
}
